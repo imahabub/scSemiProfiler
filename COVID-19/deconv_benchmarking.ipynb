{
 "cells": [
  {
   "cell_type": "code",
   "execution_count": 2,
   "id": "1e662f24-ecbe-4e10-ba00-814c703cb38a",
   "metadata": {},
   "outputs": [],
   "source": [
    "import numpy as np\n",
    "import scanpy as sc\n",
    "import os\n",
    "import anndata\n",
    "import matplotlib.pyplot as plt\n",
    "import scipy\n",
    "from scipy.stats import wilcoxon\n",
    "from matplotlib.pyplot import figure\n",
    "import copy\n",
    "import json\n",
    "import gseapy\n",
    "from gseapy import enrichr"
   ]
  },
  {
   "cell_type": "code",
   "execution_count": 3,
   "id": "3bdb38a8-4434-4c83-9d37-4d4d54a3c7b4",
   "metadata": {
    "tags": []
   },
   "outputs": [],
   "source": [
    "\n",
    "pids=[]\n",
    "f = open('sids.txt','r')\n",
    "lines=f.readlines()\n",
    "for l in lines:\n",
    "    pids.append(l.strip())\n",
    "\n",
    "reprefile = 'training_rec/init_representatives_4.txt'    #'uncertainty2_representatives.txt'\n",
    "clusterfile = 'training_rec/init_cluster_labels_4.txt'      #'uncertainty2_cluster_labels.txt'\n",
    "\n",
    "f= open(reprefile,'r')\n",
    "lines=f.readlines()\n",
    "init_representatives=[]\n",
    "for l in lines:\n",
    "    init_representatives.append(int(l.strip().split()[0]))\n",
    "f.close()\n",
    "\n",
    "f= open(clusterfile,'r')\n",
    "init_cluster_labels=[]\n",
    "lines=f.readlines()\n",
    "for l in lines:\n",
    "    init_cluster_labels.append(int(l.strip().split()[0]))\n",
    "f.close()"
   ]
  },
  {
   "cell_type": "code",
   "execution_count": 4,
   "id": "e9c7614e-0d27-4161-a9d3-ef8935790f37",
   "metadata": {},
   "outputs": [],
   "source": [
    "pnum = 28\n",
    "rnd = int(pnum/4)\n",
    "\n",
    "reprefile = 'training_rec/eer_representatives_'+str(rnd)+'.txt'    #6000genebackup/\n",
    "#'eer_representatives_'+str(rnd)+'.txt' #'init_representatives_4.txt'    #'uncertainty2_representatives.txt'\n",
    "clusterfile = 'training_rec/eer_cluster_labels_'+str(rnd)+'.txt'\n",
    "#'eer_cluster_labels_'+str(rnd)+'.txt' #'init_cluster_labels_4.txt'      #'uncertainty2_cluster_labels.txt'\n",
    "\n",
    "f= open(reprefile,'r')\n",
    "lines=f.readlines()\n",
    "representatives=[]\n",
    "for l in lines:\n",
    "    representatives.append(int(l.strip().split()[0]))\n",
    "f.close()\n",
    "\n",
    "f= open(clusterfile,'r')\n",
    "cluster_labels=[]\n",
    "lines=f.readlines()\n",
    "for l in lines:\n",
    "    cluster_labels.append(int(l.strip().split()[0]))\n",
    "f.close()"
   ]
  },
  {
   "cell_type": "code",
   "execution_count": 8,
   "id": "3d8d985e-1b17-468f-b30f-8dc6c9b65412",
   "metadata": {},
   "outputs": [],
   "source": [
    "#pidlist = []\n",
    "#for i in init_representatives:\n",
    "#    reppid = []\n",
    "#    repdata = anndata.read_h5ad('sample_sc/'+pids[i]+'.h5ad')\n",
    "#    for j in range(repdata.X.shape[0]):\n",
    "#        reppid.append(pids[i])\n",
    "#    pidlist = pidlist + reppid\n",
    "    "
   ]
  },
  {
   "cell_type": "code",
   "execution_count": 9,
   "id": "944bff40-5438-4c31-b890-6da1f4b9d6c9",
   "metadata": {},
   "outputs": [],
   "source": [
    "#f=open('ref_pids.txt','w')\n",
    "#for i in pidlist:\n",
    "#    f.write(i+'\\n')\n",
    "#f.close()"
   ]
  },
  {
   "cell_type": "code",
   "execution_count": 5,
   "id": "bab8ac28-05ba-4e3f-8521-06c7781a5762",
   "metadata": {},
   "outputs": [],
   "source": [
    "### get highly varialbe bulk\n",
    "hvmask = np.load('hvmask.npy')\n",
    "bulkdata = anndata.read_h5ad('bulkdata.h5ad')\n",
    "hvbulkdata = bulkdata[:,hvmask]\n",
    "hvgenes = np.array(hvbulkdata.var.index)"
   ]
  },
  {
   "cell_type": "code",
   "execution_count": 6,
   "id": "6490e4a9-95f6-4475-b8d2-5e855a6f2e11",
   "metadata": {},
   "outputs": [],
   "source": [
    "gtdata=anndata.read_h5ad('gtdata_final.h5ad')"
   ]
  },
  {
   "cell_type": "raw",
   "id": "f9111c8a-533d-4e7c-8049-c97f830a32b8",
   "metadata": {},
   "source": [
    "f=open('hvbulk.txt','w')\n",
    "f.write('Gene')\n",
    "for i in range(len(pids)):\n",
    "    f.write('\\t'+str(pids[i]))\n",
    "f.write('\\n')\n",
    "for i in range(len(hvgenes)):\n",
    "    f.write(hvgenes[i])\n",
    "    for j in range(len(pids)):\n",
    "        f.write('\\t'+str(hvbulkdata.X[j,i]))\n",
    "    f.write('\\n')\n",
    "\n",
    "f.close()"
   ]
  },
  {
   "cell_type": "code",
   "execution_count": 12,
   "id": "7e2d71db-5f23-408d-983f-897a078ef64e",
   "metadata": {},
   "outputs": [
    {
     "data": {
      "text/plain": [
       "7219.874"
      ]
     },
     "execution_count": 12,
     "metadata": {},
     "output_type": "execute_result"
    }
   ],
   "source": [
    "## get single-cell reference\n",
    "# get expression matrix\n",
    "repxs = []\n",
    "for i in init_representatives:\n",
    "    repx = ((gtdata[gtdata.obs['sample_ids'] == pids[i]].X))\n",
    "    repx = np.exp(repx)-1\n",
    "    repxs.append(repx)\n",
    "repxs = np.concatenate(repxs,axis=0)\n",
    "repxs = np.array(repxs)\n",
    "repxs.max()"
   ]
  },
  {
   "cell_type": "code",
   "execution_count": 15,
   "id": "ec58e2f5-0a04-4929-80a0-53712aa59433",
   "metadata": {},
   "outputs": [],
   "source": [
    "# get labels\n",
    "reflabels = []\n",
    "for i in init_representatives:\n",
    "    repdata = gtdata[gtdata.obs['sample_ids'] == pids[i]]\n",
    "    rlbs = repdata.obs['initial_clustering']\n",
    "    reflabels.append(list(rlbs))\n",
    "reflabels = np.concatenate(reflabels,axis=0)\n",
    "\n",
    "# get genes\n",
    "genelist = list(gtdata.var.index)"
   ]
  },
  {
   "cell_type": "code",
   "execution_count": null,
   "id": "cb59fce5-61a4-452d-9804-4c3e2b4eb7de",
   "metadata": {},
   "outputs": [],
   "source": []
  },
  {
   "cell_type": "code",
   "execution_count": 17,
   "id": "c3f4dc39-6083-4374-92b3-223db51c69d1",
   "metadata": {},
   "outputs": [],
   "source": [
    "hvgenelist=genelist\n",
    "f=open('hvbulktape4.txt','w')\n",
    "f.write('GeneSymbol')\n",
    "for i in range(len(hvgenelist)):\n",
    "    f.write('\\t'+hvgenelist[i])\n",
    "f.write('\\n')\n",
    "for i in range(hvbulkdata.X.shape[0]):\n",
    "    f.write(pids[i])\n",
    "    for j in range(len(hvgenelist)):\n",
    "        f.write('\\t' + str(hvbulkdata.X[i,j]))\n",
    "    f.write('\\n')\n",
    "\n",
    "f.close()"
   ]
  },
  {
   "cell_type": "code",
   "execution_count": 18,
   "id": "2bd89d69-e085-47ab-8ffd-962fd5afcde7",
   "metadata": {},
   "outputs": [],
   "source": [
    "f=open('hvreftape4.txt','w')\n",
    "\n",
    "hvrepxs = np.array(repxs)\n",
    "f.write('GeneSymbol')\n",
    "hvgenelist = np.array(genelist)\n",
    "for i in range(len(hvgenelist)):\n",
    "    f.write('\\t'+str(hvgenelist[i]))\n",
    "f.write('\\n')\n",
    "\n",
    "for i in range(len(reflabels)):\n",
    "    f.write(reflabels[i])\n",
    "    for j in range(len(hvgenelist)): \n",
    "        f.write('\\t'+str(hvrepxs[i,j]))\n",
    "    f.write('\\n')\n",
    "\n",
    "f.close()"
   ]
  },
  {
   "cell_type": "code",
   "execution_count": null,
   "id": "b6f05522-0ad8-4369-9261-f00d2db2fdf7",
   "metadata": {},
   "outputs": [],
   "source": []
  },
  {
   "cell_type": "raw",
   "id": "7de6dfda-23ba-49eb-81d3-b0d6e7e4c75f",
   "metadata": {},
   "source": [
    "f=open('hvref.txt','w')\n",
    "\n",
    "hvrepxs = np.array(repxs)\n",
    "f.write('GeneSymbol')\n",
    "for i in range(len(reflabels)):\n",
    "    f.write('\\t'+str(reflabels[i]))\n",
    "f.write('\\n')\n",
    "hvgenelist = np.array(genelist)[hvmask]\n",
    "for i in range(len(hvgenelist)):\n",
    "    f.write(hvgenelist[i])\n",
    "    for j in range(len(reflabels)):\n",
    "        f.write('\\t'+str(hvrepxs[j,i]))\n",
    "    f.write('\\n')\n",
    "\n",
    "f.close()"
   ]
  },
  {
   "cell_type": "code",
   "execution_count": 10,
   "id": "eaa82cf4-c1e7-44f8-b81f-01ae774abb50",
   "metadata": {},
   "outputs": [],
   "source": [
    "hvmask = np.load('hvmask.npy')\n"
   ]
  },
  {
   "cell_type": "code",
   "execution_count": 9,
   "id": "cff5200f-de53-44c8-b339-5286544af566",
   "metadata": {},
   "outputs": [],
   "source": [
    "semisdata = anndata.read_h5ad('semisdata_final.h5ad')"
   ]
  },
  {
   "cell_type": "code",
   "execution_count": 30,
   "id": "290ce668-7cd4-4f89-81ae-622c152f23a4",
   "metadata": {},
   "outputs": [
    {
     "data": {
      "text/plain": [
       "AnnData object with n_obs × n_vars = 665605 × 6030\n",
       "    obs: 'status', 'status_collection', 'sampleids', 'repmask', 'IFN_score', 'initial_clustering', 'celltypes', 'states_collection_sum'\n",
       "    var: 'feature_types'\n",
       "    uns: 'celltypes_colors', 'celltypes_sizes', 'neighbors', 'paga', 'rank_genes_groups'\n",
       "    obsm: 'X_pca', 'X_pca_joint', 'X_umap'\n",
       "    obsp: 'connectivities', 'distances'"
      ]
     },
     "execution_count": 30,
     "metadata": {},
     "output_type": "execute_result"
    }
   ],
   "source": [
    "semisdata"
   ]
  },
  {
   "cell_type": "code",
   "execution_count": null,
   "id": "802ffe63-d131-4e5b-8d03-a0e92cefe34b",
   "metadata": {},
   "outputs": [
    {
     "name": "stdout",
     "output_type": "stream",
     "text": [
      "0, 1, 2, 3, 4, 5, 6, 7, 8, 9, 10, 11, 12, 13, 14, 15, 16, 17, 18, 19, 20, 21, 22, 23, 24, 25, 26, 27, 28, 29, 30, 31, 32, 33, 34, 35, 36, 37, 38, 39, 40, 41, 42, 43, 44, 45, 46, 47, 48, 49, 50, 51, 52, 53, 54, 55, 56, 57, 58, 59, 60, 61, 62, 63, 64, 65, 66, 67, 68, 69, 70, 71, 72, 73, 74, 75, "
     ]
    }
   ],
   "source": [
    "## load and pca together\n",
    "import timeit \n",
    "\n",
    "t_start = timeit.default_timer()\n",
    "\n",
    "#representatives = new_representatives#init_representatives  # newrepre\n",
    "#cluster_labels = new_cluster_labels  #init_cluster_labels #nlabels\n",
    "status = []\n",
    "status_collection = []\n",
    "states_collection_sum = []\n",
    "worst_status = []\n",
    "celltypes = []\n",
    "subtypes = []\n",
    "gts=[]\n",
    "semis=[]\n",
    "\n",
    "\n",
    "pcelltypes = []\n",
    "\n",
    "celltypes4 = []\n",
    "semis4=[]\n",
    "gtpids = []\n",
    "\n",
    "semi_status_collection =[ ]\n",
    "semi_states_collection_sum = []\n",
    "semi_status = []\n",
    "\n",
    "for i in range(len(pids)):\n",
    "    pid = pids[i]\n",
    "    \n",
    "    adata = anndata.read_h5ad('sample_sc/'+pid+'.h5ad')\n",
    "    subtype = adata.obs['full_clustering']\n",
    "    celltype = adata.obs['initial_clustering']\n",
    "    status.append(adata.obs['Status'])\n",
    "    status_collection.append(adata.obs['Status_on_day_collection'])\n",
    "    states_collection_sum.append(list(adata.obs['Status_on_day_collection_summary']))\n",
    "    worst_status.append(adata.obs['Worst_Clinical_Status'])\n",
    "    x = adata.X[:,hvmask]\n",
    "    x = np.array(x.todense())\n",
    "    x = np.log1p(x)\n",
    "    #x = sparse.csr_matrix(x)\n",
    "    gts.append(x) ####### loadiing thresholded gt data\n",
    "    repre = representatives[cluster_labels[i]]\n",
    "    reprepid = pids[repre]\n",
    "    if reprepid==pid:\n",
    "        semis.append(x)\n",
    "        xsem = x\n",
    "    else:\n",
    "        \n",
    "        xsem = np.load('semidata/fast'+ reprepid+'_to_'+pid+'.npy') # 6000genebackup/\n",
    "        xsem = xsem * (xsem>10)  # threshold\n",
    "        xsem = np.log(xsem+1)  # log1p\n",
    "        xsem = np.array(xsem)\n",
    "        semis.append(xsem)\n",
    "        \n",
    "    \n",
    "    initrepre = init_representatives[init_cluster_labels[i]]\n",
    "    initreprepid = pids[initrepre]\n",
    "    if initreprepid==pid:\n",
    "        semis4.append(x)\n",
    "    else:\n",
    "        xsem4 = np.load('semidata/fast'+ initreprepid+'_to_'+pid+'.npy') # 6000genebackup/\n",
    "        xsem4 = xsem4 * (xsem4>10)  # threshold\n",
    "        xsem4 = np.log(xsem4+1)  # log1p\n",
    "        xsem4 = np.array(xsem4)\n",
    "        semis4.append(xsem4)\n",
    "\n",
    "    celltypes4.append(celltype)\n",
    "    \n",
    "    \n",
    "    ssc = []\n",
    "    sscs = []\n",
    "    ss = []\n",
    "    for j in range(xsem.shape[0]):\n",
    "        ssc.append(status_collection[-1][0])\n",
    "        sscs.append(states_collection_sum[-1][0])\n",
    "        ss.append(status[-1][0])\n",
    "\n",
    "    semi_status_collection.append(ssc)\n",
    "    semi_states_collection_sum.append(sscs)\n",
    "    semi_status.append(ss)\n",
    "    \n",
    "    gtpid = []\n",
    "    for j in range(adata.X.shape[0]):\n",
    "        gtpid.append(pid)\n",
    "    gtpids = gtpids + gtpid\n",
    "    \n",
    "    bdata = semisdata[semisdata.obs['sampleids'] == pid]\n",
    "    pcelltype = bdata.obs['celltypes']\n",
    "    \n",
    "    pcelltypes.append(pcelltype)\n",
    "    celltypes.append(celltype)\n",
    "    subtypes.append(subtype)\n",
    "    print(i,end=', ')\n",
    "\n",
    "#X = np.concatenate([np.array(gts),np.array(xsemis)],axis=0)\n",
    "#pca = PCA(n_components=100)\n",
    "#X_PCA = pca.fit_transform(X)\n",
    "#umap_reduc=umap.UMAP()\n",
    "#X_UMAP = umap_reduc.fit_transform(X_PCA)\n",
    "\n",
    "t_end = timeit.default_timer()\n",
    "print()\n",
    "print(str(t_end-t_start),'seconds')"
   ]
  },
  {
   "cell_type": "code",
   "execution_count": null,
   "id": "4e0330a7-28e4-49f4-8a8b-ef73245b1669",
   "metadata": {},
   "outputs": [],
   "source": [
    "# log scale sanity check\n",
    "for i in range(len(pids)):\n",
    "    if gts[i].max()>10:\n",
    "        print(gts[i].max())\n",
    "    if semis[i].max()>10:\n",
    "        print(semis[i].max())"
   ]
  },
  {
   "cell_type": "code",
   "execution_count": null,
   "id": "dfe739da-d11f-48de-9144-f4d6cdfc2441",
   "metadata": {},
   "outputs": [],
   "source": []
  },
  {
   "cell_type": "raw",
   "id": "2deed5c5-73df-4883-af90-3c9e1fe9c87d",
   "metadata": {},
   "source": [
    "\n",
    "from sklearn.decomposition import PCA\n",
    "\n",
    "st =  timeit.default_timer()\n",
    "\n",
    "pca = PCA(n_components=100)\n",
    "xpca4 = pca.fit_transform(np.concatenate( np.concatenate(semis4), axis=0 ))\n",
    "\n",
    "pca = PCA(n_components=100)\n",
    "xpca28 = pca.fit_transform(np.concatenate(  np.concatenate(semis), axis=0 ) )\n",
    "\n",
    "ed = timeit.default_timer()\n",
    "print(str(ed-st))\n",
    "\n",
    "xpca4s = []\n",
    "offset=0\n",
    "for i in range(len(semis4)):\n",
    "    lens = semis4[i].shape[0]\n",
    "    xpca4s.append(xpca4[offset:offset+lens,:])\n",
    "\n",
    "xpca28s = []\n",
    "offset =0 \n",
    "for i in range(len(semis)):\n",
    "    lens = semis[i].shape[0]\n",
    "    xpca28s.append(xpca28[offset:offset+lens,:])\n",
    "    \n",
    "    \n",
    "xpca4 = xpca4s\n",
    "xpca28=xpca28s"
   ]
  },
  {
   "cell_type": "code",
   "execution_count": 33,
   "id": "0fd28dec-83ce-4da5-94aa-36d9af4955cd",
   "metadata": {},
   "outputs": [],
   "source": [
    "import sklearn\n",
    "from sklearn.svm import LinearSVC"
   ]
  },
  {
   "cell_type": "code",
   "execution_count": null,
   "id": "859fc3b4-aeed-434e-81b1-b54a1a83a4ca",
   "metadata": {},
   "outputs": [],
   "source": [
    "def deconv(svc,xtest):\n",
    "    ytest = svc.predict((xtest))\n",
    "    return list(ytest)"
   ]
  },
  {
   "cell_type": "code",
   "execution_count": 112,
   "id": "1eee6128-e02b-4f61-8b6b-965ff715efc9",
   "metadata": {},
   "outputs": [
    {
     "name": "stdout",
     "output_type": "stream",
     "text": [
      "677.3133289309917\n"
     ]
    }
   ],
   "source": [
    "from sklearn.neural_network import MLPClassifier\n",
    "from sklearn.neighbors import KNeighborsClassifier\n",
    "#neigh = NearestNeighbors(n_neighbors=1)\n",
    "#neigh.fit(samples)\n",
    "from sklearn.ensemble import RandomForestClassifier\n",
    "from sklearn.datasets import make_classification\n",
    "#RandomForestClassifier(max_depth=2, random_state=0)\n",
    "from sklearn.pipeline import make_pipeline\n",
    "from sklearn.preprocessing import StandardScaler\n",
    "\n",
    "st =  timeit.default_timer()\n",
    "\n",
    "#linearSVM = LinearSVC(tol=1e-5)\n",
    "#linearSVM = make_pipeline(StandardScaler(),\n",
    "                    #LinearSVC( random_state=0, tol=1e-5))\n",
    "#RandomForestClassifier()\n",
    "#linearSVM = LinearSVC(penalty='l1',loss='squared_hinge',tol=1e-5,C=10,dual=False,max_iter=5000)#,max_iter=5000)    #KNeighborsClassifier(n_neighbors=15)\n",
    "linearSVM = MLPClassifier(hidden_layer_sizes=(200,)) # LinearSVC()\n",
    "xtrain=[]\n",
    "ytrain=[]\n",
    "for i in (init_representatives):\n",
    "    #xtrain.append(np.array(xpca4[i]))\n",
    "    xtrain.append(np.array(gts[i]))\n",
    "    ytrain.append(np.array(celltypes[i]))\n",
    "xtrain = np.concatenate(xtrain,axis=0)\n",
    "ytrain = np.concatenate(ytrain,axis=0)\n",
    "linearSVM.fit((xtrain),ytrain)\n",
    "#linearSVM.fit((np.log(x_train+1)), y_train)\n",
    "\n",
    "ed = timeit.default_timer()\n",
    "print(str(ed-st))"
   ]
  },
  {
   "cell_type": "code",
   "execution_count": 13,
   "id": "d6d32ee6-7567-4e59-a171-d216d8d8070d",
   "metadata": {},
   "outputs": [
    {
     "name": "stdout",
     "output_type": "stream",
     "text": [
      "2547.083472092985\n"
     ]
    }
   ],
   "source": [
    "st =  timeit.default_timer()\n",
    "\n",
    "predictor28 = MLPClassifier(random_state=1) # LinearSVC()\n",
    "xtrain=[]\n",
    "ytrain=[]\n",
    "for i in (representatives):\n",
    "    #xtrain.append(np.array(xpca4[i]))\n",
    "    xtrain.append(np.array(gts[i]))\n",
    "    ytrain.append(np.array(celltypes[i]))\n",
    "xtrain = np.concatenate(xtrain,axis=0)\n",
    "ytrain = np.concatenate(ytrain,axis=0)\n",
    "predictor28.fit((xtrain),ytrain)\n",
    "#linearSVM.fit((np.log(x_train+1)), y_train)\n",
    "\n",
    "ed = timeit.default_timer()\n",
    "print(str(ed-st))"
   ]
  },
  {
   "cell_type": "code",
   "execution_count": 14,
   "id": "0b07ad99-0495-43a0-8eb8-a6075858ee13",
   "metadata": {},
   "outputs": [
    {
     "name": "stdout",
     "output_type": "stream",
     "text": [
      "5.136265466106124\n"
     ]
    }
   ],
   "source": [
    "st =  timeit.default_timer()\n",
    "\n",
    "pcelltypes = []\n",
    "for i in range(len(pids)):\n",
    "    if i in representatives:\n",
    "        pcelltypes.append(celltypes[i])\n",
    "        continue\n",
    "    pcelltypes.append(list(deconv(predictor28,semis[i])))\n",
    "    #pcelltypes.append(list(deconv(linearSVM,xpca4[i])))\n",
    "    \n",
    "ed = timeit.default_timer()\n",
    "print(str(ed-st))"
   ]
  },
  {
   "cell_type": "code",
   "execution_count": null,
   "id": "d3d06060-dea2-4d77-98de-64e73b69626d",
   "metadata": {},
   "outputs": [],
   "source": [
    "totaltypes = np.unique(np.concatenate(celltypes,axis=0))"
   ]
  },
  {
   "cell_type": "code",
   "execution_count": null,
   "id": "c7370065-1fb0-4c48-adfd-bfb9a003a2b8",
   "metadata": {},
   "outputs": [],
   "source": [
    "def prop(gttypes ,semitypes, totaltypes):\n",
    "    pgt = np.zeros(totaltypes.shape)\n",
    "    psemi = np.zeros(totaltypes.shape)\n",
    "    for i in range(len(totaltypes)):\n",
    "        pgt[i] += (np.array(gttypes) == totaltypes[i]).sum()\n",
    "        psemi[i] += (np.array(semitypes) == totaltypes[i]).sum()  ## celltypes2\n",
    "    numgt=pgt\n",
    "    numsemi=psemi\n",
    "    pgt = pgt/pgt.sum()\n",
    "    psemi = psemi/psemi.sum()\n",
    "    pcor,pval = scipy.stats.pearsonr(pgt,psemi)\n",
    "    return pcor,pval,pgt,psemi,numgt,numsemi"
   ]
  },
  {
   "cell_type": "code",
   "execution_count": null,
   "id": "3b472a06-f0cb-47a7-81c7-a3a49df91fda",
   "metadata": {},
   "outputs": [],
   "source": [
    "def RMSE(p1,p2):\n",
    "    p1 = np.array(p1)\n",
    "    p2 = np.array(p2)\n",
    "    mse = ((p1-p2)**2).mean()\n",
    "    rmse = mse**0.5\n",
    "    return rmse"
   ]
  },
  {
   "cell_type": "code",
   "execution_count": null,
   "id": "6f1780a2-4008-4aa6-b4e4-db6717319ddd",
   "metadata": {},
   "outputs": [],
   "source": [
    "pcors = []\n",
    "pgts=[]\n",
    "psemis=[]\n",
    "numgts = []\n",
    "numsemis = []\n",
    "prmses = []\n",
    "for i in range(len(pids)):\n",
    "    if i in representatives:\n",
    "        pcors.append(1)\n",
    "        prmses.append(0)\n",
    "        continue\n",
    "    pcor, pval, pgt, psemi, numgt, numsemi = prop(celltypes[i],pcelltypes[i],totaltypes)\n",
    "    pcors.append(pcor)\n",
    "    pgts.append(pgt)\n",
    "    psemis.append(psemi)\n",
    "    numgts.append(numgt.astype('float'))\n",
    "    numsemis.append(numsemi.astype('float'))\n",
    "    prmses.append(RMSE(pgt,psemi))"
   ]
  },
  {
   "cell_type": "code",
   "execution_count": null,
   "id": "fff5bb47-2e19-4b19-89a2-c0ead2058515",
   "metadata": {},
   "outputs": [],
   "source": [
    "### naive \n",
    "naivecors = []\n",
    "naivermse = []\n",
    "for i in range(len(pids)):\n",
    "    if i in representatives:\n",
    "        naivecors.append(1)\n",
    "        naivermse.append(0)\n",
    "        continue\n",
    "    rep = representatives[cluster_labels[i]]\n",
    "    pcor, pval, pgt, psemi, numgt, numsemi = prop(celltypes[i],celltypes[rep],totaltypes)\n",
    "    naivecors.append(pcor)\n",
    "    naivermse.append(RMSE(pgt,psemi))"
   ]
  },
  {
   "cell_type": "code",
   "execution_count": null,
   "id": "87fbfac1-ceef-4ef9-afb5-441b32a7d60e",
   "metadata": {},
   "outputs": [],
   "source": [
    "pids =[]\n",
    "f = open('sids.txt')\n",
    "lines = f.readlines()\n",
    "for l in lines:\n",
    "    pids.append(l.strip())\n",
    "f.close()"
   ]
  },
  {
   "cell_type": "code",
   "execution_count": 114,
   "id": "0f46b92b-bc0f-46f2-bf69-b617b97a5352",
   "metadata": {},
   "outputs": [],
   "source": [
    "pcelltypes4 = []\n",
    "for i in range(len(pids)):\n",
    "    if i in init_representatives:\n",
    "        pcelltypes4.append(celltypes[i])\n",
    "        continue\n",
    "    pcelltypes4.append(list(deconv(linearSVM,semis4[i])))\n"
   ]
  },
  {
   "cell_type": "code",
   "execution_count": 115,
   "id": "98be76bb-ab4c-468b-b50c-acc0e8359d0e",
   "metadata": {},
   "outputs": [],
   "source": [
    "pcors4 = []\n",
    "pgts4=[]\n",
    "psemis4=[]\n",
    "numgts4 = []\n",
    "numsemis4 = []\n",
    "prmses4 = []\n",
    "for i in range(len(pids)):\n",
    "    if i in init_representatives:\n",
    "        pcors4.append(1)\n",
    "        prmses4.append(0)\n",
    "        continue\n",
    "    pcor, pval, pgt, psemi, numgt, numsemi = prop(celltypes4[i],pcelltypes4[i],totaltypes)\n",
    "    pcors4.append(pcor)\n",
    "    pgts4.append(pgt)\n",
    "    psemis4.append(psemi)\n",
    "    numgts4.append(numgt.astype('float'))\n",
    "    numsemis4.append(numsemi.astype('float'))\n",
    "    prmses4.append(RMSE(pgt,psemi))"
   ]
  },
  {
   "cell_type": "code",
   "execution_count": 44,
   "id": "f4d43608-9e96-4b66-8e30-4caee7c714ea",
   "metadata": {},
   "outputs": [],
   "source": [
    "### naive \n",
    "naivecors4 = []\n",
    "naivermse4 = []\n",
    "for i in range(len(pids)):\n",
    "    if i in init_representatives:\n",
    "        naivecors4.append(1)\n",
    "        naivermse4.append(0)\n",
    "        continue\n",
    "    rep = init_representatives[init_cluster_labels[i]]\n",
    "    pcor, pval, pgt, psemi, numgt, numsemi = prop(celltypes4[i],celltypes4[rep],totaltypes)\n",
    "    naivecors4.append(pcor)\n",
    "    naivermse4.append(RMSE(pgt,psemi))"
   ]
  },
  {
   "cell_type": "code",
   "execution_count": 45,
   "id": "6df6344c-ddec-4e2d-9a6f-6f0bd56138e2",
   "metadata": {},
   "outputs": [],
   "source": [
    "gtdata = anndata.read_h5ad('gtdata_final.h5ad')"
   ]
  },
  {
   "cell_type": "raw",
   "id": "84696a2b-3daa-4c48-b11e-6e64671df9b0",
   "metadata": {},
   "source": [
    "gtdata.obs['patient_id'] = gtpids"
   ]
  },
  {
   "cell_type": "raw",
   "id": "82785121-cedb-4a85-b32b-c0c96303d0c8",
   "metadata": {},
   "source": [
    "gtdata.write('gtdata_pids.h5ad')"
   ]
  },
  {
   "cell_type": "code",
   "execution_count": 28,
   "id": "1dd58e75-da01-4dc1-826d-198bd916cdef",
   "metadata": {},
   "outputs": [],
   "source": [
    "gtdata = anndata.read_h5ad('gtdata_pids.h5ad')"
   ]
  },
  {
   "cell_type": "markdown",
   "id": "cb65ee63-e0ef-454c-b63c-f86c19adbec6",
   "metadata": {},
   "source": [
    "### extract single-cell reference and bulk data for other deconv tools"
   ]
  },
  {
   "cell_type": "code",
   "execution_count": 58,
   "id": "fc13755e-3606-46c8-8203-e899c80a506b",
   "metadata": {},
   "outputs": [],
   "source": [
    "## get single-cell reference\n",
    "\n",
    "# get expression matrix\n",
    "repxs = []\n",
    "for i in init_representatives:\n",
    "    repx = ((gtdata[gtdata.obs['sample_ids'] == pids[i]].X))\n",
    "    repx = np.exp(repx)-1\n",
    "    repxs.append(repx)\n",
    "repxs = np.concatenate(repxs,axis=0)\n",
    "repxs = np.array(repxs)"
   ]
  },
  {
   "cell_type": "code",
   "execution_count": 60,
   "id": "a10569ac-cf19-43e2-8c4c-30d448529e83",
   "metadata": {},
   "outputs": [],
   "source": [
    "# get labels\n",
    "reflabels = []\n",
    "for i in init_representatives:\n",
    "    repdata = gtdata[gtdata.obs['sample_ids'] == pids[i]]\n",
    "    rlbs = repdata.obs['celltypes']\n",
    "    reflabels.append(list(rlbs))\n",
    "reflabels = np.concatenate(reflabels,axis=0)\n",
    "\n",
    "# get genes\n",
    "genelist = list(gtdata.var.index)"
   ]
  },
  {
   "cell_type": "code",
   "execution_count": 61,
   "id": "226f1452-5cf9-484e-804c-0c5c9153af5b",
   "metadata": {},
   "outputs": [],
   "source": [
    "hvgenelist = genelist\n",
    "f=open('hvbulktape4.txt','w')\n",
    "f.write('GeneSymbol')\n",
    "for i in range(len(hvgenelist)):\n",
    "    f.write('\\t'+hvgenelist[i])\n",
    "f.write('\\n')\n",
    "for i in range(hvbulkdata.X.shape[0]):\n",
    "    f.write(pids[i])\n",
    "    for j in range(len(hvgenelist)):\n",
    "        f.write('\\t' + str(hvbulkdata.X[i,j]))\n",
    "    f.write('\\n')\n",
    "\n",
    "f.close()\n",
    "\n"
   ]
  },
  {
   "cell_type": "code",
   "execution_count": 64,
   "id": "4359d9f2-afb3-4305-8034-c7431d2ec3b9",
   "metadata": {},
   "outputs": [],
   "source": [
    "\n",
    "pidlist = []\n",
    "for i in init_representatives:\n",
    "    repdata = gtdata[gtdata.obs['sample_ids'] == pids[i]]\n",
    "    pidlist = pidlist + list(repdata.obs['sample_ids'])\n",
    "    \n",
    "f=open('ref_pids.txt','w')\n",
    "for i in pidlist:\n",
    "    f.write(i+'\\n')\n",
    "f.close()"
   ]
  },
  {
   "cell_type": "code",
   "execution_count": null,
   "id": "3bb78081-5a78-429c-aa06-fb8a63432fb9",
   "metadata": {},
   "outputs": [],
   "source": []
  },
  {
   "cell_type": "code",
   "execution_count": null,
   "id": "73f01d43-17ea-41b1-8698-55eceba00b9e",
   "metadata": {},
   "outputs": [],
   "source": []
  },
  {
   "cell_type": "code",
   "execution_count": null,
   "id": "ef6ac774-8bb3-4bee-94a0-15e02f27b86e",
   "metadata": {},
   "outputs": [],
   "source": []
  },
  {
   "cell_type": "code",
   "execution_count": 65,
   "id": "5e73a9ab-d9a5-466a-ae57-02ffcd5eb35b",
   "metadata": {},
   "outputs": [],
   "source": [
    "hvgenelist = genelist\n",
    "f=open('hvref.txt','w')\n",
    "\n",
    "hvrepxs = np.array(repxs)\n",
    "f.write('GeneSymbol')\n",
    "for i in range(len(reflabels)):\n",
    "    f.write('\\t'+str(reflabels[i]))\n",
    "f.write('\\n')\n",
    "hvgenelist = np.array(genelist)\n",
    "for i in range(len(hvgenelist)):\n",
    "    f.write(hvgenelist[i])\n",
    "    for j in range(len(reflabels)):\n",
    "        f.write('\\t'+str(hvrepxs[j,i]))\n",
    "    f.write('\\n')\n",
    "\n",
    "f.close()"
   ]
  },
  {
   "cell_type": "raw",
   "id": "179c3b09-2ab7-45d9-ae4e-8075024f8c10",
   "metadata": {},
   "source": [
    "bulkdata = anndata.read_h5ad('bulkdata.h5ad')\n",
    "hvbulkdata = bulkdata[:,hvmask]"
   ]
  },
  {
   "cell_type": "raw",
   "id": "30840de4-970c-4d99-85c2-9d434c42532e",
   "metadata": {},
   "source": [
    "hvgenes = np.array(hvbulkdata.var.index)\n",
    "f=open('hvbulk.txt','w')\n",
    "f.write('Gene')\n",
    "for i in range(len(pids)):\n",
    "    f.write('\\t'+str(pids[i]))\n",
    "f.write('\\n')\n",
    "for i in range(len(hvgenes)):\n",
    "    f.write(hvgenes[i])\n",
    "    for j in range(len(pids)):\n",
    "        f.write('\\t'+str(hvbulkdata.X[j,i]))\n",
    "    f.write('\\n')\n",
    "\n",
    "f.close()"
   ]
  },
  {
   "cell_type": "markdown",
   "id": "5f977125-23d5-4439-953c-31d2d4ba7feb",
   "metadata": {},
   "source": [
    "#### end of extracting data"
   ]
  },
  {
   "cell_type": "markdown",
   "id": "3ad58a01-7022-40ed-a7b9-79fa23663532",
   "metadata": {},
   "source": [
    "### start loading results and comparison"
   ]
  },
  {
   "cell_type": "code",
   "execution_count": 91,
   "id": "8e675760-563b-426d-a971-f5ca1076ca96",
   "metadata": {},
   "outputs": [
    {
     "data": {
      "text/plain": [
       "array(['B_cell', 'CD14', 'CD16', 'CD4', 'CD8', 'DCs', 'HSC',\n",
       "       'Lymph_prolif', 'MAIT', 'Mono_prolif', 'NK_16hi', 'NK_56hi',\n",
       "       'Plasmablast', 'Platelets', 'RBC', 'Treg', 'gdT', 'pDC'],\n",
       "      dtype=object)"
      ]
     },
     "execution_count": 91,
     "metadata": {},
     "output_type": "execute_result"
    }
   ],
   "source": [
    "totaltypes"
   ]
  },
  {
   "cell_type": "code",
   "execution_count": 90,
   "id": "ed46755a-1f20-4d79-8390-4d91c855a41c",
   "metadata": {},
   "outputs": [
    {
     "data": {
      "text/html": [
       "<div>\n",
       "<style scoped>\n",
       "    .dataframe tbody tr th:only-of-type {\n",
       "        vertical-align: middle;\n",
       "    }\n",
       "\n",
       "    .dataframe tbody tr th {\n",
       "        vertical-align: top;\n",
       "    }\n",
       "\n",
       "    .dataframe thead th {\n",
       "        text-align: right;\n",
       "    }\n",
       "</style>\n",
       "<table border=\"1\" class=\"dataframe\">\n",
       "  <thead>\n",
       "    <tr style=\"text-align: right;\">\n",
       "      <th></th>\n",
       "      <th>GeneSymbol</th>\n",
       "      <th>B_cell</th>\n",
       "      <th>CD14</th>\n",
       "      <th>CD16</th>\n",
       "      <th>CD4</th>\n",
       "      <th>CD8</th>\n",
       "      <th>DCs</th>\n",
       "      <th>HSC</th>\n",
       "      <th>Lymph_prolif</th>\n",
       "      <th>MAIT</th>\n",
       "      <th>Mono_prolif</th>\n",
       "      <th>NK_16hi</th>\n",
       "      <th>NK_56hi</th>\n",
       "      <th>Plasmablast</th>\n",
       "      <th>Platelets</th>\n",
       "      <th>RBC</th>\n",
       "      <th>Treg</th>\n",
       "      <th>gdT</th>\n",
       "      <th>pDC</th>\n",
       "    </tr>\n",
       "  </thead>\n",
       "  <tbody>\n",
       "    <tr>\n",
       "      <th>0</th>\n",
       "      <td>AP1</td>\n",
       "      <td>0.063458</td>\n",
       "      <td>0.061868</td>\n",
       "      <td>0.057911</td>\n",
       "      <td>0.066683</td>\n",
       "      <td>0.054995</td>\n",
       "      <td>0.088913</td>\n",
       "      <td>0.060740</td>\n",
       "      <td>0.035930</td>\n",
       "      <td>0.050107</td>\n",
       "      <td>0.068122</td>\n",
       "      <td>0.041560</td>\n",
       "      <td>0.052935</td>\n",
       "      <td>0.055728</td>\n",
       "      <td>0.041968</td>\n",
       "      <td>0.072786</td>\n",
       "      <td>0.045102</td>\n",
       "      <td>0.039197</td>\n",
       "      <td>0.041997</td>\n",
       "    </tr>\n",
       "    <tr>\n",
       "      <th>1</th>\n",
       "      <td>AP10</td>\n",
       "      <td>0.078264</td>\n",
       "      <td>0.048214</td>\n",
       "      <td>0.056538</td>\n",
       "      <td>0.063544</td>\n",
       "      <td>0.056796</td>\n",
       "      <td>0.084113</td>\n",
       "      <td>0.061663</td>\n",
       "      <td>0.036881</td>\n",
       "      <td>0.056300</td>\n",
       "      <td>0.059744</td>\n",
       "      <td>0.043094</td>\n",
       "      <td>0.050479</td>\n",
       "      <td>0.058003</td>\n",
       "      <td>0.041648</td>\n",
       "      <td>0.070208</td>\n",
       "      <td>0.050181</td>\n",
       "      <td>0.040566</td>\n",
       "      <td>0.043765</td>\n",
       "    </tr>\n",
       "    <tr>\n",
       "      <th>2</th>\n",
       "      <td>AP11</td>\n",
       "      <td>0.065156</td>\n",
       "      <td>0.073885</td>\n",
       "      <td>0.068041</td>\n",
       "      <td>0.038464</td>\n",
       "      <td>0.055562</td>\n",
       "      <td>0.099253</td>\n",
       "      <td>0.060061</td>\n",
       "      <td>0.037792</td>\n",
       "      <td>0.046185</td>\n",
       "      <td>0.088765</td>\n",
       "      <td>0.037497</td>\n",
       "      <td>0.049798</td>\n",
       "      <td>0.053819</td>\n",
       "      <td>0.040002</td>\n",
       "      <td>0.069444</td>\n",
       "      <td>0.041359</td>\n",
       "      <td>0.034412</td>\n",
       "      <td>0.040505</td>\n",
       "    </tr>\n",
       "    <tr>\n",
       "      <th>3</th>\n",
       "      <td>AP12</td>\n",
       "      <td>0.071812</td>\n",
       "      <td>0.060856</td>\n",
       "      <td>0.055256</td>\n",
       "      <td>0.042783</td>\n",
       "      <td>0.054953</td>\n",
       "      <td>0.088009</td>\n",
       "      <td>0.059574</td>\n",
       "      <td>0.039773</td>\n",
       "      <td>0.053495</td>\n",
       "      <td>0.072340</td>\n",
       "      <td>0.058736</td>\n",
       "      <td>0.058885</td>\n",
       "      <td>0.046540</td>\n",
       "      <td>0.041881</td>\n",
       "      <td>0.071543</td>\n",
       "      <td>0.042335</td>\n",
       "      <td>0.039776</td>\n",
       "      <td>0.041454</td>\n",
       "    </tr>\n",
       "    <tr>\n",
       "      <th>4</th>\n",
       "      <td>AP2</td>\n",
       "      <td>0.060713</td>\n",
       "      <td>0.054273</td>\n",
       "      <td>0.060325</td>\n",
       "      <td>0.052415</td>\n",
       "      <td>0.063983</td>\n",
       "      <td>0.086850</td>\n",
       "      <td>0.063467</td>\n",
       "      <td>0.042596</td>\n",
       "      <td>0.049819</td>\n",
       "      <td>0.071387</td>\n",
       "      <td>0.035596</td>\n",
       "      <td>0.052383</td>\n",
       "      <td>0.049606</td>\n",
       "      <td>0.048600</td>\n",
       "      <td>0.072931</td>\n",
       "      <td>0.049808</td>\n",
       "      <td>0.041110</td>\n",
       "      <td>0.044138</td>\n",
       "    </tr>\n",
       "    <tr>\n",
       "      <th>...</th>\n",
       "      <td>...</td>\n",
       "      <td>...</td>\n",
       "      <td>...</td>\n",
       "      <td>...</td>\n",
       "      <td>...</td>\n",
       "      <td>...</td>\n",
       "      <td>...</td>\n",
       "      <td>...</td>\n",
       "      <td>...</td>\n",
       "      <td>...</td>\n",
       "      <td>...</td>\n",
       "      <td>...</td>\n",
       "      <td>...</td>\n",
       "      <td>...</td>\n",
       "      <td>...</td>\n",
       "      <td>...</td>\n",
       "      <td>...</td>\n",
       "      <td>...</td>\n",
       "      <td>...</td>\n",
       "    </tr>\n",
       "    <tr>\n",
       "      <th>119</th>\n",
       "      <td>newcastle21v2</td>\n",
       "      <td>0.050830</td>\n",
       "      <td>0.074100</td>\n",
       "      <td>0.065398</td>\n",
       "      <td>0.036115</td>\n",
       "      <td>0.056412</td>\n",
       "      <td>0.101456</td>\n",
       "      <td>0.061461</td>\n",
       "      <td>0.043035</td>\n",
       "      <td>0.047400</td>\n",
       "      <td>0.082315</td>\n",
       "      <td>0.045499</td>\n",
       "      <td>0.056826</td>\n",
       "      <td>0.044336</td>\n",
       "      <td>0.047373</td>\n",
       "      <td>0.069175</td>\n",
       "      <td>0.040168</td>\n",
       "      <td>0.035313</td>\n",
       "      <td>0.042788</td>\n",
       "    </tr>\n",
       "    <tr>\n",
       "      <th>120</th>\n",
       "      <td>newcastle49</td>\n",
       "      <td>0.053704</td>\n",
       "      <td>0.075382</td>\n",
       "      <td>0.073338</td>\n",
       "      <td>0.038715</td>\n",
       "      <td>0.051397</td>\n",
       "      <td>0.097310</td>\n",
       "      <td>0.062014</td>\n",
       "      <td>0.041624</td>\n",
       "      <td>0.046630</td>\n",
       "      <td>0.087344</td>\n",
       "      <td>0.035455</td>\n",
       "      <td>0.053599</td>\n",
       "      <td>0.047560</td>\n",
       "      <td>0.045780</td>\n",
       "      <td>0.067026</td>\n",
       "      <td>0.041414</td>\n",
       "      <td>0.035468</td>\n",
       "      <td>0.046242</td>\n",
       "    </tr>\n",
       "    <tr>\n",
       "      <th>121</th>\n",
       "      <td>newcastle59</td>\n",
       "      <td>0.054534</td>\n",
       "      <td>0.087127</td>\n",
       "      <td>0.082223</td>\n",
       "      <td>0.034528</td>\n",
       "      <td>0.049796</td>\n",
       "      <td>0.101166</td>\n",
       "      <td>0.058944</td>\n",
       "      <td>0.039253</td>\n",
       "      <td>0.045480</td>\n",
       "      <td>0.088817</td>\n",
       "      <td>0.040544</td>\n",
       "      <td>0.053622</td>\n",
       "      <td>0.044806</td>\n",
       "      <td>0.040778</td>\n",
       "      <td>0.065999</td>\n",
       "      <td>0.037953</td>\n",
       "      <td>0.031723</td>\n",
       "      <td>0.042707</td>\n",
       "    </tr>\n",
       "    <tr>\n",
       "      <th>122</th>\n",
       "      <td>newcastle65</td>\n",
       "      <td>0.056432</td>\n",
       "      <td>0.057794</td>\n",
       "      <td>0.064462</td>\n",
       "      <td>0.044029</td>\n",
       "      <td>0.064519</td>\n",
       "      <td>0.091400</td>\n",
       "      <td>0.064497</td>\n",
       "      <td>0.042738</td>\n",
       "      <td>0.049576</td>\n",
       "      <td>0.068437</td>\n",
       "      <td>0.043763</td>\n",
       "      <td>0.053269</td>\n",
       "      <td>0.047011</td>\n",
       "      <td>0.047476</td>\n",
       "      <td>0.071386</td>\n",
       "      <td>0.047571</td>\n",
       "      <td>0.040624</td>\n",
       "      <td>0.045016</td>\n",
       "    </tr>\n",
       "    <tr>\n",
       "      <th>123</th>\n",
       "      <td>newcastle74</td>\n",
       "      <td>0.062561</td>\n",
       "      <td>0.056399</td>\n",
       "      <td>0.062874</td>\n",
       "      <td>0.038403</td>\n",
       "      <td>0.067817</td>\n",
       "      <td>0.094524</td>\n",
       "      <td>0.062921</td>\n",
       "      <td>0.043562</td>\n",
       "      <td>0.049129</td>\n",
       "      <td>0.067363</td>\n",
       "      <td>0.043832</td>\n",
       "      <td>0.054564</td>\n",
       "      <td>0.048156</td>\n",
       "      <td>0.045963</td>\n",
       "      <td>0.070957</td>\n",
       "      <td>0.044383</td>\n",
       "      <td>0.042845</td>\n",
       "      <td>0.043746</td>\n",
       "    </tr>\n",
       "  </tbody>\n",
       "</table>\n",
       "<p>124 rows × 19 columns</p>\n",
       "</div>"
      ],
      "text/plain": [
       "        GeneSymbol    B_cell      CD14      CD16       CD4       CD8  \\\n",
       "0              AP1  0.063458  0.061868  0.057911  0.066683  0.054995   \n",
       "1             AP10  0.078264  0.048214  0.056538  0.063544  0.056796   \n",
       "2             AP11  0.065156  0.073885  0.068041  0.038464  0.055562   \n",
       "3             AP12  0.071812  0.060856  0.055256  0.042783  0.054953   \n",
       "4              AP2  0.060713  0.054273  0.060325  0.052415  0.063983   \n",
       "..             ...       ...       ...       ...       ...       ...   \n",
       "119  newcastle21v2  0.050830  0.074100  0.065398  0.036115  0.056412   \n",
       "120    newcastle49  0.053704  0.075382  0.073338  0.038715  0.051397   \n",
       "121    newcastle59  0.054534  0.087127  0.082223  0.034528  0.049796   \n",
       "122    newcastle65  0.056432  0.057794  0.064462  0.044029  0.064519   \n",
       "123    newcastle74  0.062561  0.056399  0.062874  0.038403  0.067817   \n",
       "\n",
       "          DCs       HSC  Lymph_prolif      MAIT  Mono_prolif   NK_16hi  \\\n",
       "0    0.088913  0.060740      0.035930  0.050107     0.068122  0.041560   \n",
       "1    0.084113  0.061663      0.036881  0.056300     0.059744  0.043094   \n",
       "2    0.099253  0.060061      0.037792  0.046185     0.088765  0.037497   \n",
       "3    0.088009  0.059574      0.039773  0.053495     0.072340  0.058736   \n",
       "4    0.086850  0.063467      0.042596  0.049819     0.071387  0.035596   \n",
       "..        ...       ...           ...       ...          ...       ...   \n",
       "119  0.101456  0.061461      0.043035  0.047400     0.082315  0.045499   \n",
       "120  0.097310  0.062014      0.041624  0.046630     0.087344  0.035455   \n",
       "121  0.101166  0.058944      0.039253  0.045480     0.088817  0.040544   \n",
       "122  0.091400  0.064497      0.042738  0.049576     0.068437  0.043763   \n",
       "123  0.094524  0.062921      0.043562  0.049129     0.067363  0.043832   \n",
       "\n",
       "      NK_56hi  Plasmablast  Platelets       RBC      Treg       gdT       pDC  \n",
       "0    0.052935     0.055728   0.041968  0.072786  0.045102  0.039197  0.041997  \n",
       "1    0.050479     0.058003   0.041648  0.070208  0.050181  0.040566  0.043765  \n",
       "2    0.049798     0.053819   0.040002  0.069444  0.041359  0.034412  0.040505  \n",
       "3    0.058885     0.046540   0.041881  0.071543  0.042335  0.039776  0.041454  \n",
       "4    0.052383     0.049606   0.048600  0.072931  0.049808  0.041110  0.044138  \n",
       "..        ...          ...        ...       ...       ...       ...       ...  \n",
       "119  0.056826     0.044336   0.047373  0.069175  0.040168  0.035313  0.042788  \n",
       "120  0.053599     0.047560   0.045780  0.067026  0.041414  0.035468  0.046242  \n",
       "121  0.053622     0.044806   0.040778  0.065999  0.037953  0.031723  0.042707  \n",
       "122  0.053269     0.047011   0.047476  0.071386  0.047571  0.040624  0.045016  \n",
       "123  0.054564     0.048156   0.045963  0.070957  0.044383  0.042845  0.043746  \n",
       "\n",
       "[124 rows x 19 columns]"
      ]
     },
     "execution_count": 90,
     "metadata": {},
     "output_type": "execute_result"
    }
   ],
   "source": [
    "tapedf."
   ]
  },
  {
   "cell_type": "code",
   "execution_count": 66,
   "id": "ab3ce65b-27e1-4e25-a1f4-f01984ffe88f",
   "metadata": {},
   "outputs": [],
   "source": [
    "import pandas as pd\n",
    "tapedf = pd.read_csv('tageresult.csv')\n",
    "ptape = []\n",
    "\n",
    "for i in range(len(pids)):\n",
    "    if i in init_representatives:\n",
    "        ptape.append(1.0)\n",
    "        continue\n",
    "    bprp = np.array(tapedf.to_numpy()[:,1:])[i]\n",
    "    bprp = np.array((list(bprp)))\n",
    "    ptape.append(bprp)"
   ]
  },
  {
   "cell_type": "code",
   "execution_count": 88,
   "id": "d5a905ee-7901-4867-bd8d-2b2771737a54",
   "metadata": {},
   "outputs": [
    {
     "data": {
      "text/plain": [
       "True"
      ]
     },
     "execution_count": 88,
     "metadata": {},
     "output_type": "execute_result"
    }
   ],
   "source": [
    "list(pids) == list(tapedf['GeneSymbol'])"
   ]
  },
  {
   "cell_type": "code",
   "execution_count": 67,
   "id": "28cfcb7d-e990-49db-9cb0-e64ab3f03df6",
   "metadata": {},
   "outputs": [],
   "source": [
    "tapecor = []\n",
    "tapermse = []\n",
    "for i in range(len(pids)):\n",
    "    if i in init_representatives:\n",
    "        tapecor.append(1)\n",
    "        tapermse.append(0)\n",
    "        continue\n",
    "    pid = pids[i]\n",
    "    gttypes = list(gtdata[gtdata.obs['sample_ids']==pid].obs['celltypes'])\n",
    "    pgt = np.zeros(totaltypes.shape)\n",
    "    for j in range(len(totaltypes)):\n",
    "        pgt[j] += (np.array(gttypes) == totaltypes[j]).sum()\n",
    "    numgt=pgt\n",
    "    pgt = pgt/pgt.sum()\n",
    "    \n",
    "    pcor,pval = scipy.stats.pearsonr(pgt,ptape[i])\n",
    "    tapecor.append(pcor)\n",
    "    tapermse.append(RMSE(pgt,pbis[i]))"
   ]
  },
  {
   "cell_type": "code",
   "execution_count": 79,
   "id": "0f859266-25c3-4bd6-8f8f-0a55ac65f2e7",
   "metadata": {},
   "outputs": [],
   "source": [
    "sdf = pd.read_csv('scadenresult.csv')\n",
    "pscaden = []\n",
    "for i in range(len(pids)):\n",
    "    if i in representatives:\n",
    "        pscaden.append(1.0)\n",
    "        continue\n",
    "    pid=pids[i]\n",
    "    #pid = pids[i].replace('-','.')\n",
    "    bprp = np.array((sdf.to_numpy()[:,1:])[i])\n",
    "    bprp = np.array((list(bprp)))\n",
    "    #bprp = bprp[ [0,1,2,3,4,5,6,7,9,10,8]]\n",
    "    pscaden.append(bprp)"
   ]
  },
  {
   "cell_type": "code",
   "execution_count": 89,
   "id": "92fc3435-11b6-419a-a1f5-c5936654059b",
   "metadata": {},
   "outputs": [
    {
     "data": {
      "text/plain": [
       "True"
      ]
     },
     "execution_count": 89,
     "metadata": {},
     "output_type": "execute_result"
    }
   ],
   "source": [
    "list(pids) == list(sdf['GeneSymbol'])"
   ]
  },
  {
   "cell_type": "code",
   "execution_count": 81,
   "id": "33bfecaa-97e7-4062-874f-edb1f46f47fa",
   "metadata": {},
   "outputs": [],
   "source": [
    "scadencors = []\n",
    "scadenrmses = []\n",
    "\n",
    "for i in range(len(pids)):\n",
    "    if i in representatives:\n",
    "        scadencors.append(1)\n",
    "        scadenrmses.append(0)\n",
    "        continue\n",
    "    pid = pids[i]\n",
    "    gttypes = list(gtdata[gtdata.obs['sample_ids']==pid].obs['celltypes'])\n",
    "    pgt = np.zeros(totaltypes.shape)\n",
    "    for j in range(len(totaltypes)):\n",
    "        pgt[j] += (np.array(gttypes) == totaltypes[j]).sum()\n",
    "    numgt=pgt\n",
    "    pgt = pgt/pgt.sum()\n",
    "    \n",
    "    pcor,pval = scipy.stats.pearsonr(pgt,pscaden[i])\n",
    "    scadencors.append(pcor)\n",
    "    scadenrmses.append(RMSE(pgt,pscaden[i]))"
   ]
  },
  {
   "cell_type": "code",
   "execution_count": null,
   "id": "949d639a-70e0-4fb8-985d-427b138fc7c3",
   "metadata": {},
   "outputs": [],
   "source": []
  },
  {
   "cell_type": "code",
   "execution_count": null,
   "id": "0a8e135f-6298-46b0-a70a-3df361ce80b0",
   "metadata": {},
   "outputs": [],
   "source": []
  },
  {
   "cell_type": "code",
   "execution_count": 68,
   "id": "843bdb2a-32e9-4787-a588-2441b27780b9",
   "metadata": {},
   "outputs": [],
   "source": [
    "## cibersortx\n",
    "\n",
    "f = open('CIBERSORTx_covid.txt','r')\n",
    "lines = f.readlines()\n",
    "f.close()\n",
    "\n",
    "ciberprops = {}\n",
    "for i in range(1,len(lines)):\n",
    "    l=lines[i].split('\\t')\n",
    "    pid = l[0]\n",
    "    prp = []\n",
    "    for j in range(1,len(l)-3):\n",
    "        prp.append(float(l[j]))\n",
    "    ciberprops[pid] = prp\n",
    "    "
   ]
  },
  {
   "cell_type": "code",
   "execution_count": 69,
   "id": "87c63f1c-470f-4dae-8d46-b35e7d954dcb",
   "metadata": {},
   "outputs": [
    {
     "name": "stdout",
     "output_type": "stream",
     "text": [
      "0 pDC\n",
      "1 CD4\n",
      "2 CD14\n",
      "3 B_cell\n",
      "4 Lymph_prolif\n",
      "5 CD16\n",
      "6 DCs\n",
      "7 CD8\n",
      "8 gdT\n",
      "9 NK_16hi\n",
      "10 Treg\n",
      "11 MAIT\n",
      "12 Plasmablast\n",
      "13 NK_56hi\n",
      "14 Platelets\n",
      "15 Mono_prolif\n",
      "16 HSC\n",
      "17 RBC\n"
     ]
    }
   ],
   "source": [
    "cibertypes=['pDC','CD4','CD14','B_cell','Lymph_prolif','CD16','DCs','CD8','gdT','NK_16hi','Treg','MAIT',\\\n",
    "            'Plasmablast','NK_56hi','Platelets','Mono_prolif','HSC','RBC']\n",
    "for i in range(18):\n",
    "    print(i,cibertypes[i])"
   ]
  },
  {
   "cell_type": "code",
   "execution_count": 70,
   "id": "fce78b6f-b898-4d93-9121-ba1a6de55c57",
   "metadata": {},
   "outputs": [],
   "source": [
    "cibersortorder = [3,2,5,1,7,6,16,\\\n",
    "4,11,15,9,13,\\\n",
    "12,14,17,10,8,0]"
   ]
  },
  {
   "cell_type": "code",
   "execution_count": null,
   "id": "46e30651-deb9-4977-9fe3-4f68cfe2b6ae",
   "metadata": {},
   "outputs": [],
   "source": []
  },
  {
   "cell_type": "code",
   "execution_count": 71,
   "id": "7724218a-ae07-4138-b68b-b7a130d21e79",
   "metadata": {},
   "outputs": [],
   "source": [
    "cibercors = []\n",
    "ciberrmses = []\n",
    "for i in range(len(pids)):\n",
    "    if i in init_representatives:\n",
    "        cibercors.append(1)\n",
    "        ciberrmses.append(0)\n",
    "        continue\n",
    "    pid = pids[i]\n",
    "    gttypes = list(gtdata[gtdata.obs['sample_ids']==pid].obs['celltypes'])\n",
    "    \n",
    "    pgt = np.zeros(totaltypes.shape)\n",
    "    for j in range(len(totaltypes)):\n",
    "        pgt[j] += (np.array(gttypes) == totaltypes[j]).sum()\n",
    "    numgt=pgt\n",
    "    pgt = pgt/pgt.sum()\n",
    "    \n",
    "    pcibersort = np.array(ciberprops[pid])\n",
    "    #pcibersort = np.array(list(pcibersort)+[0])\n",
    "    pcibersort = pcibersort[cibersortorder]\n",
    "    pcor,pval = scipy.stats.pearsonr(pgt,pcibersort)\n",
    "    cibercors.append(pcor)\n",
    "    ciberrmses.append(RMSE(pgt,pcibersort))"
   ]
  },
  {
   "cell_type": "code",
   "execution_count": 72,
   "id": "b5d4cf78-bf98-446e-b687-9f69dc4ce200",
   "metadata": {},
   "outputs": [],
   "source": [
    "border = [0,1,2,3,4,5,7,\\\n",
    " 8,9,10,11,12,\\\n",
    " 14,15,16,17,6,13]"
   ]
  },
  {
   "cell_type": "code",
   "execution_count": 73,
   "id": "52b4cd8e-e243-4d5f-9c96-f62c77cf3734",
   "metadata": {
    "tags": []
   },
   "outputs": [],
   "source": [
    "# bisque\n",
    "import pandas as pd\n",
    "df = pd.read_csv('bisque_est_913.csv',sep=' ')\n",
    "pbis = []\n",
    "for i in range(len(pids)):\n",
    "    if i in init_representatives:\n",
    "        pbis.append('?')\n",
    "        continue\n",
    "    bprp = np.array(df[pids[i]])\n",
    "    bprp = np.array((list(bprp)+[0]))\n",
    "    bprp = bprp[ border]\n",
    "    pbis.append(bprp)"
   ]
  },
  {
   "cell_type": "code",
   "execution_count": 74,
   "id": "dd52a8ba-a0cc-49b8-bb67-c0b7dc1caae1",
   "metadata": {
    "tags": []
   },
   "outputs": [],
   "source": [
    "biscor = []\n",
    "bisrmse = []\n",
    "for i in range(len(pids)):\n",
    "    if i in init_representatives:\n",
    "        biscor.append(1)\n",
    "        bisrmse.append(0)\n",
    "        continue\n",
    "    pid = pids[i]\n",
    "    gttypes = list(gtdata[gtdata.obs['sample_id']==pid].obs['celltypes'])\n",
    "    pgt = np.zeros(totaltypes.shape)\n",
    "    for j in range(len(totaltypes)):\n",
    "        pgt[j] += (np.array(gttypes) == totaltypes[j]).sum()\n",
    "    numgt=pgt\n",
    "    pgt = pgt/pgt.sum()\n",
    "    \n",
    "    pcor,pval = scipy.stats.pearsonr(pgt,pbis[i])\n",
    "    biscor.append(pcor)\n",
    "    bisrmse.append(RMSE(pgt,pbis[i]))"
   ]
  },
  {
   "cell_type": "code",
   "execution_count": 122,
   "id": "49195431-79b6-48a8-b744-21dfe1a4c671",
   "metadata": {
    "tags": []
   },
   "outputs": [
    {
     "name": "stdout",
     "output_type": "stream",
     "text": [
      "between semi 4 and CIBERSORTx 5671.0 4.51806230515128e-08\n",
      "between semi 28 and naive 28 3542.0 4.575206205113998e-06\n",
      "between semi 4 and naive 4 4807.0 0.0010266627423305007\n",
      "between semi 28 and semi 4 5905.0 1.2772862892976768e-09\n",
      "between semi 4 and bisque 6653.0 1.2181019989178405e-15\n",
      "between semi 28 and semi 4 5905.0 1.2772862892976768e-09\n",
      "between semi 4 and tape 7247.0 1.366784098899109e-21\n",
      "between semi 4 and scaden 6853.0 1.5783600480460242e-17\n"
     ]
    }
   ],
   "source": [
    "## wilcox for p cor\n",
    "\n",
    "# between semi 4 patients and CIBERSORTx\n",
    "res_semi4_ciber = wilcoxon(x=pcors4, y=cibercors, alternative='greater')\n",
    "print('between semi 4 and CIBERSORTx',res_semi4_ciber.statistic, res_semi4_ciber.pvalue)\n",
    "\n",
    "# between semi 28 and naive 28\n",
    "res_semi28_naive28 = wilcoxon(x=pcors, y=naivecors, alternative='greater')\n",
    "print('between semi 28 and naive 28',res_semi28_naive28.statistic, res_semi28_naive28.pvalue)\n",
    "\n",
    "# between semi 4 and naivee 4\n",
    "res_semi4_naive4 = wilcoxon(x=pcors4, y=naivecors4, alternative='greater')\n",
    "print('between semi 4 and naive 4',res_semi4_naive4.statistic, res_semi4_naive4.pvalue)\n",
    "\n",
    "# between semi 28 and semi 4\n",
    "res_semi28_semi4 = wilcoxon(x=pcors, y=pcors4, alternative='greater')\n",
    "print('between semi 28 and semi 4',res_semi28_semi4.statistic, res_semi28_semi4.pvalue)\n",
    "\n",
    "# between semi 4 and bisque\n",
    "res_semi4_bisque = wilcoxon(x=pcors4, y=biscor, alternative='greater')\n",
    "print('between semi 4 and bisque',res_semi4_bisque.statistic, res_semi4_bisque.pvalue)\n",
    "\n",
    "# between semi 28 and sesmi 4\n",
    "res_semi28_semi4 = wilcoxon(x=pcors, y=pcors4, alternative='greater')\n",
    "print('between semi 28 and semi 4',res_semi28_semi4.statistic, res_semi28_semi4.pvalue)\n",
    "\n",
    "res = wilcoxon(x=pcors4, y=tapecor, alternative='greater')\n",
    "print('between semi 4 and tape',res.statistic, res.pvalue)\n",
    "\n",
    "res = wilcoxon(x=pcors4, y=scadencors, alternative='greater')\n",
    "print('between semi 4 and scaden',res.statistic, res.pvalue)\n",
    "\n"
   ]
  },
  {
   "cell_type": "code",
   "execution_count": 95,
   "id": "377797db-6cc1-4af9-8850-ecc57875d911",
   "metadata": {},
   "outputs": [],
   "source": [
    "import matplotlib\n",
    "cmap = matplotlib.colors.ListedColormap(matplotlib.cm.get_cmap(\"Set3\").colors[:10])"
   ]
  },
  {
   "cell_type": "code",
   "execution_count": 105,
   "id": "69f84499-25ad-4ebd-bbf2-72194d86d95d",
   "metadata": {},
   "outputs": [],
   "source": [
    "set3 = plt.get_cmap('Set3')"
   ]
  },
  {
   "cell_type": "code",
   "execution_count": 107,
   "id": "f444a55b-a99b-4387-a671-e75bff31acc9",
   "metadata": {},
   "outputs": [
    {
     "data": {
      "text/plain": [
       "((0.5529411764705883, 0.8274509803921568, 0.7803921568627451),\n",
       " (1.0, 1.0, 0.7019607843137254),\n",
       " (0.7450980392156863, 0.7294117647058823, 0.8549019607843137),\n",
       " (0.984313725490196, 0.5019607843137255, 0.4470588235294118),\n",
       " (0.5019607843137255, 0.6941176470588235, 0.8274509803921568),\n",
       " (0.9921568627450981, 0.7058823529411765, 0.3843137254901961),\n",
       " (0.7019607843137254, 0.8705882352941177, 0.4117647058823529),\n",
       " (0.9882352941176471, 0.803921568627451, 0.8980392156862745),\n",
       " (0.8509803921568627, 0.8509803921568627, 0.8509803921568627),\n",
       " (0.7372549019607844, 0.5019607843137255, 0.7411764705882353),\n",
       " (0.8, 0.9215686274509803, 0.7725490196078432),\n",
       " (1.0, 0.9294117647058824, 0.43529411764705883))"
      ]
     },
     "execution_count": 107,
     "metadata": {},
     "output_type": "execute_result"
    }
   ],
   "source": [
    "set3.colors"
   ]
  },
  {
   "cell_type": "code",
   "execution_count": 127,
   "id": "6e0db433-dd79-4316-8bb9-ac26f8b970b9",
   "metadata": {},
   "outputs": [
    {
     "data": {
      "image/png": "[encoded data removed]",
      "text/plain": [
       "<Figure size 640x480 with 1 Axes>"
      ]
     },
     "metadata": {},
     "output_type": "display_data"
    }
   ],
   "source": [
    "fig, ax = plt.subplots()\n",
    "meanlineprops = dict(linestyle='-', linewidth=1.5, color='darkgoldenrod')\n",
    "\n",
    "# Plot the boxplots\n",
    "boxplot = ax.boxplot([pcors, naivecors, pcors4, naivecors4, cibercors, biscor,scadencors,tapecor], patch_artist=True,showmeans=True,meanline=True, meanprops=meanlineprops)\n",
    "#,meanprops = dict(color = \"green\", linewidth = 1.5), showmeans=True,meanline=True)\n",
    "\n",
    "# Define the colors for the boxes\n",
    "box_colors = ['lightblue', 'lightgreen', 'lightyellow', 'lightpink', 'lightgray']\n",
    "box_colors = set3.colors\n",
    "# Iterate over each box and set the facecolor\n",
    "for box, color in zip(boxplot['boxes'], box_colors):\n",
    "    box.set(facecolor=color)\n",
    "\n",
    "for median in boxplot['medians']:\n",
    "    median.set_color('none')  \n",
    "    \n",
    "# Add axis labels and title\n",
    "#ax.set_xlabel('Method')\n",
    "ax.set_ylabel('Pearson Correlation')\n",
    "#ax.set_title('Deconvolution Performance Comparison')\n",
    "\n",
    "# Add x-axis tick labels\n",
    "ax.set_xticklabels(['Semi (28)', 'Naive (28)', 'Semi (4)', 'Naive (4)','CIBERSORTx','Bisque','scaden','tape'])\n",
    "ax.set_ylim(0,1)\n",
    "# Display the plot\n",
    "plt.savefig('results/1111deconvpcor.pdf')\n",
    "plt.show()\n"
   ]
  },
  {
   "cell_type": "code",
   "execution_count": 128,
   "id": "76d98dd1-41b6-46f6-841b-bc77b7f64a43",
   "metadata": {},
   "outputs": [
    {
     "name": "stdout",
     "output_type": "stream",
     "text": [
      "between semi 4 and CIBERSORTx 2346.0 0.00038602172924439193\n",
      "between semi 28 and naive 28 1174.0 1.2374601711804421e-05\n",
      "between semi 4 and naive 4 3869.0 0.7343129189501648\n",
      "between semi 28 and semi 4 846.0 1.539095436277561e-13\n",
      "between semi 4 and bisque 771.0 3.51399235150409e-14\n",
      "between semi 28 and semi 4 846.0 1.539095436277561e-13\n",
      "between semi 4 and tape 771.0 3.51399235150409e-14\n",
      "between semi 4 and scaden 1735.0 3.474976660353824e-07\n"
     ]
    }
   ],
   "source": [
    "## wilcox for rmse\n",
    "\n",
    "# between semi 4 patients and CIBERSORTx\n",
    "r_semi4_ciber = wilcoxon(x=prmses4, y=ciberrmses, alternative='less')\n",
    "print('between semi 4 and CIBERSORTx',r_semi4_ciber.statistic, r_semi4_ciber.pvalue)\n",
    "\n",
    "# between semi 28 and naive 28\n",
    "r_semi28_naive28 = wilcoxon(x=prmses, y=naivermse, alternative='less')\n",
    "print('between semi 28 and naive 28',r_semi28_naive28.statistic, r_semi28_naive28.pvalue)\n",
    "\n",
    "# between semi 4 and naivee 4\n",
    "r_semi4_naive4 = wilcoxon(x=prmses4, y=naivermse4, alternative='less')\n",
    "print('between semi 4 and naive 4',r_semi4_naive4.statistic, r_semi4_naive4.pvalue)\n",
    "\n",
    "# between semi 28 and semi 4\n",
    "r_semi28_semi4 = wilcoxon(x=prmses, y=prmses4, alternative='less')\n",
    "print('between semi 28 and semi 4',r_semi28_semi4.statistic, r_semi28_semi4.pvalue)\n",
    "\n",
    "# between semi 4 and bisque\n",
    "r_semi4_bisque = wilcoxon(x=prmses4, y=bisrmse, alternative='less')\n",
    "print('between semi 4 and bisque',r_semi4_bisque.statistic, r_semi4_bisque.pvalue)\n",
    "\n",
    "# between semi 28 and sesmi 4\n",
    "r_semi28_semi4 = wilcoxon(x=prmses, y=prmses4, alternative='less')\n",
    "print('between semi 28 and semi 4',r_semi28_semi4.statistic, r_semi28_semi4.pvalue)\n",
    "\n",
    "res = wilcoxon(x=prmses4, y=tapermse, alternative='less')\n",
    "print('between semi 4 and tape',res.statistic, res.pvalue)\n",
    "\n",
    "res = wilcoxon(x=prmses4, y=scadenrmses, alternative='less')\n",
    "print('between semi 4 and scaden',res.statistic, res.pvalue)\n",
    "\n"
   ]
  },
  {
   "cell_type": "code",
   "execution_count": 130,
   "id": "4da2b3ad-668d-4f1d-9ea7-40aaef5a50ca",
   "metadata": {},
   "outputs": [
    {
     "data": {
      "image/png": "[encoded data removed]",
      "text/plain": [
       "<Figure size 640x480 with 1 Axes>"
      ]
     },
     "metadata": {},
     "output_type": "display_data"
    }
   ],
   "source": [
    "fig, ax = plt.subplots()\n",
    "\n",
    "# Plot the boxplots\n",
    "boxplot = ax.boxplot([prmses, naivermse, prmses4, naivermse4, ciberrmses, bisrmse,scadenrmses,tapermse], patch_artist=True,showmeans=True,meanline=True, meanprops=meanlineprops)\n",
    "\n",
    "# Define the colors for the boxes\n",
    "box_colors = ['lightblue', 'lightgreen', 'lightyellow', 'lightpink', 'lightgray']\n",
    "box_colors = set3.colors\n",
    "# Iterate over each box and set the facecolor\n",
    "for box, color in zip(boxplot['boxes'], box_colors):\n",
    "    box.set(facecolor=color)\n",
    "\n",
    "    \n",
    "for median in boxplot['medians']:\n",
    "    median.set_color('none')  \n",
    "    \n",
    "    \n",
    "# Add axis labels and title\n",
    "#ax.set_xlabel('Method')\n",
    "ax.set_ylabel('RMSE')\n",
    "#ax.set_title('Deconvolution Performance Comparison')\n",
    "\n",
    "# Add x-axis tick labels\n",
    "ax.set_xticklabels(['Semi', 'Naive', 'Semi (4)', 'Naive (4)','CIBERSORTx','Bisque','scaden','tape'])\n",
    "ax.set_ylim(0,0.15)\n",
    "# Display the plot\n",
    "plt.savefig('results/1111deconv_rmse.pdf')\n",
    "\n",
    "plt.show()"
   ]
  },
  {
   "cell_type": "code",
   "execution_count": null,
   "id": "b230a35d-9ab8-401e-83c2-05751e94f31a",
   "metadata": {},
   "outputs": [],
   "source": []
  },
  {
   "cell_type": "code",
   "execution_count": null,
   "id": "474deacb-0893-4f39-9611-b3811db04e93",
   "metadata": {},
   "outputs": [],
   "source": []
  },
  {
   "cell_type": "code",
   "execution_count": null,
   "id": "f0c0b856-6f1b-4eeb-8b51-3387916ca4de",
   "metadata": {},
   "outputs": [],
   "source": []
  },
  {
   "cell_type": "code",
   "execution_count": null,
   "id": "57d74130-88d5-47b5-aa85-35ba092a48b3",
   "metadata": {},
   "outputs": [],
   "source": []
  }
 ],
 "metadata": {
  "kernelspec": {
   "display_name": "deep",
   "language": "python",
   "name": "deep"
  },
  "language_info": {
   "codemirror_mode": {
    "name": "ipython",
    "version": 3
   },
   "file_extension": ".py",
   "mimetype": "text/x-python",
   "name": "python",
   "nbconvert_exporter": "python",
   "pygments_lexer": "ipython3",
   "version": "3.9.13"
  }
 },
 "nbformat": 4,
 "nbformat_minor": 5
}
