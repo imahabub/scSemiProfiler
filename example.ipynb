{
 "cells": [
  {
   "cell_type": "code",
   "execution_count": 2,
   "id": "d71d7d3d-4de6-4b28-af6c-9f3a78123ef6",
   "metadata": {},
   "outputs": [],
   "source": [
    "import pdb,sys,os\n",
    "import anndata\n",
    "import scanpy as sc\n",
    "import argparse\n",
    "import copy\n",
    "import numpy as np\n",
    "from sklearn.cluster import KMeans\n",
    "import scipy\n",
    "import faiss\n",
    "import torch\n",
    "import sklearn\n",
    "import scvi\n",
    "import scSemiProfiler\n",
    "import gc\n",
    "import timeit\n",
    "import warnings\n",
    "warnings.filterwarnings('ignore')\n",
    "from scipy import stats\n",
    "from sklearn.neighbors import kneighbors_graph\n",
    "from matplotlib.pyplot import figure\n",
    "import matplotlib.pyplot as plt\n",
    "#from fast_functions import *\n",
    "from torch.utils.data import Dataset\n"
   ]
  },
  {
   "cell_type": "code",
   "execution_count": 2,
   "id": "d4e362bc-b508-4cba-b88c-7ba75271f2fb",
   "metadata": {},
   "outputs": [],
   "source": [
    "from scSemiProfiler import initsetup,get_eg_representatives,scprocess,scinfer,activeselect"
   ]
  },
  {
   "cell_type": "markdown",
   "id": "416589f8-50a4-4fd9-8e95-dae40a007183",
   "metadata": {},
   "source": [
    "## Step 1 Initial Setup \n",
    "The user provided bulk data is preprocessed, dimensionality reduced, and clustered. \\\n",
    "The sample closest to the cluster centroids are selected as initial representatives.\\\n",
    "*Estimated Time: Less than 1 minute*"
   ]
  },
  {
   "cell_type": "code",
   "execution_count": 6,
   "id": "e88a8d66-f060-474d-9e52-56908dc90a84",
   "metadata": {},
   "outputs": [],
   "source": [
    "name = 'testrun'\n",
    "bulk = 'example_data/bulkdata.h5ad'\n",
    "normed = 'yes'\n",
    "geneselection = 'no'\n",
    "batch = 2"
   ]
  },
  {
   "cell_type": "code",
   "execution_count": null,
   "id": "f5c1438f-475a-46ce-94b5-eebc05018a71",
   "metadata": {},
   "outputs": [],
   "source": [
    "initsetup.initsetup(name, bulk,normed,geneselection,batch)"
   ]
  },
  {
   "cell_type": "markdown",
   "id": "7d56cb06-b702-4722-bcf5-ed0a9e786c69",
   "metadata": {},
   "source": [
    "## Step 1.5 Acquiring Single-cell Data for Representatives\n",
    "The user will sequence the representatives to obtain their actual single-cell data.\\\n",
    "In our example, we offer a function that allows for the extraction of representatives' single-cell data from a pre-prepared dataset.\\\n",
    "*Estimated Time: Less than 1 minute*"
   ]
  },
  {
   "cell_type": "code",
   "execution_count": 4,
   "id": "dcc8af94-5fc6-4ef7-8916-e648f46bdbd3",
   "metadata": {},
   "outputs": [],
   "source": [
    "get_eg_representatives.get_eg_representatives(name)"
   ]
  },
  {
   "cell_type": "markdown",
   "id": "4c35e4fc-6eaf-4fc3-89c8-c34b45052d89",
   "metadata": {},
   "source": [
    "## Step 2 Single-cell Processing & Feature Augmentation\n",
    "In this step, we preprocess the representatives' single-cell data and apply various feature augmentations.\\\n",
    "These enhancements include the addition of gene set scores, aggregation of neighbor cell information, and calculation of gene importance weights.\\\n",
    "*Estimated Time: 2 minutes for each sample with 7000 cells*"
   ]
  },
  {
   "cell_type": "code",
   "execution_count": 4,
   "id": "928ca024-4ef6-4938-aaed-b8d52780681e",
   "metadata": {},
   "outputs": [
    {
     "name": "stdout",
     "output_type": "stream",
     "text": [
      "Processing representative single-cell data\n",
      "Removing background noise\n",
      "Computing geneset scores\n",
      "GMT file c2.cp.v7.4.symbols.gmt loading ... \n",
      "2922\n",
      "Number of genes in c2.cp.v7.4.symbols.gmt 4240\n",
      "GMT file c2.cp.v7.4.symbols.gmt loading ... \n",
      "2922\n",
      "Number of genes in c2.cp.v7.4.symbols.gmt 4240\n",
      "Augmenting and saving single-cell data.\n",
      "Finished processing representative single-cell data\n"
     ]
    }
   ],
   "source": [
    "scprocess.scprocess(name=name,singlecell=name+'/representative_sc.h5ad',normed='yes',cellfilter='no',threshold=1e-3,geneset='yes',weight='yes',k=15)"
   ]
  },
  {
   "cell_type": "markdown",
   "id": "95647a7e-9d84-4746-9554-96208f2dea30",
   "metadata": {},
   "source": [
    "## Step 3 Single-cell Inference\n",
    "In this step, we employ a VAE-GAN-based deep generative model to infer the single-cell data for each target (non-representative) sample.\\\n",
    "The model training is divided into three distinct stages:\\\n",
    "\n",
    "1. **Pretrain 1**: The model is trained to reconstruct the representatives' single-cell data.\n",
    "\n",
    "2. **Pretrain 2**: The model continues its reconstruction training in full batch mode, \\\n",
    "now incorporating an additional \"representative bulk loss\" term in the loss function.\\\n",
    "This term ensures that the reconstructed cells' average expression is similar to pseudobulk.\n",
    "\n",
    "3. **Inference**: The bulk data difference between the representative and target sample\\\n",
    "is integrated into the generator's reconstruction process through a 'target bulk loss'. \\\n",
    "This guides the generator to accurately infer the target sample's cells.\n",
    "\n",
    "\n",
    "*Estimated Time for Samples with Approximately 7000 Cells*:\n",
    "   - Pretrain 1: 15 minutes per sample\n",
    "   - Pretrain 2: 5 minutes per sample\n",
    "   - Inference: 30 minutes per sample"
   ]
  },
  {
   "cell_type": "code",
   "execution_count": 18,
   "id": "ca628505-e69f-4260-9613-473be586ff46",
   "metadata": {},
   "outputs": [],
   "source": [
    "name= 'testrun'"
   ]
  },
  {
   "cell_type": "code",
   "execution_count": null,
   "id": "18cc3819-983b-4e69-9edc-77d51e395542",
   "metadata": {},
   "outputs": [],
   "source": []
  },
  {
   "cell_type": "code",
   "execution_count": null,
   "id": "6d564c85-cd57-4ab3-ad6e-ab0f435a58a9",
   "metadata": {
    "collapsed": true,
    "jupyter": {
     "outputs_hidden": true
    },
    "tags": []
   },
   "outputs": [
    {
     "name": "stdout",
     "output_type": "stream",
     "text": [
      "Start single-cell inference in cohort mode\n",
      "pretrain 1: representative reconstruction\n",
      "load existing pretrain 1 reconstruction model for BGCV09_CV0279\n"
     ]
    },
    {
     "name": "stderr",
     "output_type": "stream",
     "text": [
      "WARNING: All log messages before absl::InitializeLog() is called are written to STDERR\n",
      "I0000 00:00:1701842245.355163 2958311 tfrt_cpu_pjrt_client.cc:349] TfrtCpuClient created.\n",
      "An NVIDIA GPU may be present on this machine, but a CUDA-enabled jaxlib is not installed. Falling back to cpu.\n"
     ]
    },
    {
     "name": "stdout",
     "output_type": "stream",
     "text": [
      "\u001b[34mINFO    \u001b[0m Generating sequential column names                                                                        \n",
      "load existing pretrain 1 reconstruction model for MH9143426\n",
      "\u001b[34mINFO    \u001b[0m Generating sequential column names                                                                        \n",
      "pretrain2: reconstruction with representative bulk loss\n",
      "load existing model\n",
      "load existing pretrain 2 model for BGCV09_CV0279\n",
      "\u001b[34mINFO    \u001b[0m Generating sequential column names                                                                        \n",
      "load existing model\n",
      "load existing pretrain 2 model for MH9143426\n",
      "\u001b[34mINFO    \u001b[0m Generating sequential column names                                                                        \n",
      "inference\n",
      "\u001b[34mINFO    \u001b[0m Generating sequential column names                                                                        \n",
      "\u001b[34mINFO    \u001b[0m Generating sequential column names                                                                        \n"
     ]
    },
    {
     "name": "stderr",
     "output_type": "stream",
     "text": [
      "GPU available: True (cuda), used: True\n",
      "TPU available: False, using: 0 TPU cores\n",
      "IPU available: False, using: 0 IPUs\n",
      "HPU available: False, using: 0 HPUs\n",
      "You are using a CUDA device ('NVIDIA A16') that has Tensor Cores. To properly utilize them, you should set `torch.set_float32_matmul_precision('medium' | 'high')` which will trade-off precision for performance. For more details, read https://pytorch.org/docs/stable/generated/torch.set_float32_matmul_precision.html#torch.set_float32_matmul_precision\n",
      "LOCAL_RANK: 0 - CUDA_VISIBLE_DEVICES: [0,1,2,3,4,5,6,7]\n"
     ]
    },
    {
     "name": "stdout",
     "output_type": "stream",
     "text": [
      "Epoch 400/400: 100%|█| 400/400 [08:09<00:00,  1.22s/it, v_num=1, train_loss_"
     ]
    },
    {
     "name": "stderr",
     "output_type": "stream",
     "text": [
      "`Trainer.fit` stopped: `max_epochs=400` reached.\n"
     ]
    },
    {
     "name": "stdout",
     "output_type": "stream",
     "text": [
      "Epoch 400/400: 100%|█| 400/400 [08:09<00:00,  1.22s/it, v_num=1, train_loss_\n"
     ]
    },
    {
     "name": "stderr",
     "output_type": "stream",
     "text": [
      "GPU available: True (cuda), used: True\n",
      "TPU available: False, using: 0 TPU cores\n",
      "IPU available: False, using: 0 IPUs\n",
      "HPU available: False, using: 0 HPUs\n",
      "You are using a CUDA device ('NVIDIA A16') that has Tensor Cores. To properly utilize them, you should set `torch.set_float32_matmul_precision('medium' | 'high')` which will trade-off precision for performance. For more details, read https://pytorch.org/docs/stable/generated/torch.set_float32_matmul_precision.html#torch.set_float32_matmul_precision\n",
      "LOCAL_RANK: 0 - CUDA_VISIBLE_DEVICES: [0,1,2,3,4,5,6,7]\n"
     ]
    },
    {
     "name": "stdout",
     "output_type": "stream",
     "text": [
      "Epoch 400/400: 100%|█| 400/400 [08:07<00:00,  1.21s/it, v_num=1, train_loss_"
     ]
    },
    {
     "name": "stderr",
     "output_type": "stream",
     "text": [
      "`Trainer.fit` stopped: `max_epochs=400` reached.\n"
     ]
    },
    {
     "name": "stdout",
     "output_type": "stream",
     "text": [
      "Epoch 400/400: 100%|█| 400/400 [08:07<00:00,  1.22s/it, v_num=1, train_loss_\n"
     ]
    },
    {
     "name": "stderr",
     "output_type": "stream",
     "text": [
      "GPU available: True (cuda), used: True\n",
      "TPU available: False, using: 0 TPU cores\n",
      "IPU available: False, using: 0 IPUs\n",
      "HPU available: False, using: 0 HPUs\n",
      "You are using a CUDA device ('NVIDIA A16') that has Tensor Cores. To properly utilize them, you should set `torch.set_float32_matmul_precision('medium' | 'high')` which will trade-off precision for performance. For more details, read https://pytorch.org/docs/stable/generated/torch.set_float32_matmul_precision.html#torch.set_float32_matmul_precision\n",
      "LOCAL_RANK: 0 - CUDA_VISIBLE_DEVICES: [0,1,2,3,4,5,6,7]\n"
     ]
    },
    {
     "name": "stdout",
     "output_type": "stream",
     "text": [
      "Epoch 200/200: 100%|█| 200/200 [04:04<00:00,  1.20s/it, v_num=1, train_loss_"
     ]
    },
    {
     "name": "stderr",
     "output_type": "stream",
     "text": [
      "`Trainer.fit` stopped: `max_epochs=200` reached.\n"
     ]
    },
    {
     "name": "stdout",
     "output_type": "stream",
     "text": [
      "Epoch 200/200: 100%|█| 200/200 [04:04<00:00,  1.22s/it, v_num=1, train_loss_\n"
     ]
    },
    {
     "name": "stderr",
     "output_type": "stream",
     "text": [
      "GPU available: True (cuda), used: True\n",
      "TPU available: False, using: 0 TPU cores\n",
      "IPU available: False, using: 0 IPUs\n",
      "HPU available: False, using: 0 HPUs\n",
      "You are using a CUDA device ('NVIDIA A16') that has Tensor Cores. To properly utilize them, you should set `torch.set_float32_matmul_precision('medium' | 'high')` which will trade-off precision for performance. For more details, read https://pytorch.org/docs/stable/generated/torch.set_float32_matmul_precision.html#torch.set_float32_matmul_precision\n",
      "LOCAL_RANK: 0 - CUDA_VISIBLE_DEVICES: [0,1,2,3,4,5,6,7]\n"
     ]
    },
    {
     "name": "stdout",
     "output_type": "stream",
     "text": [
      "Epoch 200/200: 100%|█| 200/200 [04:01<00:00,  1.19s/it, v_num=1, train_loss_"
     ]
    },
    {
     "name": "stderr",
     "output_type": "stream",
     "text": [
      "`Trainer.fit` stopped: `max_epochs=200` reached.\n"
     ]
    },
    {
     "name": "stdout",
     "output_type": "stream",
     "text": [
      "Epoch 200/200: 100%|█| 200/200 [04:01<00:00,  1.21s/it, v_num=1, train_loss_\n"
     ]
    },
    {
     "name": "stderr",
     "output_type": "stream",
     "text": [
      "GPU available: True (cuda), used: True\n",
      "TPU available: False, using: 0 TPU cores\n",
      "IPU available: False, using: 0 IPUs\n",
      "HPU available: False, using: 0 HPUs\n",
      "You are using a CUDA device ('NVIDIA A16') that has Tensor Cores. To properly utilize them, you should set `torch.set_float32_matmul_precision('medium' | 'high')` which will trade-off precision for performance. For more details, read https://pytorch.org/docs/stable/generated/torch.set_float32_matmul_precision.html#torch.set_float32_matmul_precision\n",
      "LOCAL_RANK: 0 - CUDA_VISIBLE_DEVICES: [0,1,2,3,4,5,6,7]\n"
     ]
    },
    {
     "name": "stdout",
     "output_type": "stream",
     "text": [
      "Epoch 400/400: 100%|█| 400/400 [07:56<00:00,  1.19s/it, v_num=1, train_loss_"
     ]
    },
    {
     "name": "stderr",
     "output_type": "stream",
     "text": [
      "`Trainer.fit` stopped: `max_epochs=400` reached.\n"
     ]
    },
    {
     "name": "stdout",
     "output_type": "stream",
     "text": [
      "Epoch 400/400: 100%|█| 400/400 [07:56<00:00,  1.19s/it, v_num=1, train_loss_\n",
      "\u001b[34mINFO    \u001b[0m Generating sequential column names                                                                        \n",
      "\u001b[34mINFO    \u001b[0m Generating sequential column names                                                                        \n"
     ]
    },
    {
     "name": "stderr",
     "output_type": "stream",
     "text": [
      "GPU available: True (cuda), used: True\n",
      "TPU available: False, using: 0 TPU cores\n",
      "IPU available: False, using: 0 IPUs\n",
      "HPU available: False, using: 0 HPUs\n",
      "You are using a CUDA device ('NVIDIA A16') that has Tensor Cores. To properly utilize them, you should set `torch.set_float32_matmul_precision('medium' | 'high')` which will trade-off precision for performance. For more details, read https://pytorch.org/docs/stable/generated/torch.set_float32_matmul_precision.html#torch.set_float32_matmul_precision\n",
      "LOCAL_RANK: 0 - CUDA_VISIBLE_DEVICES: [0,1,2,3,4,5,6,7]\n"
     ]
    },
    {
     "name": "stdout",
     "output_type": "stream",
     "text": [
      "Epoch 342/400:  85%|▊| 341/400 [02:24<00:25,  2.34it/s, v_num=1, train_loss_"
     ]
    }
   ],
   "source": [
    "representatives = 'testrun/status/init_representatives.txt'\n",
    "cluster = 'testrun/status/init_cluster_labels.txt'\n",
    "targetid = None\n",
    "bulktype = 'pseudobulk'\n",
    "\n",
    "scinfer.scinfer(name, representatives,cluster,targetid,bulktype)"
   ]
  },
  {
   "cell_type": "markdown",
   "id": "010abe72-4fa3-4db5-83e6-56b1b95e9fdf",
   "metadata": {},
   "source": [
    "## Visualization"
   ]
  },
  {
   "cell_type": "code",
   "execution_count": 4,
   "id": "4f33ea89-1422-4ec1-a083-6104a0acff73",
   "metadata": {},
   "outputs": [],
   "source": [
    "# visualizing inference performance for a target sample\n",
    "def visualize_inferred(name, sids, target, representatives, cluster_labels):\n",
    "    \n",
    "    representative = representatives[cluster_labels[target]]\n",
    "    repredata = anndata.read_h5ad(name + '/sample_sc/'+sids[representative]+'.h5ad')\n",
    "    x0 = repredata.X\n",
    "    genelen = x0.shape[1]\n",
    "    \n",
    "    xsem = np.load(name + '/inferreddata/' + sids[representative] + '_to_' + sids[target]+'.npy' )\n",
    "    x1 = xsem[:,:genelen]\n",
    "    alldata = anndata.read_h5ad('example_data/scdata.h5ad')\n",
    "    tgtdata = alldata[alldata.obs['sample_ids']==sids[target]]\n",
    "    x2 = np.array(tgtdata.X.todense())\n",
    "    x2 = np.exp(x2)-1\n",
    "    \n",
    "    vdata = anndata.AnnData(np.concatenate([x0,x1,x2],axis=0))\n",
    "    rc = []\n",
    "    for i in range(x0.shape[0]):\n",
    "        rc.append('Representative')\n",
    "    for i in range(x1.shape[0]):\n",
    "        rc.append('Target inferred')\n",
    "    for i in range(x2.shape[0]):\n",
    "        rc.append('Target ground truth')\n",
    "    vdata.obs['recon'] = rc\n",
    "    sc.pp.log1p(vdata)\n",
    "    sc.tl.pca(vdata)\n",
    "    sc.pp.neighbors(vdata)\n",
    "    sc.tl.umap(vdata)\n",
    "    \n",
    "    palette = {'Representative':'blue','Target inferred':'yellow','Target ground truth':'red'}\n",
    "    sc.pl.umap(vdata,color='recon',alpha=0.5,palette=palette)\n",
    "    \n",
    "    return"
   ]
  },
  {
   "cell_type": "code",
   "execution_count": 7,
   "id": "9d3d1757-fc8d-4899-a854-d9c30953a5b3",
   "metadata": {},
   "outputs": [],
   "source": [
    "sids = []\n",
    "f = open(name + '/sids.txt','r')\n",
    "lines = f.readlines()\n",
    "for l in lines:\n",
    "    sids.append(l.strip())\n",
    "f.close()\n",
    "\n",
    "repres = []\n",
    "f=open(name + '/status/init_representatives.txt','r')\n",
    "lines = f.readlines()\n",
    "f.close()\n",
    "for l in lines:\n",
    "    repres.append(int(l.strip()))\n",
    "\n",
    "cl = []\n",
    "f=open(name + '/status/init_cluster_labels.txt','r')\n",
    "lines = f.readlines()\n",
    "f.close()\n",
    "for l in lines:\n",
    "    cl.append(int(l.strip()))"
   ]
  },
  {
   "cell_type": "markdown",
   "id": "e0fda7db-e762-4fb2-8086-8688297c0d42",
   "metadata": {},
   "source": [
    "Successful inference should generate target cells closer to the target ground truth than to the representative cells."
   ]
  },
  {
   "cell_type": "code",
   "execution_count": 8,
   "id": "9562a01f-07cb-4d0e-b8dc-d50443ae2a56",
   "metadata": {},
   "outputs": [
    {
     "data": {
      "image/png": "[encoded data removed]",
      "text/plain": [
       "<Figure size 640x480 with 1 Axes>"
      ]
     },
     "metadata": {},
     "output_type": "display_data"
    }
   ],
   "source": [
    "visualize_inferred(name, sids, 0, repres, cl)"
   ]
  },
  {
   "cell_type": "code",
   "execution_count": null,
   "id": "579c9e6b-bd75-4b0a-8dbd-0ab2f1b9f141",
   "metadata": {},
   "outputs": [],
   "source": []
  },
  {
   "cell_type": "markdown",
   "id": "9f610f2a-98f7-4da1-b47b-5a06ab31cea6",
   "metadata": {},
   "source": [
    "## Optional: New Representative Selection and Run the Next Round\n",
    "You have the option to employ active learning for the selection of additional representatives.\\\n",
    "This approach can result in some target samples having more similar representatives,\\\n",
    "thereby enhancing the accuracy of the inference process."
   ]
  },
  {
   "cell_type": "markdown",
   "id": "47116589-20aa-4e64-9926-203cf8dea8c0",
   "metadata": {},
   "source": [
    "### select a new batch of representatives using active learning:"
   ]
  },
  {
   "cell_type": "code",
   "execution_count": 8,
   "id": "5f328231-544b-41ec-87f4-5a0055697926",
   "metadata": {},
   "outputs": [],
   "source": [
    "representatives = 'testrun/status/init_representatives.txt'\n",
    "cluster = 'testrun/status/init_cluster_labels.txt'\n",
    "targetid = None\n",
    "bulktype = 'pseudobulk'"
   ]
  },
  {
   "cell_type": "code",
   "execution_count": 13,
   "id": "9ee7aea3-d615-411d-a7d4-28a3b6c001fe",
   "metadata": {},
   "outputs": [
    {
     "name": "stdout",
     "output_type": "stream",
     "text": [
      "Running active learning to select new representatives\n",
      "selection finished\n"
     ]
    }
   ],
   "source": [
    "activeselect.activeselection(name, representatives,cluster,batch=2,lambdasc=1,lambdapb=1)"
   ]
  },
  {
   "cell_type": "markdown",
   "id": "e86dde47-ee7a-44ee-b4a8-e0b88aae3db8",
   "metadata": {},
   "source": [
    "### obtain single-cell data for new representatives:"
   ]
  },
  {
   "cell_type": "code",
   "execution_count": 14,
   "id": "d0b12441-ce42-4fc3-bd5d-b012de89d6e6",
   "metadata": {},
   "outputs": [],
   "source": [
    "get_eg_representatives.get_eg_representatives(name)"
   ]
  },
  {
   "cell_type": "code",
   "execution_count": 15,
   "id": "f7aaab62-26f4-4ff1-ac95-5109360fcf81",
   "metadata": {},
   "outputs": [
    {
     "name": "stdout",
     "output_type": "stream",
     "text": [
      "Processing representative single-cell data\n",
      "Removing background noise\n",
      "Computing geneset scores\n",
      "GMT file c2.cp.v7.4.symbols.gmt loading ... \n",
      "2922\n",
      "Number of genes in c2.cp.v7.4.symbols.gmt 4240\n",
      "GMT file c2.cp.v7.4.symbols.gmt loading ... \n",
      "2922\n",
      "Number of genes in c2.cp.v7.4.symbols.gmt 4240\n",
      "GMT file c2.cp.v7.4.symbols.gmt loading ... \n",
      "2922\n",
      "Number of genes in c2.cp.v7.4.symbols.gmt 4240\n",
      "GMT file c2.cp.v7.4.symbols.gmt loading ... \n",
      "2922\n",
      "Number of genes in c2.cp.v7.4.symbols.gmt 4240\n",
      "Augmenting and saving single-cell data.\n",
      "Finished processing representative single-cell data\n"
     ]
    }
   ],
   "source": [
    "scprocess.scprocess(name=name,singlecell=name+'/representative_sc.h5ad',normed='yes',cellfilter='no',threshold=1e-3,geneset='yes',weight='yes',k=15)"
   ]
  },
  {
   "cell_type": "markdown",
   "id": "022a2587-046f-48e1-8c1a-349bde1bfd9d",
   "metadata": {},
   "source": [
    "### run single-cell inference again with more representatives:"
   ]
  },
  {
   "cell_type": "code",
   "execution_count": null,
   "id": "d35f9cec-fb5a-49a6-93f3-ae47b4962947",
   "metadata": {},
   "outputs": [],
   "source": [
    "representatives = 'testrun/status/eer_representatives_2.txt'\n",
    "cluster = 'testrun/status/eer_cluster_labels_2.txt'\n",
    "targetid = None\n",
    "bulktype = 'pseudobulk'\n",
    "\n",
    "scinfer.scinfer(name, representatives, cluster, targetid, bulktype)"
   ]
  }
 ],
 "metadata": {
  "kernelspec": {
   "display_name": "semi",
   "language": "python",
   "name": "semi"
  },
  "language_info": {
   "codemirror_mode": {
    "name": "ipython",
    "version": 3
   },
   "file_extension": ".py",
   "mimetype": "text/x-python",
   "name": "python",
   "nbconvert_exporter": "python",
   "pygments_lexer": "ipython3",
   "version": "3.9.18"
  }
 },
 "nbformat": 4,
 "nbformat_minor": 5
}
