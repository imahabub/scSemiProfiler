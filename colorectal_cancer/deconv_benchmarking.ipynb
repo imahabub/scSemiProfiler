{
 "cells": [
  {
   "cell_type": "code",
   "execution_count": 1,
   "id": "1e662f24-ecbe-4e10-ba00-814c703cb38a",
   "metadata": {},
   "outputs": [],
   "source": [
    "import numpy as np\n",
    "import scanpy as sc\n",
    "import os\n",
    "import anndata\n",
    "import matplotlib.pyplot as plt\n",
    "import scipy\n",
    "from scipy.stats import wilcoxon\n",
    "from matplotlib.pyplot import figure\n",
    "import copy\n",
    "import json\n",
    "import gseapy\n",
    "from gseapy import enrichr"
   ]
  },
  {
   "cell_type": "code",
   "execution_count": 2,
   "id": "3bdb38a8-4434-4c83-9d37-4d4d54a3c7b4",
   "metadata": {
    "tags": []
   },
   "outputs": [],
   "source": [
    "\n",
    "pids=[]\n",
    "f = open('sids.txt','r')\n",
    "lines=f.readlines()\n",
    "for l in lines:\n",
    "    pids.append(l.strip())\n",
    "\n",
    "reprefile = 'training_rec/init_representatives_4.txt'    #'uncertainty2_representatives.txt'\n",
    "clusterfile = 'training_rec/init_cluster_labels_4.txt'      #'uncertainty2_cluster_labels.txt'\n",
    "\n",
    "f= open(reprefile,'r')\n",
    "lines=f.readlines()\n",
    "init_representatives=[]\n",
    "for l in lines:\n",
    "    init_representatives.append(int(l.strip().split()[0]))\n",
    "f.close()\n",
    "\n",
    "f= open(clusterfile,'r')\n",
    "init_cluster_labels=[]\n",
    "lines=f.readlines()\n",
    "for l in lines:\n",
    "    init_cluster_labels.append(int(l.strip().split()[0]))\n",
    "f.close()"
   ]
  },
  {
   "cell_type": "code",
   "execution_count": null,
   "id": "400cf77a-d0fb-49b5-a670-1ec0ea4cfcf3",
   "metadata": {},
   "outputs": [],
   "source": []
  },
  {
   "cell_type": "code",
   "execution_count": null,
   "id": "3ba2266f-862a-4923-9e20-bac604bcfaa4",
   "metadata": {},
   "outputs": [],
   "source": []
  },
  {
   "cell_type": "code",
   "execution_count": 3,
   "id": "eeea82b4-728a-4485-a33e-643210579f49",
   "metadata": {},
   "outputs": [
    {
     "data": {
      "text/plain": [
       "AnnData object with n_obs × n_vars = 214358 × 4053\n",
       "    obs: 'patient_ids', 'celltypes', 'sample_ids', 'sample_origin'\n",
       "    var: 'gene_symbols'\n",
       "    obsm: 'X_pca', 'X_umap_self'"
      ]
     },
     "execution_count": 3,
     "metadata": {},
     "output_type": "execute_result"
    }
   ],
   "source": [
    "hvalldata = anndata.read_h5ad('alldata.h5ad')\n",
    "hvalldata"
   ]
  },
  {
   "cell_type": "code",
   "execution_count": 4,
   "id": "5accb485-9a9c-429e-808c-22361edde1ca",
   "metadata": {},
   "outputs": [],
   "source": [
    "hvmask = np.load('hvmask.npy')\n",
    "setmask = np.load('hvset.npy')"
   ]
  },
  {
   "cell_type": "code",
   "execution_count": 5,
   "id": "e9c7614e-0d27-4161-a9d3-ef8935790f37",
   "metadata": {},
   "outputs": [],
   "source": [
    "pnum = 36\n",
    "rnd = int(pnum/4)\n",
    "\n",
    "reprefile = 'active_training_rec/eer_representatives_'+str(rnd)+'.txt'    \n",
    "#'eer_representatives_'+str(rnd)+'.txt' #'init_representatives_4.txt'    #'uncertainty2_representatives.txt'\n",
    "clusterfile = 'active_training_rec/eer_cluster_labels_'+str(rnd)+'.txt'\n",
    "#'eer_cluster_labels_'+str(rnd)+'.txt' #'init_cluster_labels_4.txt'      #'uncertainty2_cluster_labels.txt'\n",
    "\n",
    "f= open(reprefile,'r')\n",
    "lines=f.readlines()\n",
    "representatives=[]\n",
    "for l in lines:\n",
    "    representatives.append(int(l.strip().split()[0]))\n",
    "f.close()\n",
    "\n",
    "f= open(clusterfile,'r')\n",
    "cluster_labels=[]\n",
    "lines=f.readlines()\n",
    "for l in lines:\n",
    "    cluster_labels.append(int(l.strip().split()[0]))\n",
    "f.close()"
   ]
  },
  {
   "cell_type": "code",
   "execution_count": 9,
   "id": "e13c8e66-0fe0-4344-9940-67b1797bab12",
   "metadata": {},
   "outputs": [],
   "source": [
    "\n",
    "\n",
    "semisdata = anndata.read_h5ad('semisdata_withcelltype.h5ad')"
   ]
  },
  {
   "cell_type": "code",
   "execution_count": 10,
   "id": "802ffe63-d131-4e5b-8d03-a0e92cefe34b",
   "metadata": {},
   "outputs": [
    {
     "name": "stdout",
     "output_type": "stream",
     "text": [
      "0, 1, 2, 3, 4, 5, 6, 7, 8, 9, 10, 11, 12, 13, 14, 15, 16, 17, 18, 19, 20, 21, 22, 23, 24, 25, 26, 27, 28, 29, 30, 31, 32, 33, 34, 35, 36, 37, 38, 39, 40, 41, 42, 43, 44, 45, 46, 47, 48, 49, 50, 51, 52, 53, 54, 55, 56, 57, 58, 59, 60, 61, 62, 63, 64, 65, 66, 67, 68, 69, 70, 71, 72, 73, 74, 75, 76, 77, 78, 79, 80, 81, 82, 83, 84, 85, 86, 87, 88, 89, 90, 91, 92, 93, 94, 95, 96, 97, 98, 99, 100, 101, 102, 103, 104, 105, 106, 107, 108, 109, 110, 111, \n",
      "16.28047333401628 seconds\n"
     ]
    }
   ],
   "source": [
    "## load \n",
    "import timeit \n",
    "t_start = timeit.default_timer()\n",
    "\n",
    "celltypes = []\n",
    "gts=[]\n",
    "semis4=[]\n",
    "semis=[]\n",
    "pcelltypes = []\n",
    "pcelltypes4 = []\n",
    "for i in range(len(pids)):\n",
    "    pid = pids[i]\n",
    "    adata = hvalldata[np.array(hvalldata.obs['sample_ids'])==pid,:]\n",
    "    celltype = adata.obs['celltypes']\n",
    "    \n",
    "    gts.append(np.array(adata.X))\n",
    "    \n",
    "    repre = representatives[cluster_labels[i]]\n",
    "    reprepid = pids[repre]\n",
    "    if reprepid==pid:\n",
    "        semis.append(np.array(adata.X))\n",
    "    else:\n",
    "        xsem = np.load('semidata/fast'+ reprepid+'_to_'+pid+'.npy') # 6000genebackup/\n",
    "        xsem=np.array(xsem)\n",
    "        xsem = xsem*(xsem>10)\n",
    "        semis.append(np.log(xsem+1))\n",
    "        \n",
    "    \n",
    "    initrepre = init_representatives[init_cluster_labels[i]]\n",
    "    initreprepid = pids[initrepre]\n",
    "    if initreprepid == pid:\n",
    "        semis4.append(np.array(adata.X))\n",
    "    else:\n",
    "        xsem = np.load('semidata/fast'+ initreprepid+'_to_'+pid+'.npy') # 6000genebackup/\n",
    "        xsem=np.array(xsem)\n",
    "        xsem = xsem*(xsem>10)\n",
    "        semis4.append(np.log(xsem+1))\n",
    "    \n",
    "    bdata = semisdata[np.array(semisdata.obs['sample_ids'])==pid]\n",
    "    pcelltype = bdata.obs['celltypes']\n",
    "    \n",
    "    pcelltypes.append(pcelltype)\n",
    "    celltypes.append(celltype)\n",
    "    print(i,end=', ')\n",
    "\n",
    "#X = np.concatenate([np.array(gts),np.array(xsemis)],axis=0)\n",
    "#pca = PCA(n_components=100)\n",
    "#X_PCA = pca.fit_transform(X)\n",
    "#umap_reduc=umap.UMAP()\n",
    "#X_UMAP = umap_reduc.fit_transform(X_PCA)\n",
    "\n",
    "t_end = timeit.default_timer()\n",
    "print()\n",
    "print(str(t_end-t_start),'seconds')"
   ]
  },
  {
   "cell_type": "code",
   "execution_count": null,
   "id": "dfe739da-d11f-48de-9144-f4d6cdfc2441",
   "metadata": {},
   "outputs": [],
   "source": [
    "\n"
   ]
  },
  {
   "cell_type": "code",
   "execution_count": 7,
   "id": "0fd28dec-83ce-4da5-94aa-36d9af4955cd",
   "metadata": {},
   "outputs": [],
   "source": [
    "import sklearn\n",
    "from sklearn.svm import LinearSVC"
   ]
  },
  {
   "cell_type": "code",
   "execution_count": 8,
   "id": "859fc3b4-aeed-434e-81b1-b54a1a83a4ca",
   "metadata": {},
   "outputs": [],
   "source": [
    "def deconv(svc,xtest):\n",
    "    ytest = svc.predict((xtest))\n",
    "    return list(ytest)"
   ]
  },
  {
   "cell_type": "code",
   "execution_count": 219,
   "id": "1eee6128-e02b-4f61-8b6b-965ff715efc9",
   "metadata": {},
   "outputs": [
    {
     "data": {
      "text/html": [
       "<style>#sk-container-id-2 {color: black;background-color: white;}#sk-container-id-2 pre{padding: 0;}#sk-container-id-2 div.sk-toggleable {background-color: white;}#sk-container-id-2 label.sk-toggleable__label {cursor: pointer;display: block;width: 100%;margin-bottom: 0;padding: 0.3em;box-sizing: border-box;text-align: center;}#sk-container-id-2 label.sk-toggleable__label-arrow:before {content: \"▸\";float: left;margin-right: 0.25em;color: #696969;}#sk-container-id-2 label.sk-toggleable__label-arrow:hover:before {color: black;}#sk-container-id-2 div.sk-estimator:hover label.sk-toggleable__label-arrow:before {color: black;}#sk-container-id-2 div.sk-toggleable__content {max-height: 0;max-width: 0;overflow: hidden;text-align: left;background-color: #f0f8ff;}#sk-container-id-2 div.sk-toggleable__content pre {margin: 0.2em;color: black;border-radius: 0.25em;background-color: #f0f8ff;}#sk-container-id-2 input.sk-toggleable__control:checked~div.sk-toggleable__content {max-height: 200px;max-width: 100%;overflow: auto;}#sk-container-id-2 input.sk-toggleable__control:checked~label.sk-toggleable__label-arrow:before {content: \"▾\";}#sk-container-id-2 div.sk-estimator input.sk-toggleable__control:checked~label.sk-toggleable__label {background-color: #d4ebff;}#sk-container-id-2 div.sk-label input.sk-toggleable__control:checked~label.sk-toggleable__label {background-color: #d4ebff;}#sk-container-id-2 input.sk-hidden--visually {border: 0;clip: rect(1px 1px 1px 1px);clip: rect(1px, 1px, 1px, 1px);height: 1px;margin: -1px;overflow: hidden;padding: 0;position: absolute;width: 1px;}#sk-container-id-2 div.sk-estimator {font-family: monospace;background-color: #f0f8ff;border: 1px dotted black;border-radius: 0.25em;box-sizing: border-box;margin-bottom: 0.5em;}#sk-container-id-2 div.sk-estimator:hover {background-color: #d4ebff;}#sk-container-id-2 div.sk-parallel-item::after {content: \"\";width: 100%;border-bottom: 1px solid gray;flex-grow: 1;}#sk-container-id-2 div.sk-label:hover label.sk-toggleable__label {background-color: #d4ebff;}#sk-container-id-2 div.sk-serial::before {content: \"\";position: absolute;border-left: 1px solid gray;box-sizing: border-box;top: 0;bottom: 0;left: 50%;z-index: 0;}#sk-container-id-2 div.sk-serial {display: flex;flex-direction: column;align-items: center;background-color: white;padding-right: 0.2em;padding-left: 0.2em;position: relative;}#sk-container-id-2 div.sk-item {position: relative;z-index: 1;}#sk-container-id-2 div.sk-parallel {display: flex;align-items: stretch;justify-content: center;background-color: white;position: relative;}#sk-container-id-2 div.sk-item::before, #sk-container-id-2 div.sk-parallel-item::before {content: \"\";position: absolute;border-left: 1px solid gray;box-sizing: border-box;top: 0;bottom: 0;left: 50%;z-index: -1;}#sk-container-id-2 div.sk-parallel-item {display: flex;flex-direction: column;z-index: 1;position: relative;background-color: white;}#sk-container-id-2 div.sk-parallel-item:first-child::after {align-self: flex-end;width: 50%;}#sk-container-id-2 div.sk-parallel-item:last-child::after {align-self: flex-start;width: 50%;}#sk-container-id-2 div.sk-parallel-item:only-child::after {width: 0;}#sk-container-id-2 div.sk-dashed-wrapped {border: 1px dashed gray;margin: 0 0.4em 0.5em 0.4em;box-sizing: border-box;padding-bottom: 0.4em;background-color: white;}#sk-container-id-2 div.sk-label label {font-family: monospace;font-weight: bold;display: inline-block;line-height: 1.2em;}#sk-container-id-2 div.sk-label-container {text-align: center;}#sk-container-id-2 div.sk-container {/* jupyter's `normalize.less` sets `[hidden] { display: none; }` but bootstrap.min.css set `[hidden] { display: none !important; }` so we also need the `!important` here to be able to override the default hidden behavior on the sphinx rendered scikit-learn.org. See: https://github.com/scikit-learn/scikit-learn/issues/21755 */display: inline-block !important;position: relative;}#sk-container-id-2 div.sk-text-repr-fallback {display: none;}</style><div id=\"sk-container-id-2\" class=\"sk-top-container\"><div class=\"sk-text-repr-fallback\"><pre>MLPClassifier(hidden_layer_sizes=(200,))</pre><b>In a Jupyter environment, please rerun this cell to show the HTML representation or trust the notebook. <br />On GitHub, the HTML representation is unable to render, please try loading this page with nbviewer.org.</b></div><div class=\"sk-container\" hidden><div class=\"sk-item\"><div class=\"sk-estimator sk-toggleable\"><input class=\"sk-toggleable__control sk-hidden--visually\" id=\"sk-estimator-id-2\" type=\"checkbox\" checked><label for=\"sk-estimator-id-2\" class=\"sk-toggleable__label sk-toggleable__label-arrow\">MLPClassifier</label><div class=\"sk-toggleable__content\"><pre>MLPClassifier(hidden_layer_sizes=(200,))</pre></div></div></div></div></div>"
      ],
      "text/plain": [
       "MLPClassifier(hidden_layer_sizes=(200,))"
      ]
     },
     "execution_count": 219,
     "metadata": {},
     "output_type": "execute_result"
    }
   ],
   "source": [
    "from sklearn.neural_network import MLPClassifier\n",
    "from sklearn.neighbors import KNeighborsClassifier\n",
    "#neigh = NearestNeighbors(n_neighbors=1)\n",
    "#neigh.fit(samples)\n",
    "from sklearn.ensemble import RandomForestClassifier\n",
    "from sklearn.datasets import make_classification\n",
    "#RandomForestClassifier(max_depth=2, random_state=0)\n",
    "from sklearn.pipeline import make_pipeline\n",
    "from sklearn.preprocessing import StandardScaler\n",
    "\n",
    "initpredictor = MLPClassifier(hidden_layer_sizes=(200,))\n",
    "#linearSVM.fit(((x_train-20)*(x_train>20)), y_train)\n",
    "xtrain=[]\n",
    "ytrain=[]\n",
    "for i in (init_representatives):\n",
    "    xtrain.append(gts[i])\n",
    "    ytrain.append(celltypes[i])\n",
    "xtrain = np.concatenate(xtrain,axis=0)\n",
    "ytrain = np.concatenate(ytrain,axis=0)\n",
    "initpredictor.fit((xtrain),ytrain)\n",
    "#linearSVM.fit((np.log(x_train+1)), y_train)"
   ]
  },
  {
   "cell_type": "code",
   "execution_count": 16,
   "id": "b6f5f5a1-c87f-4caa-8c20-907afba77699",
   "metadata": {},
   "outputs": [
    {
     "data": {
      "text/html": [
       "<style>#sk-container-id-2 {color: black;background-color: white;}#sk-container-id-2 pre{padding: 0;}#sk-container-id-2 div.sk-toggleable {background-color: white;}#sk-container-id-2 label.sk-toggleable__label {cursor: pointer;display: block;width: 100%;margin-bottom: 0;padding: 0.3em;box-sizing: border-box;text-align: center;}#sk-container-id-2 label.sk-toggleable__label-arrow:before {content: \"▸\";float: left;margin-right: 0.25em;color: #696969;}#sk-container-id-2 label.sk-toggleable__label-arrow:hover:before {color: black;}#sk-container-id-2 div.sk-estimator:hover label.sk-toggleable__label-arrow:before {color: black;}#sk-container-id-2 div.sk-toggleable__content {max-height: 0;max-width: 0;overflow: hidden;text-align: left;background-color: #f0f8ff;}#sk-container-id-2 div.sk-toggleable__content pre {margin: 0.2em;color: black;border-radius: 0.25em;background-color: #f0f8ff;}#sk-container-id-2 input.sk-toggleable__control:checked~div.sk-toggleable__content {max-height: 200px;max-width: 100%;overflow: auto;}#sk-container-id-2 input.sk-toggleable__control:checked~label.sk-toggleable__label-arrow:before {content: \"▾\";}#sk-container-id-2 div.sk-estimator input.sk-toggleable__control:checked~label.sk-toggleable__label {background-color: #d4ebff;}#sk-container-id-2 div.sk-label input.sk-toggleable__control:checked~label.sk-toggleable__label {background-color: #d4ebff;}#sk-container-id-2 input.sk-hidden--visually {border: 0;clip: rect(1px 1px 1px 1px);clip: rect(1px, 1px, 1px, 1px);height: 1px;margin: -1px;overflow: hidden;padding: 0;position: absolute;width: 1px;}#sk-container-id-2 div.sk-estimator {font-family: monospace;background-color: #f0f8ff;border: 1px dotted black;border-radius: 0.25em;box-sizing: border-box;margin-bottom: 0.5em;}#sk-container-id-2 div.sk-estimator:hover {background-color: #d4ebff;}#sk-container-id-2 div.sk-parallel-item::after {content: \"\";width: 100%;border-bottom: 1px solid gray;flex-grow: 1;}#sk-container-id-2 div.sk-label:hover label.sk-toggleable__label {background-color: #d4ebff;}#sk-container-id-2 div.sk-serial::before {content: \"\";position: absolute;border-left: 1px solid gray;box-sizing: border-box;top: 0;bottom: 0;left: 50%;z-index: 0;}#sk-container-id-2 div.sk-serial {display: flex;flex-direction: column;align-items: center;background-color: white;padding-right: 0.2em;padding-left: 0.2em;position: relative;}#sk-container-id-2 div.sk-item {position: relative;z-index: 1;}#sk-container-id-2 div.sk-parallel {display: flex;align-items: stretch;justify-content: center;background-color: white;position: relative;}#sk-container-id-2 div.sk-item::before, #sk-container-id-2 div.sk-parallel-item::before {content: \"\";position: absolute;border-left: 1px solid gray;box-sizing: border-box;top: 0;bottom: 0;left: 50%;z-index: -1;}#sk-container-id-2 div.sk-parallel-item {display: flex;flex-direction: column;z-index: 1;position: relative;background-color: white;}#sk-container-id-2 div.sk-parallel-item:first-child::after {align-self: flex-end;width: 50%;}#sk-container-id-2 div.sk-parallel-item:last-child::after {align-self: flex-start;width: 50%;}#sk-container-id-2 div.sk-parallel-item:only-child::after {width: 0;}#sk-container-id-2 div.sk-dashed-wrapped {border: 1px dashed gray;margin: 0 0.4em 0.5em 0.4em;box-sizing: border-box;padding-bottom: 0.4em;background-color: white;}#sk-container-id-2 div.sk-label label {font-family: monospace;font-weight: bold;display: inline-block;line-height: 1.2em;}#sk-container-id-2 div.sk-label-container {text-align: center;}#sk-container-id-2 div.sk-container {/* jupyter's `normalize.less` sets `[hidden] { display: none; }` but bootstrap.min.css set `[hidden] { display: none !important; }` so we also need the `!important` here to be able to override the default hidden behavior on the sphinx rendered scikit-learn.org. See: https://github.com/scikit-learn/scikit-learn/issues/21755 */display: inline-block !important;position: relative;}#sk-container-id-2 div.sk-text-repr-fallback {display: none;}</style><div id=\"sk-container-id-2\" class=\"sk-top-container\"><div class=\"sk-text-repr-fallback\"><pre>MLPClassifier()</pre><b>In a Jupyter environment, please rerun this cell to show the HTML representation or trust the notebook. <br />On GitHub, the HTML representation is unable to render, please try loading this page with nbviewer.org.</b></div><div class=\"sk-container\" hidden><div class=\"sk-item\"><div class=\"sk-estimator sk-toggleable\"><input class=\"sk-toggleable__control sk-hidden--visually\" id=\"sk-estimator-id-2\" type=\"checkbox\" checked><label for=\"sk-estimator-id-2\" class=\"sk-toggleable__label sk-toggleable__label-arrow\">MLPClassifier</label><div class=\"sk-toggleable__content\"><pre>MLPClassifier()</pre></div></div></div></div></div>"
      ],
      "text/plain": [
       "MLPClassifier()"
      ]
     },
     "execution_count": 16,
     "metadata": {},
     "output_type": "execute_result"
    }
   ],
   "source": [
    "predictor = MLPClassifier()\n",
    "#linearSVM.fit(((x_train-20)*(x_train>20)), y_train)\n",
    "xtrain=[]\n",
    "ytrain=[]\n",
    "for i in (representatives):\n",
    "    xtrain.append(gts[i])\n",
    "    ytrain.append(celltypes[i])\n",
    "xtrain = np.concatenate(xtrain,axis=0)\n",
    "ytrain = np.concatenate(ytrain,axis=0)\n",
    "predictor.fit((xtrain),ytrain)"
   ]
  },
  {
   "cell_type": "code",
   "execution_count": 17,
   "id": "0b07ad99-0495-43a0-8eb8-a6075858ee13",
   "metadata": {},
   "outputs": [],
   "source": [
    "pcelltypes = []\n",
    "\n",
    "for i in range(len(pids)):\n",
    "    if i in representatives:\n",
    "        pcelltypes.append(celltypes[i])\n",
    "        continue\n",
    "    pcelltypes.append(list(deconv(predictor,semis[i])))\n"
   ]
  },
  {
   "cell_type": "code",
   "execution_count": null,
   "id": "9f894ff7-13e9-4106-b759-234ef13dba23",
   "metadata": {},
   "outputs": [],
   "source": []
  },
  {
   "cell_type": "code",
   "execution_count": 15,
   "id": "d3d06060-dea2-4d77-98de-64e73b69626d",
   "metadata": {},
   "outputs": [
    {
     "data": {
      "text/plain": [
       "array(['B', 'Endothelial', 'Entericglial', 'Epithelial', 'Fibroblast',\n",
       "       'Mast', 'McDC', 'Neutrophils', 'PlasmaB', 'T_NK', 'pDC'],\n",
       "      dtype=object)"
      ]
     },
     "execution_count": 15,
     "metadata": {},
     "output_type": "execute_result"
    }
   ],
   "source": [
    "totaltypes = np.unique(np.concatenate(celltypes,axis=0))\n",
    "totaltypes"
   ]
  },
  {
   "cell_type": "code",
   "execution_count": 16,
   "id": "c7370065-1fb0-4c48-adfd-bfb9a003a2b8",
   "metadata": {},
   "outputs": [],
   "source": [
    "def prop(gttypes ,semitypes, totaltypes):\n",
    "    pgt = np.zeros(totaltypes.shape)\n",
    "    psemi = np.zeros(totaltypes.shape)\n",
    "    for i in range(len(totaltypes)):\n",
    "        pgt[i] += (np.array(gttypes) == totaltypes[i]).sum()\n",
    "        psemi[i] += (np.array(semitypes) == totaltypes[i]).sum()  ## celltypes2\n",
    "    numgt=pgt\n",
    "    numsemi=psemi\n",
    "    pgt = pgt/pgt.sum()\n",
    "    psemi = psemi/psemi.sum()\n",
    "    pcor,pval = scipy.stats.pearsonr(pgt,psemi)\n",
    "    return pcor,pval,pgt,psemi,numgt,numsemi"
   ]
  },
  {
   "cell_type": "code",
   "execution_count": 17,
   "id": "3b472a06-f0cb-47a7-81c7-a3a49df91fda",
   "metadata": {},
   "outputs": [],
   "source": [
    "def RMSE(p1,p2):\n",
    "    p1 = np.array(p1)\n",
    "    p2 = np.array(p2)\n",
    "    mse = ((p1-p2)**2).mean()\n",
    "    rmse = mse**0.5\n",
    "    return rmse\n",
    "\n"
   ]
  },
  {
   "cell_type": "code",
   "execution_count": 18,
   "id": "6f1780a2-4008-4aa6-b4e4-db6717319ddd",
   "metadata": {},
   "outputs": [],
   "source": [
    "pcors = []\n",
    "pgts=[]\n",
    "psemis=[]\n",
    "numgts = []\n",
    "numsemis = []\n",
    "prmses = []\n",
    "for i in range(len(pids)):\n",
    "    if i in representatives:\n",
    "        pcors.append(1)\n",
    "        prmses.append(0)\n",
    "        continue\n",
    "    pcor, pval, pgt, psemi, numgt, numsemi = prop(celltypes[i],pcelltypes[i],totaltypes)\n",
    "    pcors.append(pcor)\n",
    "    pgts.append(pgt)\n",
    "    psemis.append(psemi)\n",
    "    numgts.append(numgt.astype('float'))\n",
    "    numsemis.append(numsemi.astype('float'))\n",
    "    prmses.append(RMSE(pgt,psemi))"
   ]
  },
  {
   "cell_type": "code",
   "execution_count": 19,
   "id": "5b5ad234-a410-4260-94b1-951d4edea8a3",
   "metadata": {},
   "outputs": [],
   "source": [
    "pcors = []\n",
    "pgts=[]\n",
    "psemis=[]\n",
    "numgts = []\n",
    "numsemis = []\n",
    "prmses = []\n",
    "for i in range(len(pids)):\n",
    "    if i in representatives:\n",
    "        pcors.append(1)\n",
    "        prmses.append(0)\n",
    "        continue\n",
    "    pcor, pval, pgt, psemi, numgt, numsemi = prop(celltypes[i],pcelltypes[i],totaltypes)\n",
    "    pcors.append(pcor)\n",
    "    pgts.append(pgt)\n",
    "    psemis.append(psemi)\n",
    "    numgts.append(numgt.astype('float'))\n",
    "    numsemis.append(numsemi.astype('float'))\n",
    "    prmses.append(RMSE(pgt,psemi))"
   ]
  },
  {
   "cell_type": "code",
   "execution_count": null,
   "id": "11950886-073a-433a-a2f3-c53ffc8292b2",
   "metadata": {},
   "outputs": [],
   "source": []
  },
  {
   "cell_type": "code",
   "execution_count": 20,
   "id": "fff5bb47-2e19-4b19-89a2-c0ead2058515",
   "metadata": {},
   "outputs": [],
   "source": [
    "### naive \n",
    "naivecors = []\n",
    "naivermse = []\n",
    "for i in range(len(pids)):\n",
    "    if i in representatives:\n",
    "        naivecors.append(1)\n",
    "        naivermse.append(0)\n",
    "        continue\n",
    "    rep = representatives[cluster_labels[i]]\n",
    "    pcor, pval, pgt, psemi, numgt, numsemi = prop(celltypes[i],celltypes[rep],totaltypes)\n",
    "    naivecors.append(pcor)\n",
    "    naivermse.append(RMSE(pgt,psemi))"
   ]
  },
  {
   "cell_type": "code",
   "execution_count": 220,
   "id": "0f46b92b-bc0f-46f2-bf69-b617b97a5352",
   "metadata": {},
   "outputs": [],
   "source": [
    "pcelltypes4 = []\n",
    "for i in range(len(pids)):\n",
    "    if i in init_representatives:\n",
    "        pcelltypes4.append(celltypes[i])\n",
    "        continue\n",
    "    pcelltypes4.append(list(deconv(initpredictor,semis4[i])))"
   ]
  },
  {
   "cell_type": "code",
   "execution_count": 221,
   "id": "98be76bb-ab4c-468b-b50c-acc0e8359d0e",
   "metadata": {},
   "outputs": [],
   "source": [
    "pcors4 = []\n",
    "pgts4=[]\n",
    "psemis4=[]\n",
    "numgts4 = []\n",
    "numsemis4 = []\n",
    "prmses4 = []\n",
    "for i in range(len(pids)):\n",
    "    if i in init_representatives:\n",
    "        pcors4.append(1)\n",
    "        prmses4.append(0)\n",
    "        continue\n",
    "    pcor, pval, pgt, psemi, numgt, numsemi = prop(celltypes[i],pcelltypes4[i],totaltypes)\n",
    "    pcors4.append(pcor)\n",
    "    pgts4.append(pgt)\n",
    "    psemis4.append(psemi)\n",
    "    numgts4.append(numgt.astype('float'))\n",
    "    numsemis4.append(numsemi.astype('float'))\n",
    "    prmses4.append(RMSE(pgt,psemi))"
   ]
  },
  {
   "cell_type": "code",
   "execution_count": 26,
   "id": "f4d43608-9e96-4b66-8e30-4caee7c714ea",
   "metadata": {},
   "outputs": [],
   "source": [
    "### naive \n",
    "naivecors4 = []\n",
    "naivermse4 = []\n",
    "for i in range(len(pids)):\n",
    "    if i in init_representatives:\n",
    "        naivecors4.append(1)\n",
    "        naivermse4.append(0)\n",
    "        continue\n",
    "    rep = init_representatives[init_cluster_labels[i]]\n",
    "    pcor, pval, pgt, psemi, numgt, numsemi = prop(celltypes[i],celltypes[rep],totaltypes)\n",
    "    naivecors4.append(pcor)\n",
    "    naivermse4.append(RMSE(pgt,psemi))"
   ]
  },
  {
   "cell_type": "markdown",
   "id": "cb65ee63-e0ef-454c-b63c-f86c19adbec6",
   "metadata": {},
   "source": [
    "#### extract single-cell reference and bulk data for other deconv tools"
   ]
  },
  {
   "cell_type": "code",
   "execution_count": 53,
   "id": "e8342e18-2446-4d03-b528-c865b2ca2158",
   "metadata": {},
   "outputs": [],
   "source": [
    "## get single-cell reference\n",
    "\n",
    "# get expression matrix\n",
    "repxs = []\n",
    "for i in init_representatives:\n",
    "    repx = ((hvalldata[hvalldata.obs['sample_ids'] == pids[i]].X))\n",
    "    repx = np.exp(repx)-1\n",
    "    repxs.append(repx)\n",
    "repxs = np.concatenate(repxs,axis=0)\n",
    "repxs = np.array(repxs)"
   ]
  },
  {
   "cell_type": "code",
   "execution_count": 54,
   "id": "2831b71b-8db3-4408-92be-7feacf4de683",
   "metadata": {},
   "outputs": [],
   "source": [
    "# get labels\n",
    "reflabels = []\n",
    "for i in init_representatives:\n",
    "    repdata = hvalldata[hvalldata.obs['sample_ids'] == pids[i]]\n",
    "    rlbs = repdata.obs['celltypes']\n",
    "    reflabels.append(list(rlbs))\n",
    "reflabels = np.concatenate(reflabels,axis=0)\n",
    "\n",
    "# get genes\n",
    "genelist = list(hvalldata.var.index)"
   ]
  },
  {
   "cell_type": "raw",
   "id": "ae1a7e04-be0f-4df1-9c0b-dd773c65af6b",
   "metadata": {},
   "source": [
    "\n",
    "f=open('hvref.txt','w')\n",
    "\n",
    "hvrepxs = np.array(repxs)#[:,hvmask]\n",
    "f.write('GeneSymbol')\n",
    "for i in range(len(reflabels)):\n",
    "    f.write('\\t'+str(reflabels[i]))\n",
    "f.write('\\n')\n",
    "hvgenelist = np.array(genelist)#[hvmask]\n",
    "for i in range(len(hvgenelist)):\n",
    "    f.write(hvgenelist[i])\n",
    "    for j in range(len(reflabels)):\n",
    "        f.write('\\t'+str(hvrepxs[j,i]))\n",
    "    f.write('\\n')\n",
    "\n",
    "f.close()"
   ]
  },
  {
   "cell_type": "code",
   "execution_count": 62,
   "id": "973efe98-d826-471b-afb7-7418ef2c7856",
   "metadata": {},
   "outputs": [],
   "source": [
    "bulkdata = anndata.read_h5ad('bulkcount.h5ad')"
   ]
  },
  {
   "cell_type": "code",
   "execution_count": 66,
   "id": "69db79d4-9b57-4d37-9b33-15b448629b49",
   "metadata": {},
   "outputs": [],
   "source": [
    "hvbulkdata = bulkdata[:,hvmask]"
   ]
  },
  {
   "cell_type": "code",
   "execution_count": 67,
   "id": "745a5274-4b4f-46b3-bdfe-f4e1c59b3dfb",
   "metadata": {},
   "outputs": [],
   "source": [
    "f=open('hvbulktape4.txt','w')\n",
    "f.write('GeneSymbol')\n",
    "for i in range(len(hvgenelist)):\n",
    "    f.write('\\t'+hvgenelist[i])\n",
    "f.write('\\n')\n",
    "for i in range(hvbulkdata.X.shape[0]):\n",
    "    f.write(pids[i])\n",
    "    for j in range(len(hvgenelist)):\n",
    "        f.write('\\t' + str(hvbulkdata.X[i,j]))\n",
    "    f.write('\\n')\n",
    "\n",
    "f.close()"
   ]
  },
  {
   "cell_type": "code",
   "execution_count": 68,
   "id": "9d11cf3a-167c-4a42-916e-e12ec8b5d6a1",
   "metadata": {},
   "outputs": [],
   "source": [
    "f=open('hvreftape4.txt','w')\n",
    "\n",
    "hvrepxs = np.array(repxs)\n",
    "f.write('GeneSymbol')\n",
    "hvgenelist = np.array(genelist)\n",
    "for i in range(len(hvgenelist)):\n",
    "    f.write('\\t'+str(hvgenelist[i]))\n",
    "f.write('\\n')\n",
    "\n",
    "for i in range(len(reflabels)):\n",
    "    f.write(reflabels[i])\n",
    "    for j in range(len(hvgenelist)): \n",
    "        f.write('\\t'+str(hvrepxs[i,j]))\n",
    "    f.write('\\n')\n",
    "\n",
    "f.close()"
   ]
  },
  {
   "cell_type": "markdown",
   "id": "5f977125-23d5-4439-953c-31d2d4ba7feb",
   "metadata": {},
   "source": [
    "#### end of extracting data"
   ]
  },
  {
   "cell_type": "markdown",
   "id": "3ad58a01-7022-40ed-a7b9-79fa23663532",
   "metadata": {},
   "source": [
    "### start loading results and comparison"
   ]
  },
  {
   "cell_type": "code",
   "execution_count": 184,
   "id": "93934ca5-c84f-4e20-9d78-6fb1dc6f75b7",
   "metadata": {},
   "outputs": [],
   "source": [
    "import pandas as pd\n",
    "tapedf = pd.read_csv('tageresult.csv')\n",
    "ptape = []\n",
    "\n",
    "for i in range(len(pids)):\n",
    "    if i in init_representatives:\n",
    "        ptape.append(1.0)\n",
    "        continue\n",
    "    bprp = np.array(tapedf.to_numpy()[:,1:])[i]\n",
    "    bprp = np.array((list(bprp)))\n",
    "    ptape.append(bprp)"
   ]
  },
  {
   "cell_type": "code",
   "execution_count": 185,
   "id": "fe2a560c-0acf-4dcd-9fd8-45e2e61bba51",
   "metadata": {},
   "outputs": [],
   "source": [
    "#gtdata = anndata.read_h5ad('gtdata_withcelltype.h5ad')"
   ]
  },
  {
   "cell_type": "code",
   "execution_count": 186,
   "id": "d359a9b8-478c-4ea5-9ddf-32ea69dd6640",
   "metadata": {},
   "outputs": [],
   "source": [
    "tapecor = []\n",
    "tapermse = []\n",
    "for i in range(len(pids)):\n",
    "    if i in init_representatives:\n",
    "        tapecor.append(1)\n",
    "        tapermse.append(0)\n",
    "        continue\n",
    "    pid = pids[i]\n",
    "    gttypes = list(gtdata[gtdata.obs['sample_ids']==pid].obs['celltypes'])\n",
    "    pgt = np.zeros(totaltypes.shape)\n",
    "    for j in range(len(totaltypes)):\n",
    "        pgt[j] += (np.array(gttypes) == totaltypes[j]).sum()\n",
    "    numgt=pgt\n",
    "    pgt = pgt/pgt.sum()\n",
    "    \n",
    "    pcor,pval = scipy.stats.pearsonr(pgt,ptape[i])\n",
    "    tapecor.append(pcor)\n",
    "    tapermse.append(RMSE(pgt,pbis[i]))"
   ]
  },
  {
   "cell_type": "code",
   "execution_count": null,
   "id": "a82e35fe-e338-42ca-aaca-a60769e4e18d",
   "metadata": {},
   "outputs": [],
   "source": []
  },
  {
   "cell_type": "code",
   "execution_count": 187,
   "id": "c17cb002-53ee-4b50-bdf6-848c38d2198f",
   "metadata": {},
   "outputs": [],
   "source": [
    "sdf = pd.read_csv('scadenresult.csv')\n",
    "pscaden = []\n",
    "for i in range(len(pids)):\n",
    "    if i in representatives:\n",
    "        pscaden.append(1.0)\n",
    "        continue\n",
    "    pid=pids[i]\n",
    "    #pid = pids[i].replace('-','.')\n",
    "    bprp = np.array((sdf.to_numpy()[:,1:])[i])\n",
    "    bprp = np.array((list(bprp)))\n",
    "    #bprp = bprp[ [0,1,2,3,4,5,6,7,9,10,8]]\n",
    "    pscaden.append(bprp)"
   ]
  },
  {
   "cell_type": "code",
   "execution_count": 188,
   "id": "ca853e95-8ac1-40c4-bc1a-7c8496061105",
   "metadata": {},
   "outputs": [],
   "source": [
    "scadencors = []\n",
    "scadenrmses = []\n",
    "\n",
    "for i in range(len(pids)):\n",
    "    if i in representatives:\n",
    "        scadencors.append(1)\n",
    "        scadenrmses.append(0)\n",
    "        continue\n",
    "    pid = pids[i]\n",
    "    gttypes = list(hvalldata[hvalldata.obs['sample_ids']==pid].obs['celltypes'])\n",
    "    pgt = np.zeros(totaltypes.shape)\n",
    "    for j in range(len(totaltypes)):\n",
    "        pgt[j] += (np.array(gttypes) == totaltypes[j]).sum()\n",
    "    numgt=pgt\n",
    "    pgt = pgt/pgt.sum()\n",
    "    \n",
    "    pcor,pval = scipy.stats.pearsonr(pgt,pscaden[i])\n",
    "    scadencors.append(pcor)\n",
    "    scadenrmses.append(RMSE(pgt,pscaden[i]))"
   ]
  },
  {
   "cell_type": "code",
   "execution_count": null,
   "id": "b7b0505b-3a87-406f-8a27-2acc3fa30269",
   "metadata": {},
   "outputs": [],
   "source": []
  },
  {
   "cell_type": "code",
   "execution_count": 189,
   "id": "843bdb2a-32e9-4787-a588-2441b27780b9",
   "metadata": {},
   "outputs": [],
   "source": [
    "## cibersortx\n",
    "\n",
    "f = open('CIBERSORTx_cancer.txt','r')\n",
    "lines = f.readlines()\n",
    "f.close()\n",
    "\n",
    "ciberprops = {}\n",
    "for i in range(1,len(lines)):\n",
    "    l=lines[i].split('\\t')\n",
    "    pid = l[0]\n",
    "    prp = []\n",
    "    for j in range(1,len(l)-3):\n",
    "        prp.append(float(l[j]))\n",
    "    ciberprops[pid] = prp\n",
    "    "
   ]
  },
  {
   "cell_type": "code",
   "execution_count": 190,
   "id": "47877b73-d8bc-4043-b8f5-acd95d4de75a",
   "metadata": {},
   "outputs": [
    {
     "data": {
      "text/plain": [
       "array(['B', 'Endothelial', 'Entericglial', 'Epithelial', 'Fibroblast',\n",
       "       'Mast', 'McDC', 'Neutrophils', 'PlasmaB', 'T_NK', 'pDC'],\n",
       "      dtype=object)"
      ]
     },
     "execution_count": 190,
     "metadata": {},
     "output_type": "execute_result"
    }
   ],
   "source": [
    "totaltypes"
   ]
  },
  {
   "cell_type": "code",
   "execution_count": 191,
   "id": "87c63f1c-470f-4dae-8d46-b35e7d954dcb",
   "metadata": {},
   "outputs": [
    {
     "name": "stdout",
     "output_type": "stream",
     "text": [
      "0 Epithelial\n",
      "1 Fibroblast\n",
      "2 T_NK\n",
      "3 McDC\n",
      "4 PlasmaB\n",
      "5 B\n",
      "6 Endothelial\n",
      "7 Mast\n",
      "8 Entericglial\n",
      "9 pDC\n",
      "10 Neutrophils\n"
     ]
    }
   ],
   "source": [
    "cibertypes=['Epithelial','Fibroblast','T_NK','McDC','PlasmaB','B','Endothelial','Mast','Entericglial','pDC','Neutrophils']\n",
    "for i in range(len(cibertypes)):\n",
    "    print(i,cibertypes[i])"
   ]
  },
  {
   "cell_type": "code",
   "execution_count": 192,
   "id": "fce78b6f-b898-4d93-9121-ba1a6de55c57",
   "metadata": {},
   "outputs": [
    {
     "data": {
      "text/plain": [
       "[5, 6, 8, 0, 1, 7, 3, 10, 4, 2, 9]"
      ]
     },
     "execution_count": 192,
     "metadata": {},
     "output_type": "execute_result"
    }
   ],
   "source": [
    "[5,6,8,0,1,7,3,10,4,2,9]"
   ]
  },
  {
   "cell_type": "code",
   "execution_count": 193,
   "id": "7724218a-ae07-4138-b68b-b7a130d21e79",
   "metadata": {},
   "outputs": [],
   "source": [
    "cibercors = []\n",
    "ciberrmses = []\n",
    "cibersortorder = [5,6,8,0,1,7,3,10,4,2,9]\n",
    "for i in range(len(pids)):\n",
    "    if i in init_representatives:\n",
    "        cibercors.append(1)\n",
    "        ciberrmses.append(0)\n",
    "        continue\n",
    "    pid = pids[i]\n",
    "    \n",
    "    gttypes = list(hvalldata[hvalldata.obs['sample_ids']==pid].obs['celltypes'])\n",
    "    \n",
    "    pgt = np.zeros(totaltypes.shape)\n",
    "    for j in range(len(totaltypes)):\n",
    "        pgt[j] += (np.array(gttypes) == totaltypes[j]).sum()\n",
    "    numgt=pgt\n",
    "    pgt = pgt/pgt.sum()\n",
    "    \n",
    "    pcibersort = np.array(ciberprops[pid])\n",
    "    pcibersort = np.array(list(pcibersort)+[0])\n",
    "    pcibersort = pcibersort[cibersortorder]\n",
    "    pcor,pval = scipy.stats.pearsonr(pgt,pcibersort)\n",
    "    cibercors.append(pcor)\n",
    "    ciberrmses.append(RMSE(pgt,pcibersort))"
   ]
  },
  {
   "cell_type": "code",
   "execution_count": null,
   "id": "8ddcf5d4-1973-4b76-8755-37bfbb8b18f5",
   "metadata": {},
   "outputs": [],
   "source": []
  },
  {
   "cell_type": "code",
   "execution_count": 194,
   "id": "d52ebf04-c410-4685-b0b4-de5a043b8263",
   "metadata": {},
   "outputs": [
    {
     "data": {
      "text/plain": [
       "array(['B', 'Endothelial', 'Entericglial', 'Epithelial', 'Fibroblast',\n",
       "       'Mast', 'McDC', 'Neutrophils', 'PlasmaB', 'T_NK', 'pDC'],\n",
       "      dtype=object)"
      ]
     },
     "execution_count": 194,
     "metadata": {},
     "output_type": "execute_result"
    }
   ],
   "source": [
    "totaltypes  "
   ]
  },
  {
   "cell_type": "code",
   "execution_count": null,
   "id": "0dbccf65-30bc-45bc-9a1f-32795dcd296c",
   "metadata": {},
   "outputs": [],
   "source": []
  },
  {
   "cell_type": "code",
   "execution_count": 195,
   "id": "52b4cd8e-e243-4d5f-9c96-f62c77cf3734",
   "metadata": {
    "tags": []
   },
   "outputs": [],
   "source": [
    "# bisque\n",
    "import pandas as pd\n",
    "df = pd.read_csv('bisque_est_913.csv',sep=' ')\n",
    "pbis = []\n",
    "rmsebis =[ ]\n",
    "for i in range(len(pids)):\n",
    "    if i in init_representatives:\n",
    "        pbis.append(1.0)\n",
    "        rmsebis.append(0.0)\n",
    "        continue\n",
    "    pid = pids[i].replace('-','.')\n",
    "    bprp = np.array(df[pid])\n",
    "    bprp = np.array((list(bprp)))\n",
    "    bprp = bprp[ [0,1,2,3,4,5,6,7,9,10,8]]\n",
    "    pbis.append(bprp)"
   ]
  },
  {
   "cell_type": "code",
   "execution_count": 196,
   "id": "46eb8642-a696-41d7-8e49-4373b606651f",
   "metadata": {},
   "outputs": [
    {
     "data": {
      "text/plain": [
       "array(['B', 'Endothelial', 'Entericglial', 'Epithelial', 'Fibroblast',\n",
       "       'Mast', 'McDC', 'Neutrophils', 'PlasmaB', 'T_NK', 'pDC'],\n",
       "      dtype=object)"
      ]
     },
     "execution_count": 196,
     "metadata": {},
     "output_type": "execute_result"
    }
   ],
   "source": [
    "totaltypes"
   ]
  },
  {
   "cell_type": "code",
   "execution_count": 197,
   "id": "8fa95f2d-50a1-48dd-8b77-60ebcff5b1fa",
   "metadata": {
    "tags": []
   },
   "outputs": [
    {
     "data": {
      "text/plain": [
       "True"
      ]
     },
     "execution_count": 197,
     "metadata": {},
     "output_type": "execute_result"
    }
   ],
   "source": [
    "btype = [\n",
    "'B',\n",
    "'Endothelial',\n",
    "'Entericglial',\n",
    "'Epithelial',\n",
    "'Fibroblast',\n",
    "'Mast',\n",
    "'McDC',\n",
    "'Neutrophils',\n",
    "'pDC',\n",
    "'PlasmaB',\n",
    "'T_NK']\n",
    "btype = np.array(btype)\n",
    "list(btype[[0,1,2,3,4,5,6,7,9,10,8]])==list(totaltypes)"
   ]
  },
  {
   "cell_type": "code",
   "execution_count": 198,
   "id": "dd52a8ba-a0cc-49b8-bb67-c0b7dc1caae1",
   "metadata": {
    "tags": []
   },
   "outputs": [],
   "source": [
    "biscor = []\n",
    "bisrmse = []\n",
    "for i in range(len(pids)):\n",
    "    if i in init_representatives:\n",
    "        biscor.append(1)\n",
    "        bisrmse.append(0)\n",
    "        continue\n",
    "    pid = pids[i]\n",
    "    gttypes = list(hvalldata[hvalldata.obs['sample_ids']==pid].obs['celltypes'])\n",
    "    pgt = np.zeros(totaltypes.shape)\n",
    "    for j in range(len(totaltypes)):\n",
    "        pgt[j] += (np.array(gttypes) == totaltypes[j]).sum()\n",
    "    numgt=pgt\n",
    "    pgt = pgt/pgt.sum()\n",
    "    \n",
    "    pcor,pval = scipy.stats.pearsonr(pgt,pbis[i])\n",
    "    biscor.append(pcor)\n",
    "    bisrmse.append(RMSE(pgt,pbis[i]))"
   ]
  },
  {
   "cell_type": "code",
   "execution_count": 199,
   "id": "bae48ef8-8c1a-45e0-8788-3a350842dc55",
   "metadata": {},
   "outputs": [
    {
     "name": "stdout",
     "output_type": "stream",
     "text": [
      "0.928115742972661\n",
      "0.9032299965736647\n"
     ]
    }
   ],
   "source": [
    "print(np.mean(pcors))\n",
    "print(np.mean(naivecors))"
   ]
  },
  {
   "cell_type": "code",
   "execution_count": 200,
   "id": "fcb92a59-9a61-4ed8-8e4a-baf7a30a1a3c",
   "metadata": {},
   "outputs": [],
   "source": [
    "ppids=[]\n",
    "for i in range(len(pids)):\n",
    "    if i not in init_representatives:\n",
    "        ppids.append(pids[i])"
   ]
  },
  {
   "cell_type": "code",
   "execution_count": 201,
   "id": "c5ad9b48-00a7-4ee6-838f-c67fc6a8f043",
   "metadata": {},
   "outputs": [
    {
     "data": {
      "text/plain": [
       "0.8185057765646817"
      ]
     },
     "execution_count": 201,
     "metadata": {},
     "output_type": "execute_result"
    }
   ],
   "source": [
    "np.mean(pcors4)"
   ]
  },
  {
   "cell_type": "code",
   "execution_count": 202,
   "id": "351ead11-4dc2-4034-852d-c143ea42094d",
   "metadata": {},
   "outputs": [
    {
     "name": "stdout",
     "output_type": "stream",
     "text": [
      "0.7497359859970746\n"
     ]
    }
   ],
   "source": [
    "print(np.mean(naivecors4))"
   ]
  },
  {
   "cell_type": "code",
   "execution_count": 203,
   "id": "e4a5c8da-7f7b-4e5d-b327-f8a7ae02c606",
   "metadata": {},
   "outputs": [
    {
     "data": {
      "text/plain": [
       "0.818361349666441"
      ]
     },
     "execution_count": 203,
     "metadata": {},
     "output_type": "execute_result"
    }
   ],
   "source": [
    "np.mean(cibercors)"
   ]
  },
  {
   "cell_type": "code",
   "execution_count": 204,
   "id": "2526a844-4747-4994-af3e-9c37efa9be04",
   "metadata": {},
   "outputs": [
    {
     "data": {
      "text/plain": [
       "0.5326744736877381"
      ]
     },
     "execution_count": 204,
     "metadata": {},
     "output_type": "execute_result"
    }
   ],
   "source": [
    "np.mean(biscor)"
   ]
  },
  {
   "cell_type": "code",
   "execution_count": 205,
   "id": "138dd449-ad6f-4cd6-b90e-ef2389202ffe",
   "metadata": {},
   "outputs": [
    {
     "data": {
      "text/plain": [
       "0.9032299965736647"
      ]
     },
     "execution_count": 205,
     "metadata": {},
     "output_type": "execute_result"
    }
   ],
   "source": [
    "np.mean(naivecors)"
   ]
  },
  {
   "cell_type": "code",
   "execution_count": 206,
   "id": "94e05dfd-feb1-42c3-a636-f5b2774e7ad8",
   "metadata": {},
   "outputs": [
    {
     "data": {
      "text/plain": [
       "112"
      ]
     },
     "execution_count": 206,
     "metadata": {},
     "output_type": "execute_result"
    }
   ],
   "source": [
    "len(pcors4)"
   ]
  },
  {
   "cell_type": "code",
   "execution_count": 227,
   "id": "49195431-79b6-48a8-b744-21dfe1a4c671",
   "metadata": {
    "tags": []
   },
   "outputs": [
    {
     "name": "stdout",
     "output_type": "stream",
     "text": [
      "between semi 4 and CIBERSORTx 3105.0 0.3097521391250988\n",
      "between semi 28 and naive 28 2506.0 8.422952413917918e-10\n",
      "between semi 4 and naive 4 5400.0 2.5166109226897653e-14\n",
      "between semi 28 and semi 4 5496.0 2.532076977012172e-15\n",
      "between semi 4 and bisque 5153.0 6.265031941086221e-12\n",
      "between semi 28 and semi 4 5496.0 2.532076977012172e-15\n",
      "between semi 4 and tape 5876.0 1.235454247246878e-19\n",
      "between semi 4 and scaden 4399.0 4.04388942547145e-06\n"
     ]
    }
   ],
   "source": [
    "## wilcox for p cor\n",
    "\n",
    "# between semi 4 patients and CIBERSORTx\n",
    "res_semi4_ciber = wilcoxon(x=pcors4, y=cibercors, alternative='greater')\n",
    "print('between semi 4 and CIBERSORTx',res_semi4_ciber.statistic, res_semi4_ciber.pvalue)\n",
    "\n",
    "# between semi 28 and naive 28\n",
    "res_semi28_naive28 = wilcoxon(x=pcors, y=naivecors, alternative='greater')\n",
    "print('between semi 28 and naive 28',res_semi28_naive28.statistic, res_semi28_naive28.pvalue)\n",
    "\n",
    "# between semi 4 and naivee 4\n",
    "res_semi4_naive4 = wilcoxon(x=pcors4, y=naivecors4, alternative='greater')\n",
    "print('between semi 4 and naive 4',res_semi4_naive4.statistic, res_semi4_naive4.pvalue)\n",
    "\n",
    "# between semi 28 and semi 4\n",
    "res_semi28_semi4 = wilcoxon(x=pcors, y=pcors4, alternative='greater')\n",
    "print('between semi 28 and semi 4',res_semi28_semi4.statistic, res_semi28_semi4.pvalue)\n",
    "\n",
    "# between semi 4 and bisque\n",
    "res_semi4_bisque = wilcoxon(x=pcors4, y=biscor, alternative='greater')\n",
    "print('between semi 4 and bisque',res_semi4_bisque.statistic, res_semi4_bisque.pvalue)\n",
    "\n",
    "# between semi 28 and sesmi 4\n",
    "res_semi28_semi4 = wilcoxon(x=pcors, y=pcors4, alternative='greater')\n",
    "print('between semi 28 and semi 4',res_semi28_semi4.statistic, res_semi28_semi4.pvalue)\n",
    "\n",
    "res = wilcoxon(x=pcors4, y=tapecor, alternative='greater')\n",
    "print('between semi 4 and tape',res.statistic, res.pvalue)\n",
    "\n",
    "res = wilcoxon(x=pcors4, y=scadencors, alternative='greater')\n",
    "print('between semi 4 and scaden',res.statistic, res.pvalue)\n",
    "\n",
    "\n"
   ]
  },
  {
   "cell_type": "code",
   "execution_count": 208,
   "id": "553f6e6b-754d-47c1-a10e-33174392b540",
   "metadata": {},
   "outputs": [],
   "source": [
    "import mycolorpy"
   ]
  },
  {
   "cell_type": "code",
   "execution_count": 209,
   "id": "fd11d35a-0628-49ec-a8a8-f1663dbe17bb",
   "metadata": {},
   "outputs": [
    {
     "data": {
      "text/plain": [
       "['#8dd3c7', '#bebada', '#80b1d3', '#fccde5', '#bc80bd', '#ffed6f']"
      ]
     },
     "execution_count": 209,
     "metadata": {},
     "output_type": "execute_result"
    }
   ],
   "source": [
    "import matplotlib\n",
    "from mycolorpy import colorlist as mcp\n",
    "#cmap = matplotlib.cm.get_cmap('Pastel2')\n",
    "mcp.gen_color(cmap=\"Set3\",n=6)"
   ]
  },
  {
   "cell_type": "code",
   "execution_count": 232,
   "id": "6e0db433-dd79-4316-8bb9-ac26f8b970b9",
   "metadata": {},
   "outputs": [
    {
     "data": {
      "image/png": "[encoded data removed]",
      "text/plain": [
       "<Figure size 640x480 with 1 Axes>"
      ]
     },
     "metadata": {},
     "output_type": "display_data"
    }
   ],
   "source": [
    "fig, ax = plt.subplots()\n",
    "meanlineprops = dict(linestyle='-', linewidth=1.5, color='darkgoldenrod')\n",
    "\n",
    "# Plot the boxplots\n",
    "boxplot = ax.boxplot([pcors, naivecors, pcors4, naivecors4, cibercors, biscor,scadencors,tapecor], patch_artist=True,showmeans = True, meanline=True, meanprops=meanlineprops)\n",
    "# Define the colors for the boxes\n",
    "box_colors = mcp.gen_color(cmap=\"Set3\",n=6)\n",
    "box_colors = ['lightblue', 'lightgreen', 'lightyellow', 'lightpink', 'lightgray']\n",
    "set3 = plt.get_cmap('Set3')\n",
    "box_colors = set3.colors\n",
    "# Iterate over each box and set the facecolor\n",
    "for box, color in zip(boxplot['boxes'], box_colors):\n",
    "    box.set(facecolor=color)\n",
    "\n",
    "    \n",
    "for median in boxplot['medians']:\n",
    "    median.set_color('none')  \n",
    "    \n",
    "# Add axis labels and title\n",
    "#ax.set_xlabel('Method')\n",
    "ax.set_ylabel('Pearson Correlation')\n",
    "#ax.set_title('Deconvolution Performance Comparison')\n",
    "\n",
    "# Add x-axis tick labels\n",
    "ax.set_xticklabels(['Semi (36)', 'Naive (36)', 'Semi (4)', 'Naive (4)','CIBERSORTx','Bisque','scaden','tape'])\n",
    "ax.set_ylim(0,1)\n",
    "# Display the plot\n",
    "plt.savefig('results/1111deconv_pcorr .pdf')\n",
    "plt.show()\n"
   ]
  },
  {
   "cell_type": "code",
   "execution_count": 226,
   "id": "76d98dd1-41b6-46f6-841b-bc77b7f64a43",
   "metadata": {},
   "outputs": [
    {
     "name": "stdout",
     "output_type": "stream",
     "text": [
      "between semi 4 and CIBERSORTx 2401.0 0.04832589523064194\n",
      "between semi 28 and naive 28 260.0 6.233920399526485e-10\n",
      "between semi 4 and naive 4 864.0 9.302779124104528e-11\n",
      "between semi 28 and semi 4 307.0 3.2459199567312037e-16\n",
      "between semi 4 and bisque 573.0 1.8736685041079586e-13\n",
      "between semi 28 and semi 4 307.0 3.2459199567312037e-16\n",
      "between semi 4 and tape 573.0 1.8736685041079586e-13\n",
      "between semi 4 and scaden 2521.0 0.09792081887064802\n"
     ]
    }
   ],
   "source": [
    "## wilcox for rmse\n",
    "\n",
    "# between semi 4 patients and CIBERSORTx\n",
    "r_semi4_ciber = wilcoxon(x=prmses4, y=ciberrmses, alternative='less')\n",
    "print('between semi 4 and CIBERSORTx',r_semi4_ciber.statistic, r_semi4_ciber.pvalue)\n",
    "\n",
    "# between semi 28 and naive 28\n",
    "r_semi28_naive28 = wilcoxon(x=prmses, y=naivermse, alternative='less')\n",
    "print('between semi 28 and naive 28',r_semi28_naive28.statistic, r_semi28_naive28.pvalue)\n",
    "\n",
    "# between semi 4 and naivee 4\n",
    "r_semi4_naive4 = wilcoxon(x=prmses4, y=naivermse4, alternative='less')\n",
    "print('between semi 4 and naive 4',r_semi4_naive4.statistic, r_semi4_naive4.pvalue)\n",
    "\n",
    "# between semi 28 and semi 4\n",
    "r_semi28_semi4 = wilcoxon(x=prmses, y=prmses4, alternative='less')\n",
    "print('between semi 28 and semi 4',r_semi28_semi4.statistic, r_semi28_semi4.pvalue)\n",
    "\n",
    "# between semi 4 and bisque\n",
    "r_semi4_bisque = wilcoxon(x=prmses4, y=bisrmse, alternative='less')\n",
    "print('between semi 4 and bisque',r_semi4_bisque.statistic, r_semi4_bisque.pvalue)\n",
    "\n",
    "# between semi 28 and sesmi 4\n",
    "r_semi28_semi4 = wilcoxon(x=prmses, y=prmses4, alternative='less')\n",
    "print('between semi 28 and semi 4',r_semi28_semi4.statistic, r_semi28_semi4.pvalue)\n",
    "\n",
    "res = wilcoxon(x=prmses4, y=tapermse, alternative='less')\n",
    "print('between semi 4 and tape',res.statistic, res.pvalue)\n",
    "\n",
    "res = wilcoxon(x=prmses4, y=scadenrmses, alternative='less')\n",
    "print('between semi 4 and scaden',res.statistic, res.pvalue)\n"
   ]
  },
  {
   "cell_type": "code",
   "execution_count": null,
   "id": "99ad5cc5-5838-4acd-b214-62bb109e8607",
   "metadata": {},
   "outputs": [],
   "source": []
  },
  {
   "cell_type": "code",
   "execution_count": 233,
   "id": "4da2b3ad-668d-4f1d-9ea7-40aaef5a50ca",
   "metadata": {},
   "outputs": [
    {
     "data": {
      "image/png": "[encoded data removed]",
      "text/plain": [
       "<Figure size 640x480 with 1 Axes>"
      ]
     },
     "metadata": {},
     "output_type": "display_data"
    }
   ],
   "source": [
    "fig, ax = plt.subplots()\n",
    "meanlineprops = dict(linestyle='-', linewidth=1.5, color='darkgoldenrod')\n",
    "\n",
    "# Plot the boxplots\n",
    "boxplot = ax.boxplot([prmses, naivermse, prmses4, naivermse4, ciberrmses, bisrmse,scadenrmses,tapermse], patch_artist=True,showmeans = True, meanline=True, meanprops=meanlineprops)\n",
    "\n",
    "for median in boxplot['medians']:\n",
    "    median.set_color('none')  \n",
    "\n",
    "# Define the colors for the boxes\n",
    "'''box_colors = ['#a6cee3',\n",
    " '#1f78b4',scandenrmse\n",
    " '#b2df8a',\n",
    " '#fb9a99',\n",
    " '#e31a1c',\n",
    " '#fdbf6f',\n",
    " '#cab2d6',\n",
    " '#6a3d9a',\n",
    " '#ffff99',\n",
    " '#b15928']'''\n",
    "#['lightblue', 'lightgreen', 'lightyellow', 'lightpink', 'lightgray']\n",
    "\n",
    "box_colors = set3.colors\n",
    "\n",
    "# Iterate over each box and set the facecolor\n",
    "for box, color in zip(boxplot['boxes'], box_colors):\n",
    "    box.set(facecolor=color)\n",
    "\n",
    "# Add axis labels and title\n",
    "#ax.set_xlabel('Method')\n",
    "ax.set_ylabel('RMSE')\n",
    "#ax.set_title('Deconvolution Performance Comparison')\n",
    "\n",
    "# Add x-axis tick labels\n",
    "ax.set_xticklabels(['Semi', 'Naive', 'Semi (4)', 'Naive (4)','CIBERSORTx','Bisque','scaden','tape'])\n",
    "ax.set_ylim(0,0.35)\n",
    "# Display the plot\n",
    "plt.savefig('results/1111deconv_rmse.pdf')\n",
    "plt.show()"
   ]
  },
  {
   "cell_type": "code",
   "execution_count": 173,
   "id": "474deacb-0893-4f39-9611-b3811db04e93",
   "metadata": {},
   "outputs": [
    {
     "data": {
      "text/plain": [
       "110"
      ]
     },
     "execution_count": 173,
     "metadata": {},
     "output_type": "execute_result"
    }
   ],
   "source": [
    "len(df.columns)"
   ]
  },
  {
   "cell_type": "code",
   "execution_count": null,
   "id": "f0c0b856-6f1b-4eeb-8b51-3387916ca4de",
   "metadata": {},
   "outputs": [],
   "source": []
  },
  {
   "cell_type": "code",
   "execution_count": null,
   "id": "46b6d74a-aa98-49aa-a5d1-9f29e2b49caa",
   "metadata": {},
   "outputs": [],
   "source": []
  }
 ],
 "metadata": {
  "kernelspec": {
   "display_name": "deep",
   "language": "python",
   "name": "deep"
  },
  "language_info": {
   "codemirror_mode": {
    "name": "ipython",
    "version": 3
   },
   "file_extension": ".py",
   "mimetype": "text/x-python",
   "name": "python",
   "nbconvert_exporter": "python",
   "pygments_lexer": "ipython3",
   "version": "3.9.13"
  }
 },
 "nbformat": 4,
 "nbformat_minor": 5
}
