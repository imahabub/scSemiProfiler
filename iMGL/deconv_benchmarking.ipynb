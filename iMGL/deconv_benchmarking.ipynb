{
 "cells": [
  {
   "cell_type": "code",
   "execution_count": 1,
   "id": "1e662f24-ecbe-4e10-ba00-814c703cb38a",
   "metadata": {},
   "outputs": [],
   "source": [
    "import numpy as np\n",
    "import scanpy as sc\n",
    "import os\n",
    "import anndata\n",
    "import matplotlib.pyplot as plt\n",
    "import scipy\n",
    "from scipy.stats import wilcoxon\n",
    "from matplotlib.pyplot import figure\n",
    "import copy\n",
    "import json\n",
    "import gseapy\n",
    "from gseapy import enrichr"
   ]
  },
  {
   "cell_type": "code",
   "execution_count": null,
   "id": "3ba2266f-862a-4923-9e20-bac604bcfaa4",
   "metadata": {},
   "outputs": [],
   "source": []
  },
  {
   "cell_type": "code",
   "execution_count": 2,
   "id": "eeea82b4-728a-4485-a33e-643210579f49",
   "metadata": {
    "tags": []
   },
   "outputs": [
    {
     "data": {
      "text/plain": [
       "AnnData object with n_obs × n_vars = 74372 × 6013\n",
       "    obs: 'celltype', 'sample_ids', 'ft'\n",
       "    var: 'gene_symbols', 'feature_types', 'n_cells', 'mt', 'n_cells_by_counts', 'mean_counts', 'pct_dropout_by_counts', 'total_counts'\n",
       "    obsm: 'X_pca', 'X_umap', 'X_umap_pkg'"
      ]
     },
     "execution_count": 2,
     "metadata": {},
     "output_type": "execute_result"
    }
   ],
   "source": [
    "hvalldata = anndata.read_h5ad('gtdata.h5ad')\n",
    "hvalldata"
   ]
  },
  {
   "cell_type": "raw",
   "id": "7eb11308-80a6-4219-89a0-a46a33eb5a3b",
   "metadata": {},
   "source": [
    "celltypedic = {'1':'C1 Homeostatic, non-proliferative',\n",
    "               '2':'C2 Activated, immediate-early',\n",
    "               '3':'C3 Homeostatic, proliferative',\n",
    "               '4':'C4 Activated, non-immediate-early',\n",
    "               '5':'C5 Activated, immediate-early',\n",
    "               '6':'C6 Freshly thawed',\n",
    "               '7':'C7 Homeostatic,proliferative',\n",
    "               '8':'C8 Activated, non-immediate-early',\n",
    "               '9':'C9 Activated,proliferative',\n",
    "               '10':'C10 Homeostatic, non-proliferative',\n",
    "               '11':'C11 Myeloid progenitors'}"
   ]
  },
  {
   "cell_type": "raw",
   "id": "69bd385d-a02e-4f9d-8dd2-e950f8767df5",
   "metadata": {},
   "source": [
    "annotations = []\n",
    "for i in hvalldata.obs['celltypes']:\n",
    "    annotations.append(celltypedic[str(i)])"
   ]
  },
  {
   "cell_type": "raw",
   "id": "d593e4ef-a8bd-4cbe-a0cb-23e3a3c99b21",
   "metadata": {},
   "source": [
    "hvalldata.obs['annotations'] = annotations\n",
    "hvalldata.write('gtdata_annotated.h5ad')"
   ]
  },
  {
   "cell_type": "raw",
   "id": "c71409eb-e4a8-42c6-8b1d-f8a2826dd69d",
   "metadata": {},
   "source": [
    "tc = {}\n",
    "\n",
    "for ctype in celltypedic.values():\n",
    "    tc[ctype] = 0\n",
    "\n",
    "totalc = 0\n",
    "for i in hvalldata.obs['annotations']:\n",
    "    tc[i] = tc[i]+1\n",
    "    totalc+=1\n"
   ]
  },
  {
   "cell_type": "code",
   "execution_count": 3,
   "id": "f3e8cb37-9794-4cc4-834c-dcb249a22239",
   "metadata": {},
   "outputs": [],
   "source": [
    "pnum = 8\n",
    "rnd = int(pnum/2)\n",
    "reprefile = 'active_training_rec/eer_representatives_'+str(rnd)+'.txt'    #6000genebackup/\n",
    "#'eer_representatives_'+str(rnd)+'.txt' #'init_representatives_4.txt'    #'uncertainty2_representatives.txt'\n",
    "clusterfile = 'active_training_rec/eer_cluster_labels_'+str(rnd)+'.txt'\n",
    "#'eer_cluster_labels_'+str(rnd)+'.txt' #'init_cluster_labels_4.txt'      #'uncertainty2_cluster_labels.txt'\n",
    "\n",
    "f= open(reprefile,'r')\n",
    "lines=f.readlines()\n",
    "representatives=[]\n",
    "for l in lines:\n",
    "    representatives.append(int(l.strip().split()[0]))\n",
    "f.close()\n",
    "\n",
    "f= open(clusterfile,'r')\n",
    "cluster_labels=[]\n",
    "lines=f.readlines()\n",
    "for l in lines:\n",
    "    cluster_labels.append(int(l.strip().split()[0]))\n",
    "f.close()"
   ]
  },
  {
   "cell_type": "code",
   "execution_count": 4,
   "id": "e4e2c595-836d-41ed-b4fd-d3586ddb86de",
   "metadata": {},
   "outputs": [],
   "source": [
    "pnum = 4\n",
    "rnd = int(pnum/2)\n",
    "reprefile = 'active_training_rec/eer_representatives_'+str(rnd)+'.txt'    #6000genebackup/\n",
    "#'eer_representatives_'+str(rnd)+'.txt' #'init_representatives_4.txt'    #'uncertainty2_representatives.txt'\n",
    "clusterfile = 'active_training_rec/eer_cluster_labels_'+str(rnd)+'.txt'\n",
    "#'eer_cluster_labels_'+str(rnd)+'.txt' #'init_cluster_labels_4.txt'      #'uncertainty2_cluster_labels.txt'\n",
    "\n",
    "f= open(reprefile,'r')\n",
    "lines=f.readlines()\n",
    "representatives4=[]\n",
    "for l in lines:\n",
    "    representatives4.append(int(l.strip().split()[0]))\n",
    "f.close()\n",
    "\n",
    "f= open(clusterfile,'r')\n",
    "cluster_labels4=[]\n",
    "lines=f.readlines()\n",
    "for l in lines:\n",
    "    cluster_labels4.append(int(l.strip().split()[0]))\n",
    "f.close()"
   ]
  },
  {
   "cell_type": "code",
   "execution_count": 211,
   "id": "8bac04d9-06a8-4c91-b827-84543537e25c",
   "metadata": {},
   "outputs": [],
   "source": [
    "reprefile = 'active_training_rec/init_representatives_2.txt'    #6000genebackup/\n",
    "#'eer_representatives_'+str(rnd)+'.txt' #'init_representatives_4.txt'    #'uncertainty2_representatives.txt'\n",
    "clusterfile = 'active_training_rec/init_cluster_labels_2.txt'\n",
    "#'eer_cluster_labels_'+str(rnd)+'.txt' #'init_cluster_labels_4.txt'      #'uncertainty2_cluster_labels.txt'\n",
    "\n",
    "f= open(reprefile,'r')\n",
    "lines=f.readlines()\n",
    "representatives2=[]\n",
    "for l in lines:\n",
    "    representatives2.append(int(l.strip().split()[0]))\n",
    "f.close()\n",
    "\n",
    "f= open(clusterfile,'r')\n",
    "cluster_labels2=[]\n",
    "lines=f.readlines()\n",
    "for l in lines:\n",
    "    cluster_labels2.append(int(l.strip().split()[0]))\n",
    "f.close()"
   ]
  },
  {
   "cell_type": "code",
   "execution_count": null,
   "id": "2ca576ab-7c50-4f16-966b-586014d2a48e",
   "metadata": {},
   "outputs": [],
   "source": []
  },
  {
   "cell_type": "code",
   "execution_count": 212,
   "id": "fb96f445-1763-45f3-8760-0dcc240bf9f1",
   "metadata": {},
   "outputs": [],
   "source": [
    "f=open('pids.txt')\n",
    "lines=f.readlines()\n",
    "pids=[]\n",
    "for l in lines:\n",
    "    pids.append(l.strip())\n",
    "f.close()"
   ]
  },
  {
   "cell_type": "code",
   "execution_count": null,
   "id": "4bab26ae-76d6-4954-ba20-e02ab46193f7",
   "metadata": {},
   "outputs": [],
   "source": []
  },
  {
   "cell_type": "code",
   "execution_count": 7,
   "id": "802ffe63-d131-4e5b-8d03-a0e92cefe34b",
   "metadata": {},
   "outputs": [
    {
     "name": "stdout",
     "output_type": "stream",
     "text": [
      "0, 1, 2, 3, 4, 5, 6, 7, 8, 9, 10, 11, 12, 13, 14, 15, 16, 17, 18, 19, 20, 21, 22, 23, 24, \n",
      "6.039978975022677 seconds\n"
     ]
    }
   ],
   "source": [
    "## load \n",
    "import timeit \n",
    "t_start = timeit.default_timer()\n",
    "\n",
    "celltypes = []\n",
    "gts=[]\n",
    "semis=[]\n",
    "\n",
    "for i in range(len(pids)):\n",
    "    pid = pids[i]\n",
    "    adata = hvalldata[np.array(hvalldata.obs['sample_ids'])==pid,:]\n",
    "    celltype = adata.obs['celltype']\n",
    "    x = np.array(adata.X)\n",
    "    #x = np.log1p(x)-\n",
    "    gts.append(x)\n",
    "    \n",
    "    repre = representatives[cluster_labels[i]]\n",
    "    reprepid = pids[repre]\n",
    "    if reprepid==pid:\n",
    "        semis.append(x)\n",
    "    else:\n",
    "        xsem = np.load('semidata/fast'+ reprepid+'_to_'+pid+'.npy') # 6000genebackup/\n",
    "        xsem = xsem*(xsem>10)\n",
    "        semis.append(np.log(xsem+1))\n",
    "        \n",
    "    celltypes.append(celltype)\n",
    "    print(i,end=', ')\n",
    "\n",
    "t_end = timeit.default_timer()\n",
    "print()\n",
    "print(str(t_end-t_start),'seconds')"
   ]
  },
  {
   "cell_type": "code",
   "execution_count": 8,
   "id": "66178d02-a473-4fbc-9c11-75038dc8f972",
   "metadata": {},
   "outputs": [
    {
     "name": "stdout",
     "output_type": "stream",
     "text": [
      "0, 1, 2, 3, 4, 5, 6, 7, 8, 9, 10, 11, 12, 13, 14, 15, 16, 17, 18, 19, 20, 21, 22, 23, 24, "
     ]
    }
   ],
   "source": [
    "celltypes4 = []\n",
    "gts4=[]\n",
    "semis4=[]\n",
    "\n",
    "for i in range(len(pids)):\n",
    "    pid = pids[i]\n",
    "    adata = hvalldata[np.array(hvalldata.obs['sample_ids'])==pid,:]\n",
    "    celltype = adata.obs['celltype']\n",
    "    x = np.array(adata.X)\n",
    "    #x = np.log1p(x)-\n",
    "    gts4.append(x)\n",
    "    \n",
    "    repre = representatives4[cluster_labels4[i]]\n",
    "    reprepid = pids[repre]\n",
    "    if reprepid==pid:\n",
    "        semis4.append(x)\n",
    "    else:\n",
    "        xsem = np.load('semidata/fast'+ reprepid+'_to_'+pid+'.npy') # 6000genebackup/\n",
    "        xsem = xsem*(xsem>10)\n",
    "        semis4.append(np.log(xsem+1))\n",
    "        \n",
    "    celltypes4.append(celltype)\n",
    "    print(i,end=', ')\n"
   ]
  },
  {
   "cell_type": "code",
   "execution_count": 213,
   "id": "e73ce1a4-f136-4fa0-8627-b09aa8140ce6",
   "metadata": {},
   "outputs": [
    {
     "name": "stdout",
     "output_type": "stream",
     "text": [
      "0, 1, 2, 3, 4, 5, 6, 7, 8, 9, 10, 11, 12, 13, 14, 15, 16, 17, 18, 19, 20, 21, 22, 23, 24, "
     ]
    }
   ],
   "source": [
    "celltypes2 = []\n",
    "\n",
    "semis2=[]\n",
    "\n",
    "for i in range(len(pids)):\n",
    "    pid = pids[i]\n",
    "    adata = hvalldata[np.array(hvalldata.obs['sample_ids'])==pid,:]\n",
    "    celltype = adata.obs['celltype']\n",
    "    x = np.array(adata.X)\n",
    "\n",
    "    \n",
    "    repre = representatives2[cluster_labels2[i]]\n",
    "    reprepid = pids[repre]\n",
    "    if reprepid==pid:\n",
    "        semis2.append(x)\n",
    "    else:\n",
    "        xsem = np.load('semidata/fast'+ reprepid+'_to_'+pid+'.npy') # 6000genebackup/\n",
    "        xsem = xsem*(xsem>10)\n",
    "        semis2.append(np.log(xsem+1))\n",
    "        \n",
    "    celltypes2.append(celltype)\n",
    "    print(i,end=', ')"
   ]
  },
  {
   "cell_type": "code",
   "execution_count": 10,
   "id": "3672defc-a810-418f-a512-f2263b7d803f",
   "metadata": {},
   "outputs": [],
   "source": [
    "for i in range(25):\n",
    "    if gts[i].max()>10:\n",
    "        print('gts')\n",
    "    if semis[i].max()>10:\n",
    "        print('semis')\n",
    "    if gts4[i].max()>10:\n",
    "        print('gts4')\n",
    "    if semis4[i].max()>10:\n",
    "        print('semis4')"
   ]
  },
  {
   "cell_type": "code",
   "execution_count": null,
   "id": "a29856d0-2d1f-4462-81f1-1de9fb583ce5",
   "metadata": {},
   "outputs": [],
   "source": []
  },
  {
   "cell_type": "code",
   "execution_count": 11,
   "id": "147111c0-9f44-43de-810a-ab1bf32c0b78",
   "metadata": {},
   "outputs": [],
   "source": [
    "hvmask = np.load('hvmask.npy')\n",
    "setmask = np.load('hvset.npy')"
   ]
  },
  {
   "cell_type": "code",
   "execution_count": 9,
   "id": "859fc3b4-aeed-434e-81b1-b54a1a83a4ca",
   "metadata": {},
   "outputs": [],
   "source": []
  },
  {
   "cell_type": "code",
   "execution_count": null,
   "id": "882db577-c337-49f5-b833-7d4796ca855e",
   "metadata": {},
   "outputs": [],
   "source": []
  },
  {
   "cell_type": "code",
   "execution_count": 12,
   "id": "00de9c08-b23c-40b4-8465-3d335985a750",
   "metadata": {},
   "outputs": [],
   "source": [
    "def deconv(svc,xtest):\n",
    "    ytest = svc.predict((xtest))\n",
    "    return list(ytest)"
   ]
  },
  {
   "cell_type": "code",
   "execution_count": 13,
   "id": "1eee6128-e02b-4f61-8b6b-965ff715efc9",
   "metadata": {},
   "outputs": [
    {
     "name": "stdout",
     "output_type": "stream",
     "text": [
      "372.5364104700275\n"
     ]
    }
   ],
   "source": [
    "from sklearn.neural_network import MLPClassifier\n",
    "from sklearn.neighbors import KNeighborsClassifier\n",
    "#neigh = NearestNeighbors(n_neighbors=1)\n",
    "#neigh.fit(samples)\n",
    "from sklearn.ensemble import RandomForestClassifier\n",
    "from sklearn.datasets import make_classification\n",
    "#RandomForestClassifier(max_depth=2, random_state=0)\n",
    "from sklearn.pipeline import make_pipeline\n",
    "from sklearn.preprocessing import StandardScaler\n",
    "\n",
    "st = timeit.default_timer()\n",
    "linearSVM = MLPClassifier()\n",
    "#linearSVM.fit(((x_train-20)*(x_train>20)), y_train)\n",
    "xtrain=[]\n",
    "ytrain=[]\n",
    "for i in (representatives):\n",
    "    xtrain.append(gts[i])\n",
    "    ytrain.append((celltypes[i]).astype('str'))\n",
    "xtrain = np.concatenate(xtrain,axis=0)\n",
    "ytrain = np.concatenate(ytrain,axis=0)\n",
    "linearSVM.fit((xtrain),ytrain)\n",
    "ed = timeit.default_timer()\n",
    "print(str(ed-st))"
   ]
  },
  {
   "cell_type": "code",
   "execution_count": 299,
   "id": "944a6dfc-a978-453a-be4a-a60fdc289a26",
   "metadata": {},
   "outputs": [
    {
     "name": "stdout",
     "output_type": "stream",
     "text": [
      "262.0022177849896\n"
     ]
    }
   ],
   "source": [
    "st = timeit.default_timer()\n",
    "linearSVM4 = MLPClassifier(hidden_layer_sizes=(200,))\n",
    "#linearSVM.fit(((x_train-20)*(x_train>20)), y_train)\n",
    "xtrain4=[]\n",
    "ytrain4=[]\n",
    "for i in (representatives4):\n",
    "    xtrain4.append(gts4[i])\n",
    "    ytrain4.append((celltypes4[i]).astype('str'))\n",
    "xtrain4 = np.concatenate(xtrain4,axis=0)\n",
    "ytrain4 = np.concatenate(ytrain4,axis=0)\n",
    "linearSVM4.fit((xtrain4),ytrain4)\n",
    "ed = timeit.default_timer()\n",
    "print(str(ed-st))"
   ]
  },
  {
   "cell_type": "code",
   "execution_count": 284,
   "id": "940ce3df-6d91-446e-b853-650aa9d6500a",
   "metadata": {},
   "outputs": [
    {
     "name": "stdout",
     "output_type": "stream",
     "text": [
      "116.28406938898843\n"
     ]
    }
   ],
   "source": [
    "st = timeit.default_timer()\n",
    "linearSVM2 = MLPClassifier(hidden_layer_sizes=(200,))\n",
    "#linearSVM.fit(((x_train-20)*(x_train>20)), y_train)\n",
    "xtrain2=[]\n",
    "ytrain2=[]\n",
    "for i in (representatives2):\n",
    "    xtrain2.append(gts[i])\n",
    "    ytrain2.append((celltypes2[i]).astype('str'))\n",
    "xtrain2 = np.concatenate(xtrain2,axis=0)\n",
    "ytrain2 = np.concatenate(ytrain2,axis=0)\n",
    "linearSVM2.fit((xtrain2),ytrain2)\n",
    "ed = timeit.default_timer()\n",
    "print(str(ed-st))"
   ]
  },
  {
   "cell_type": "code",
   "execution_count": null,
   "id": "c71356ab-7073-4645-8352-e178af27a51d",
   "metadata": {},
   "outputs": [],
   "source": []
  },
  {
   "cell_type": "code",
   "execution_count": 15,
   "id": "0b07ad99-0495-43a0-8eb8-a6075858ee13",
   "metadata": {},
   "outputs": [],
   "source": [
    "pcelltypes = []\n",
    "for i in range(len(pids)):\n",
    "    if i in representatives:\n",
    "        pcelltypes.append(celltypes[i])\n",
    "        continue\n",
    "    pcelltypes.append(list(deconv(linearSVM,semis[i])))\n"
   ]
  },
  {
   "cell_type": "code",
   "execution_count": 300,
   "id": "0dbcbe09-6f90-42da-9140-46a95358079d",
   "metadata": {},
   "outputs": [],
   "source": [
    "pcelltypes4 = []\n",
    "for i in range(len(pids)):\n",
    "    if i in representatives4:\n",
    "        pcelltypes4.append(celltypes4[i])\n",
    "        continue\n",
    "    pcelltypes4.append(list(deconv(linearSVM4,semis4[i])))"
   ]
  },
  {
   "cell_type": "code",
   "execution_count": 285,
   "id": "cdff4b13-9aa9-40ee-b542-367d66e5a66e",
   "metadata": {},
   "outputs": [],
   "source": [
    "pcelltypes2 = []\n",
    "for i in range(len(pids)):\n",
    "    if i in representatives2:\n",
    "        pcelltypes2.append(celltypes2[i])\n",
    "        continue\n",
    "    pcelltypes2.append(list(deconv(linearSVM2,semis2[i])))"
   ]
  },
  {
   "cell_type": "code",
   "execution_count": null,
   "id": "a505399c-bf14-48a9-a79b-ca31b989fd27",
   "metadata": {},
   "outputs": [],
   "source": []
  },
  {
   "cell_type": "code",
   "execution_count": 17,
   "id": "d3d06060-dea2-4d77-98de-64e73b69626d",
   "metadata": {},
   "outputs": [],
   "source": [
    "totaltypes = np.array(['1','2','3','4','5','6','7','8','9','10','11'])"
   ]
  },
  {
   "cell_type": "code",
   "execution_count": 228,
   "id": "c7370065-1fb0-4c48-adfd-bfb9a003a2b8",
   "metadata": {},
   "outputs": [],
   "source": [
    "def prop(gttypes ,semitypes, totaltypes):\n",
    "    pgt = np.zeros(totaltypes.shape)\n",
    "    psemi = np.zeros(totaltypes.shape)\n",
    "    for i in range(len(totaltypes)):\n",
    "        pgt[i] += (np.array(gttypes) == totaltypes[i]).sum()\n",
    "        psemi[i] += (np.array(semitypes) == totaltypes[i]).sum()  ## celltypes2\n",
    "    numgt=pgt\n",
    "    numsemi=psemi\n",
    "    pgt = pgt/pgt.sum()\n",
    "    psemi = psemi/psemi.sum()\n",
    "    pcor,pval = scipy.stats.pearsonr(pgt,psemi)\n",
    "    return pcor,pval,pgt,psemi,numgt,numsemi"
   ]
  },
  {
   "cell_type": "code",
   "execution_count": 229,
   "id": "3b472a06-f0cb-47a7-81c7-a3a49df91fda",
   "metadata": {},
   "outputs": [],
   "source": [
    "def RMSE(p1,p2):\n",
    "    p1 = np.array(p1)\n",
    "    p2 = np.array(p2)\n",
    "    mse = ((p1-p2)**2).mean()\n",
    "    rmse = mse**0.5\n",
    "    return rmse"
   ]
  },
  {
   "cell_type": "code",
   "execution_count": 20,
   "id": "6f1780a2-4008-4aa6-b4e4-db6717319ddd",
   "metadata": {},
   "outputs": [],
   "source": [
    "pcors = []\n",
    "pgts=[]\n",
    "psemis=[]\n",
    "numgts = []\n",
    "numsemis = []\n",
    "prmses = []\n",
    "for i in range(len(pids)):\n",
    "    if i in representatives:\n",
    "        pcors.append(1)\n",
    "        prmses.append(0)\n",
    "        continue\n",
    "    pcor, pval, pgt, psemi, numgt, numsemi = prop(np.array(celltypes[i]).astype('str'),np.array(pcelltypes[i]).astype('str'),totaltypes)\n",
    "    pcors.append(pcor)\n",
    "    pgts.append(pgt)\n",
    "    psemis.append(psemi)\n",
    "    numgts.append(numgt.astype('float'))\n",
    "    numsemis.append(numsemi.astype('float'))\n",
    "    prmses.append(RMSE(pgt,psemi))"
   ]
  },
  {
   "cell_type": "code",
   "execution_count": 301,
   "id": "b4ffc5a3-88a2-43b5-a834-9149f575b3ee",
   "metadata": {},
   "outputs": [],
   "source": [
    "pcors4 = []\n",
    "pgts4=[]\n",
    "psemis4=[]\n",
    "numgts4 = []\n",
    "numsemis4 = []\n",
    "prmses4 = []\n",
    "for i in range(len(pids)):\n",
    "    if i in representatives4:\n",
    "        pcors4.append(1)\n",
    "        prmses4.append(0)\n",
    "        continue\n",
    "    pcor, pval, pgt, psemi, numgt, numsemi = prop(np.array(celltypes4[i]).astype('str'),np.array(pcelltypes4[i]).astype('str'),totaltypes)\n",
    "    pcors4.append(pcor)\n",
    "    pgts4.append(pgt)\n",
    "    psemis4.append(psemi)\n",
    "    numgts4.append(numgt.astype('float'))\n",
    "    numsemis4.append(numsemi.astype('float'))\n",
    "    prmses4.append(RMSE(pgt,psemi))"
   ]
  },
  {
   "cell_type": "code",
   "execution_count": 286,
   "id": "acf1b756-506a-490f-b5e2-0a8d38519409",
   "metadata": {},
   "outputs": [],
   "source": [
    "pcors2 = []\n",
    "pgts2=[]\n",
    "psemis2=[]\n",
    "numgts2 = []\n",
    "numsemis2 = []\n",
    "prmses2 = []\n",
    "for i in range(len(pids)):\n",
    "    if i in representatives2:\n",
    "        pcors2.append(1)\n",
    "        prmses2.append(0)\n",
    "        continue\n",
    "    pcor, pval, pgt, psemi, numgt, numsemi = prop(np.array(celltypes2[i]).astype('str'),np.array(pcelltypes2[i]).astype('str'),totaltypes)\n",
    "    pcors2.append(pcor)\n",
    "    pgts2.append(pgt)\n",
    "    psemis2.append(psemi)\n",
    "    numgts2.append(numgt.astype('float'))\n",
    "    numsemis2.append(numsemi.astype('float'))\n",
    "    prmses2.append(RMSE(pgt,psemi))"
   ]
  },
  {
   "cell_type": "code",
   "execution_count": null,
   "id": "7f962ceb-b3c9-416b-a970-703df99f697a",
   "metadata": {},
   "outputs": [],
   "source": []
  },
  {
   "cell_type": "code",
   "execution_count": null,
   "id": "cef68cc4-3e5a-4933-93b4-462fb6c207f7",
   "metadata": {},
   "outputs": [],
   "source": []
  },
  {
   "cell_type": "code",
   "execution_count": 208,
   "id": "fff5bb47-2e19-4b19-89a2-c0ead2058515",
   "metadata": {},
   "outputs": [],
   "source": [
    "### naive \n",
    "naivecors = []\n",
    "naivermse = []\n",
    "for i in range(len(pids)):\n",
    "    if i in representatives:\n",
    "        naivecors.append(1)\n",
    "        naivermse.append(0)\n",
    "        continue\n",
    "    rep = representatives[cluster_labels[i]]\n",
    "    pcor, pval, pgt, psemi, numgt, numsemi = prop(celltypes[i],celltypes[rep],totaltypes)\n",
    "    naivecors.append(pcor)\n",
    "    naivermse.append(RMSE(pgt,psemi))"
   ]
  },
  {
   "cell_type": "code",
   "execution_count": 302,
   "id": "aff31baa-9c2d-481f-9a78-fbd6e2a6f436",
   "metadata": {},
   "outputs": [],
   "source": [
    "### naive 4\n",
    "naivecors4 = []\n",
    "naivermse4 = []\n",
    "for i in range(len(pids)):\n",
    "    if i in representatives4:\n",
    "        naivecors4.append(1)\n",
    "        naivermse4.append(0)\n",
    "        continue\n",
    "    rep = representatives4[cluster_labels4[i]]\n",
    "    pcor, pval, pgt, psemi, numgt, numsemi = prop(celltypes4[i],celltypes4[rep],totaltypes)\n",
    "    naivecors4.append(pcor)\n",
    "    naivermse4.append(RMSE(pgt,psemi))"
   ]
  },
  {
   "cell_type": "code",
   "execution_count": 287,
   "id": "fc86b75d-91a6-4012-b3db-5ee5f8c8db25",
   "metadata": {},
   "outputs": [],
   "source": [
    "naivecors2 = []\n",
    "naivermse2 = []\n",
    "for i in range(len(pids)):\n",
    "    if i in representatives2:\n",
    "        naivecors2.append(1)\n",
    "        naivermse2.append(0)\n",
    "        continue\n",
    "    rep = representatives2[cluster_labels2[i]]\n",
    "    pcor, pval, pgt, psemi, numgt, numsemi = prop(celltypes2[i],celltypes2[rep],totaltypes)\n",
    "    naivecors2.append(pcor)\n",
    "    naivermse2.append(RMSE(pgt,psemi))"
   ]
  },
  {
   "cell_type": "code",
   "execution_count": null,
   "id": "c470efbb-2016-4937-ace2-019916eae037",
   "metadata": {},
   "outputs": [],
   "source": []
  },
  {
   "cell_type": "markdown",
   "id": "cb65ee63-e0ef-454c-b63c-f86c19adbec6",
   "metadata": {},
   "source": [
    "#### extract single-cell reference and bulk data for other deconv tools"
   ]
  },
  {
   "cell_type": "code",
   "execution_count": 219,
   "id": "ae7b0a1b-b58e-4804-9ea8-efaf3c1a2623",
   "metadata": {},
   "outputs": [],
   "source": [
    "## get single-cell reference\n",
    "\n",
    "# get expression matrix\n",
    "repxs = []\n",
    "for i in representatives2:\n",
    "    repx = ((hvalldata[hvalldata.obs['sample_ids'] == pids[i]].X))\n",
    "    repx = np.exp(repx)-1\n",
    "    repxs.append(repx)\n",
    "repxs = np.concatenate(repxs,axis=0)\n",
    "repxs = np.array(repxs)"
   ]
  },
  {
   "cell_type": "code",
   "execution_count": 220,
   "id": "bcee8739-b0dd-4028-8b8a-7e7feebe1e66",
   "metadata": {},
   "outputs": [],
   "source": [
    "# get labels\n",
    "reflabels = []\n",
    "for i in representatives2:\n",
    "    repdata = hvalldata[hvalldata.obs['sample_ids'] == pids[i]]\n",
    "    rlbs = repdata.obs['celltype']\n",
    "    reflabels.append(list(rlbs))\n",
    "reflabels = np.concatenate(reflabels,axis=0)\n",
    "\n",
    "# get genes\n",
    "genelist = list(hvalldata.var.index)"
   ]
  },
  {
   "cell_type": "code",
   "execution_count": 221,
   "id": "e75abaf8-a498-41a9-937c-9dc0b114f9cc",
   "metadata": {},
   "outputs": [],
   "source": [
    "f=open('hvrefipsc2.txt','w')\n",
    "\n",
    "hvrepxs = np.array(repxs)#[:,hvmask]\n",
    "f.write('GeneSymbol')\n",
    "for i in range(len(reflabels)):\n",
    "    f.write('\\t'+str(reflabels[i]))\n",
    "f.write('\\n')\n",
    "hvgenelist = np.array(genelist)#[hvmask]\n",
    "for i in range(len(hvgenelist)):\n",
    "    f.write(hvgenelist[i])\n",
    "    for j in range(len(reflabels)):\n",
    "        f.write('\\t'+str(hvrepxs[j,i]))\n",
    "    f.write('\\n')\n",
    "\n",
    "f.close()"
   ]
  },
  {
   "cell_type": "code",
   "execution_count": 222,
   "id": "eb47cd23-f895-4ed5-89d7-6003c1b60f6b",
   "metadata": {},
   "outputs": [],
   "source": [
    "f=open('hvreftape2.txt','w')\n",
    "\n",
    "hvrepxs = np.array(repxs)\n",
    "f.write('GeneSymbol')\n",
    "hvgenelist = np.array(genelist)\n",
    "for i in range(len(hvgenelist)):\n",
    "    f.write('\\t'+str(hvgenelist[i]))\n",
    "f.write('\\n')\n",
    "\n",
    "for i in range(len(reflabels)):\n",
    "    f.write(reflabels[i])\n",
    "    for j in range(len(hvgenelist)): \n",
    "        f.write('\\t'+str(hvrepxs[i,j]))\n",
    "    f.write('\\n')\n",
    "\n",
    "f.close()"
   ]
  },
  {
   "cell_type": "code",
   "execution_count": 175,
   "id": "e55c9f59-7ada-421a-b5cf-9dc2c80d8b9b",
   "metadata": {},
   "outputs": [
    {
     "data": {
      "text/plain": [
       "11078"
      ]
     },
     "execution_count": 175,
     "metadata": {},
     "output_type": "execute_result"
    }
   ],
   "source": [
    "len(reflabels)"
   ]
  },
  {
   "cell_type": "code",
   "execution_count": 176,
   "id": "7c470f76-2c54-404a-9850-ce212d35ec97",
   "metadata": {},
   "outputs": [
    {
     "data": {
      "text/plain": [
       "(11078, 6013)"
      ]
     },
     "execution_count": 176,
     "metadata": {},
     "output_type": "execute_result"
    }
   ],
   "source": [
    "hvrepxs.shape"
   ]
  },
  {
   "cell_type": "code",
   "execution_count": 177,
   "id": "9ce2c7a7-fca8-4cee-afdb-980395532e29",
   "metadata": {},
   "outputs": [],
   "source": [
    "f=open('hvbulktape2.txt','w')\n",
    "f.write('GeneSymbol')\n",
    "for i in range(len(hvgenelist)):\n",
    "    f.write('\\t'+hvgenelist[i])\n",
    "f.write('\\n')\n",
    "for i in range(hvbulkdata.X.shape[0]):\n",
    "    f.write(pids[i])\n",
    "    for j in range(len(hvgenelist)):\n",
    "        f.write('\\t' + str(hvbulkdata.X[i,j]))\n",
    "    f.write('\\n')\n",
    "\n",
    "f.close()"
   ]
  },
  {
   "cell_type": "code",
   "execution_count": 236,
   "id": "aa2f1e67-9c00-448a-8ce1-18e65cd16c9a",
   "metadata": {},
   "outputs": [],
   "source": [
    "#alldata = anndata.read_h5ad('gtdata.h5ad')\n",
    "\n",
    "pidlist = []\n",
    "for i in representatives2:\n",
    "    repdata = alldata[alldata.obs['sample_ids'] == pids[i]]\n",
    "    pidlist = pidlist + list(repdata.obs['sample_ids'])\n",
    "    \n",
    "f=open('ref_pids.txt','w')\n",
    "for i in pidlist:\n",
    "    f.write(i+'\\n')\n",
    "f.close()"
   ]
  },
  {
   "cell_type": "code",
   "execution_count": null,
   "id": "2ca198c9-5d8a-486e-98b7-b72862be7a4e",
   "metadata": {},
   "outputs": [],
   "source": []
  },
  {
   "cell_type": "code",
   "execution_count": 179,
   "id": "b0066ee0-b2fc-4fd4-9ac9-ae90542c5482",
   "metadata": {},
   "outputs": [
    {
     "data": {
      "text/plain": [
       "AnnData object with n_obs × n_vars = 25 × 17156\n",
       "    obs: 'pids'\n",
       "    var: 'gene_symbols'"
      ]
     },
     "execution_count": 179,
     "metadata": {},
     "output_type": "execute_result"
    }
   ],
   "source": [
    "bulkdata = anndata.read_h5ad('bulkdata.h5ad')\n",
    "bulkdata"
   ]
  },
  {
   "cell_type": "code",
   "execution_count": 180,
   "id": "6545249f-65bf-4840-8888-9acf3d8999c9",
   "metadata": {},
   "outputs": [
    {
     "data": {
      "text/plain": [
       "ArrayView(180.63872, dtype=float32)"
      ]
     },
     "execution_count": 180,
     "metadata": {},
     "output_type": "execute_result"
    }
   ],
   "source": [
    "hvbulkdata = bulkdata[:,hvmask]\n",
    "hvbulkdata.X.max()"
   ]
  },
  {
   "cell_type": "code",
   "execution_count": 181,
   "id": "a386fe6f-1b61-48ae-be83-3d7837384362",
   "metadata": {},
   "outputs": [],
   "source": [
    "\n",
    "hvgenes = np.array(hvbulkdata.var.index)\n",
    "f=open('hvbulk.txt','w')\n",
    "f.write('Gene')\n",
    "for i in range(len(pids)):\n",
    "    f.write('\\t'+str(pids[i]))\n",
    "f.write('\\n')\n",
    "for i in range(len(hvgenes)):\n",
    "    f.write(hvgenes[i])\n",
    "    for j in range(len(pids)):\n",
    "        f.write('\\t'+str(hvbulkdata.X[j,i]))\n",
    "    f.write('\\n')\n",
    "\n",
    "f.close()"
   ]
  },
  {
   "cell_type": "markdown",
   "id": "5f977125-23d5-4439-953c-31d2d4ba7feb",
   "metadata": {},
   "source": [
    "#### end of extracting data"
   ]
  },
  {
   "cell_type": "markdown",
   "id": "3ad58a01-7022-40ed-a7b9-79fa23663532",
   "metadata": {},
   "source": [
    "### start loading results and comparison"
   ]
  },
  {
   "cell_type": "code",
   "execution_count": 182,
   "id": "4b87f63c-5010-479a-a374-bd74c24338a8",
   "metadata": {},
   "outputs": [],
   "source": [
    "#tapedf.to_numpy()[:,1:]"
   ]
  },
  {
   "cell_type": "code",
   "execution_count": 303,
   "id": "1d4bc575-de54-4102-931d-534e69f5d78b",
   "metadata": {},
   "outputs": [],
   "source": [
    "import pandas as pd\n",
    "tapedf = pd.read_csv('tageresult4.csv')\n",
    "ptape = []\n",
    "for i in range(len(pids)):\n",
    "    if i in representatives:\n",
    "        ptape.append(1.0)\n",
    "        continue\n",
    "    pid=pids[i]\n",
    "    #pid = pids[i].replace('-','.')\n",
    "    bprp = np.array((tapedf.to_numpy()[:,1:])[i])\n",
    "    bprp = np.array((list(bprp)))\n",
    "    #bprp = bprp[ [0,1,2,3,4,5,6,7,9,10,8]]\n",
    "    ptape.append(bprp)"
   ]
  },
  {
   "cell_type": "code",
   "execution_count": 304,
   "id": "bcae6cc1-84d5-47ef-b2f6-7271e2be1104",
   "metadata": {},
   "outputs": [
    {
     "data": {
      "text/plain": [
       "25"
      ]
     },
     "execution_count": 304,
     "metadata": {},
     "output_type": "execute_result"
    }
   ],
   "source": [
    "len(ptape)"
   ]
  },
  {
   "cell_type": "code",
   "execution_count": 305,
   "id": "9ad2f339-074b-4c8d-9035-fa948e5d043d",
   "metadata": {},
   "outputs": [
    {
     "data": {
      "text/plain": [
       "array(['1', '2', '3', '4', '5', '6', '7', '8', '9', '10', '11'],\n",
       "      dtype='<U2')"
      ]
     },
     "execution_count": 305,
     "metadata": {},
     "output_type": "execute_result"
    }
   ],
   "source": [
    "totaltypes"
   ]
  },
  {
   "cell_type": "code",
   "execution_count": 306,
   "id": "223ec477-aeff-4947-a209-48434c9c8679",
   "metadata": {},
   "outputs": [],
   "source": [
    "tapecors = []\n",
    "tapermses = []\n",
    "\n",
    "for i in range(len(pids)):\n",
    "    if i in representatives:\n",
    "        tapecors.append(1)\n",
    "        tapermses.append(0)\n",
    "        continue\n",
    "    pid = pids[i]\n",
    "    gttypes = list(hvalldata[hvalldata.obs['sample_ids']==pid].obs['celltype'])\n",
    "    pgt = np.zeros(totaltypes.shape)\n",
    "    for j in range(len(totaltypes)):\n",
    "        pgt[j] += (np.array(gttypes) == totaltypes[j]).sum()\n",
    "    numgt=pgt\n",
    "    pgt = pgt/pgt.sum()\n",
    "    \n",
    "    pcor,pval = scipy.stats.pearsonr(pgt,ptape[i])\n",
    "    tapecors.append(pcor)\n",
    "    tapermses.append(RMSE(pgt,ptape[i]))"
   ]
  },
  {
   "cell_type": "code",
   "execution_count": null,
   "id": "d4cf6cc0-3097-4069-b12b-157bd50e5a82",
   "metadata": {},
   "outputs": [],
   "source": []
  },
  {
   "cell_type": "code",
   "execution_count": 307,
   "id": "b9e0c201-c920-4990-ac4d-89ba9a5e2117",
   "metadata": {},
   "outputs": [],
   "source": [
    "sdf = pd.read_csv('scadenresult4.csv')\n",
    "pscaden = []\n",
    "for i in range(len(pids)):\n",
    "    if i in representatives:\n",
    "        pscaden.append(1.0)\n",
    "        continue\n",
    "    pid=pids[i]\n",
    "    #pid = pids[i].replace('-','.')\n",
    "    bprp = np.array((sdf.to_numpy()[:,1:])[i])\n",
    "    bprp = np.array((list(bprp)))\n",
    "    #bprp = bprp[ [0,1,2,3,4,5,6,7,9,10,8]]\n",
    "    pscaden.append(bprp)"
   ]
  },
  {
   "cell_type": "code",
   "execution_count": 308,
   "id": "d3700b56-001e-4988-afb2-bfc86b739c3a",
   "metadata": {},
   "outputs": [],
   "source": [
    "scadencors = []\n",
    "scadenrmses = []\n",
    "\n",
    "for i in range(len(pids)):\n",
    "    if i in representatives:\n",
    "        scadencors.append(1)\n",
    "        scadenrmses.append(0)\n",
    "        continue\n",
    "    pid = pids[i]\n",
    "    gttypes = list(hvalldata[hvalldata.obs['sample_ids']==pid].obs['celltype'])\n",
    "    pgt = np.zeros(totaltypes.shape)\n",
    "    for j in range(len(totaltypes)):\n",
    "        pgt[j] += (np.array(gttypes) == totaltypes[j]).sum()\n",
    "    numgt=pgt\n",
    "    pgt = pgt/pgt.sum()\n",
    "    \n",
    "    pcor,pval = scipy.stats.pearsonr(pgt,pscaden[i])\n",
    "    scadencors.append(pcor)\n",
    "    scadenrmses.append(RMSE(pgt,pscaden[i]))"
   ]
  },
  {
   "cell_type": "code",
   "execution_count": null,
   "id": "a011ea03-8acd-401d-bfee-72e6267faeff",
   "metadata": {},
   "outputs": [],
   "source": []
  },
  {
   "cell_type": "code",
   "execution_count": null,
   "id": "665fdabc-2fda-4c4f-82de-f0bd63ecf24b",
   "metadata": {},
   "outputs": [],
   "source": []
  },
  {
   "cell_type": "code",
   "execution_count": 310,
   "id": "843bdb2a-32e9-4787-a588-2441b27780b9",
   "metadata": {},
   "outputs": [],
   "source": [
    "## cibersortx\n",
    "\n",
    "f = open('CIBERSORTx_ipsc4refs.txt','r')\n",
    "lines = f.readlines()\n",
    "f.close()\n",
    "\n",
    "ciberprops = {}\n",
    "for i in range(1,len(lines)):\n",
    "    l=lines[i].split('\\t')\n",
    "    pid = l[0]\n",
    "    prp = []\n",
    "    for j in range(1,len(l)-3):\n",
    "        prp.append(float(l[j]))\n",
    "    ciberprops[pid] = prp\n",
    "    "
   ]
  },
  {
   "cell_type": "code",
   "execution_count": null,
   "id": "5d8dedc0-26a5-48b4-975d-20a90bf59645",
   "metadata": {},
   "outputs": [],
   "source": []
  },
  {
   "cell_type": "code",
   "execution_count": 311,
   "id": "e49a27be-bd56-451e-976f-2bc009a7c044",
   "metadata": {},
   "outputs": [
    {
     "data": {
      "text/plain": [
       "array(['1', '2', '3', '4', '5', '6', '7', '8', '9', '10', '11'],\n",
       "      dtype='<U2')"
      ]
     },
     "execution_count": 311,
     "metadata": {},
     "output_type": "execute_result"
    }
   ],
   "source": [
    "totaltypes"
   ]
  },
  {
   "cell_type": "code",
   "execution_count": 312,
   "id": "8e6a9844-8857-4aaf-a068-4384b4237fd0",
   "metadata": {},
   "outputs": [
    {
     "data": {
      "text/plain": [
       "['Mixture',\n",
       " '1',\n",
       " '3',\n",
       " '5',\n",
       " '2',\n",
       " '9',\n",
       " '7',\n",
       " '4',\n",
       " '8',\n",
       " '11',\n",
       " '6',\n",
       " '10',\n",
       " 'P-value',\n",
       " 'Correlation',\n",
       " 'RMSE\\n']"
      ]
     },
     "execution_count": 312,
     "metadata": {},
     "output_type": "execute_result"
    }
   ],
   "source": [
    "lines[0].split('\\t')"
   ]
  },
  {
   "cell_type": "code",
   "execution_count": 192,
   "id": "32041627-e3fd-485a-9ffd-2bd3132d0c45",
   "metadata": {
    "tags": []
   },
   "outputs": [],
   "source": [
    "cibertype = np.array([1,3,5,2,9,7,4,8,11,6,10])"
   ]
  },
  {
   "cell_type": "code",
   "execution_count": null,
   "id": "c68d10d1-ba00-4ac7-b036-4a59d3ca39f3",
   "metadata": {},
   "outputs": [],
   "source": [
    "cibertype = np.array([1,3,5,2,9,7,4,8,6,10])"
   ]
  },
  {
   "cell_type": "code",
   "execution_count": 313,
   "id": "7724218a-ae07-4138-b68b-b7a130d21e79",
   "metadata": {},
   "outputs": [],
   "source": [
    "cibercors = []\n",
    "ciberrmses = []\n",
    "\n",
    "cibersortorder = [0,3,1,6,2,8,5,7,4,9,10]\n",
    "cibersortorder = [0,3,1,6,2,9,5,7,4,10,8]\n",
    "\n",
    "\n",
    "for i in range(len(pids)):\n",
    "    if i in representatives:\n",
    "        cibercors.append(1)\n",
    "        ciberrmses.append(0)\n",
    "        continue\n",
    "    pid = pids[i]\n",
    "    \n",
    "    gttypes = list(hvalldata[hvalldata.obs['sample_ids']==pid].obs['celltype'])\n",
    "    \n",
    "    pgt = np.zeros(totaltypes.shape)\n",
    "    for j in range(len(totaltypes)):\n",
    "        pgt[j] += (np.array(gttypes) == totaltypes[j]).sum()\n",
    "    numgt=pgt\n",
    "    pgt = pgt/pgt.sum()\n",
    "    \n",
    "    #pcibersort = np.array(list(np.array(ciberprops[pid])) + [0] )\n",
    "    pcibersort = np.array(ciberprops[pid])\n",
    "    pcibersort = np.array(list(pcibersort[cibersortorder]))\n",
    "    pcor,pval = scipy.stats.pearsonr(pgt,pcibersort)\n",
    "    cibercors.append(pcor)\n",
    "    ciberrmses.append(RMSE(pgt,pcibersort))"
   ]
  },
  {
   "cell_type": "code",
   "execution_count": 314,
   "id": "7941a1e1-e6d7-40ac-848a-d17fe0b0797c",
   "metadata": {},
   "outputs": [
    {
     "data": {
      "text/plain": [
       "0.5855979694165029"
      ]
     },
     "execution_count": 314,
     "metadata": {},
     "output_type": "execute_result"
    }
   ],
   "source": [
    "np.mean(cibercors)"
   ]
  },
  {
   "cell_type": "code",
   "execution_count": 315,
   "id": "79de0e0c-cd02-40c1-babf-bdeda39445dc",
   "metadata": {
    "tags": []
   },
   "outputs": [
    {
     "name": "stdout",
     "output_type": "stream",
     "text": [
      "iMGL_D2_rep3_TPM\n",
      "iMGL_T0901317_30nM_rep1_TPM\n",
      "iMGL_D0_rep2_TPM\n",
      "iMGL_DMSO_rep1_TPM\n",
      "iMGL_D3_rep2_TPM\n",
      "iMGL_GW3965_300nM_rep1_TPM\n",
      "iMGL_D4_rep2_TPM\n",
      "iMGL_T0901317_100nM_rep1_TPM\n"
     ]
    }
   ],
   "source": [
    "for i in representatives:\n",
    "    print(pids[i])"
   ]
  },
  {
   "cell_type": "code",
   "execution_count": 316,
   "id": "52b4cd8e-e243-4d5f-9c96-f62c77cf3734",
   "metadata": {
    "tags": []
   },
   "outputs": [],
   "source": [
    "# bisque\n",
    "import pandas as pd\n",
    "df = pd.read_csv('bisque_est_1111_4refs.csv',sep=' ')\n",
    "pbis = []\n",
    "rmsebis =[ ]\n",
    "for i in range(len(pids)):\n",
    "    if i in representatives:\n",
    "        pbis.append(1.0)\n",
    "        continue\n",
    "    pid=pids[i]\n",
    "    #pid = pids[i].replace('-','.')\n",
    "    bprp = np.array(df[pid])\n",
    "    bprp = np.array((list(bprp)))\n",
    "    #bprp = bprp[ [0,1,2,3,4,5,6,7,9,10,8]]\n",
    "    pbis.append(bprp)"
   ]
  },
  {
   "cell_type": "code",
   "execution_count": 317,
   "id": "6e043736-0d99-4c3f-b1e7-71fc1fe0169b",
   "metadata": {},
   "outputs": [
    {
     "data": {
      "text/plain": [
       "25"
      ]
     },
     "execution_count": 317,
     "metadata": {},
     "output_type": "execute_result"
    }
   ],
   "source": [
    "len(pcors)"
   ]
  },
  {
   "cell_type": "code",
   "execution_count": 318,
   "id": "dd52a8ba-a0cc-49b8-bb67-c0b7dc1caae1",
   "metadata": {
    "tags": []
   },
   "outputs": [],
   "source": [
    "biscor = []\n",
    "bisrmse = []\n",
    "for i in range(len(pids)):\n",
    "    if i in representatives:\n",
    "        biscor.append(1)\n",
    "        bisrmse.append(0)\n",
    "        continue\n",
    "    pid = pids[i]\n",
    "    gttypes = list(hvalldata[hvalldata.obs['sample_ids']==pid].obs['celltype'])\n",
    "    pgt = np.zeros(totaltypes.shape)\n",
    "    for j in range(len(totaltypes)):\n",
    "        pgt[j] += (np.array(gttypes) == totaltypes[j]).sum()\n",
    "    numgt=pgt\n",
    "    pgt = pgt/pgt.sum()\n",
    "    \n",
    "    pcor,pval = scipy.stats.pearsonr(pgt,pbis[i])\n",
    "    biscor.append(pcor)\n",
    "    bisrmse.append(RMSE(pgt,pbis[i]))"
   ]
  },
  {
   "cell_type": "code",
   "execution_count": 354,
   "id": "49195431-79b6-48a8-b744-21dfe1a4c671",
   "metadata": {
    "tags": []
   },
   "outputs": [
    {
     "name": "stdout",
     "output_type": "stream",
     "text": [
      "between semi 8 and naive 8 76.0 0.5094417045583245\n",
      "between semi 1b and naive 1b 170.0 0.02909313623992563\n",
      "between semi 1b and bisque 137.0 0.22744442234454088\n",
      "between semi 1b and ciber 221.0 0.00012273898571880915\n",
      "between semi 1b and tape 217.0 0.008135457397187369\n",
      "between semi 1b and scaden 179.0 0.10619635031717001\n"
     ]
    }
   ],
   "source": [
    "## wilcox for p cor\n",
    "\n",
    "\n",
    "pcor1b = pcors4\n",
    "prmses1b = prmses4\n",
    "naivecors1b = naivecors4\n",
    "naivermse1b = naivermse4\n",
    "\n",
    "res_semi_naive = wilcoxon(x=pcors, y=naivecors, alternative='greater')\n",
    "print('between semi 8 and naive 8',res_semi_naive.statistic, res_semi_naive.pvalue)\n",
    "\n",
    "\n",
    "res_semi_naive = wilcoxon(x=pcor1b, y=naivecors1b, alternative='greater')\n",
    "print('between semi 1b and naive 1b',res_semi_naive.statistic, res_semi_naive.pvalue)\n",
    "\n",
    "\n",
    "res_semi6_bisque = wilcoxon(x=pcor1b, y=biscor, alternative='greater')\n",
    "print('between semi 1b and bisque',res_semi6_bisque.statistic, res_semi6_bisque.pvalue)\n",
    "\n",
    "\n",
    "res_semi6_ciber = wilcoxon(x=pcor1b, y=cibercors, alternative='greater')\n",
    "print('between semi 1b and ciber',res_semi6_ciber.statistic, res_semi6_ciber.pvalue)\n",
    "\n",
    "\n",
    "res = wilcoxon(x=pcors2, y=tapecors, alternative='greater')\n",
    "print('between semi 1b and tape',res.statistic, res.pvalue)\n",
    "\n",
    "res = wilcoxon(x=pcors2, y=scadencors, alternative='greater')\n",
    "print('between semi 1b and scaden',res.statistic, res.pvalue)\n",
    "\n",
    "\n",
    "\n",
    "## between semi 28 and sesmi 4\n",
    "#res_semi28_semi4 = wilcoxon(x=pcors, y=pcibercor, alternative='greater')\n",
    "#print('between semi 28 and semi 4',res_semi28_semi4.statistic, res_semi28_semi4.pvalue)\n"
   ]
  },
  {
   "cell_type": "code",
   "execution_count": 320,
   "id": "553f6e6b-754d-47c1-a10e-33174392b540",
   "metadata": {},
   "outputs": [],
   "source": [
    "import mycolorpy"
   ]
  },
  {
   "cell_type": "code",
   "execution_count": 321,
   "id": "a71d3809-4ba2-45c1-8206-bb509588eeef",
   "metadata": {},
   "outputs": [
    {
     "data": {
      "text/plain": [
       "0.7880374632883326"
      ]
     },
     "execution_count": 321,
     "metadata": {},
     "output_type": "execute_result"
    }
   ],
   "source": [
    "np.mean(pcors2)"
   ]
  },
  {
   "cell_type": "code",
   "execution_count": 322,
   "id": "fe454b7d-494a-4a44-9546-ecc26316740f",
   "metadata": {},
   "outputs": [
    {
     "data": {
      "text/plain": [
       "0.7729039339541227"
      ]
     },
     "execution_count": 322,
     "metadata": {},
     "output_type": "execute_result"
    }
   ],
   "source": [
    "np.mean(naivecors2)"
   ]
  },
  {
   "cell_type": "code",
   "execution_count": 323,
   "id": "fd11d35a-0628-49ec-a8a8-f1663dbe17bb",
   "metadata": {},
   "outputs": [
    {
     "data": {
      "text/plain": [
       "['#8dd3c7', '#bebada', '#80b1d3', '#fccde5', '#bc80bd', '#ffed6f']"
      ]
     },
     "execution_count": 323,
     "metadata": {},
     "output_type": "execute_result"
    }
   ],
   "source": [
    "import matplotlib\n",
    "from mycolorpy import colorlist as mcp\n",
    "#cmap = matplotlib.cm.get_cmap('Pastel2')\n",
    "mcp.gen_color(cmap=\"Set3\",n=6)"
   ]
  },
  {
   "cell_type": "raw",
   "id": "73feabea-455a-42ac-8da3-d9c16f723be1",
   "metadata": {},
   "source": [
    "import matplotlib.pyplot as plt\n",
    "import numpy as np\n",
    "\n",
    "# Sample data\n",
    "np.random.seed(10)\n",
    "data = np.random.normal(100, 20, 200)\n",
    "\n",
    "# Create a boxplot\n",
    "fig, ax = plt.subplots()\n",
    "boxprops = dict(linestyle='-', linewidth=3, color='darkgoldenrod')\n",
    "meanlineprops = dict(linestyle='-', linewidth=2.5, color='purple')\n",
    "\n",
    "# Creating a box plot with mean line\n",
    "bp = ax.boxplot(data, meanline=True, showmeans=True, boxprops=boxprops, meanprops=meanlineprops)\n",
    "\n",
    "# Hiding the median line\n",
    "for median in bp['medians']:\n",
    "    median.set_color('none')  # Set median line color to none (effectively hiding it)\n",
    "\n",
    "plt.show()"
   ]
  },
  {
   "cell_type": "code",
   "execution_count": 355,
   "id": "6e0db433-dd79-4316-8bb9-ac26f8b970b9",
   "metadata": {},
   "outputs": [
    {
     "data": {
      "image/png": "[encoded data removed]",
      "text/plain": [
       "<Figure size 640x480 with 1 Axes>"
      ]
     },
     "metadata": {},
     "output_type": "display_data"
    }
   ],
   "source": [
    "fig, ax = plt.subplots()\n",
    "\n",
    "boxprops = dict(linestyle='-', linewidth=3, color='darkgoldenrod')\n",
    "meanlineprops = dict(linestyle='-', linewidth=1.5, color='darkgoldenrod')\n",
    "\n",
    "# Plot the boxplots\n",
    "#boxplot = ax.boxplot([pcors, naivecors, pcors2, naivecors2, cibercors, biscor, tapecors,scadencors], patch_artist=True,showmeans = True, meanline=True)\n",
    "\n",
    "boxplot = ax.boxplot([pcors, naivecors, pcors4, naivecors4, cibercors, biscor,scadencors,tapecors], meanline=True, showmeans=True,patch_artist=True, meanprops=meanlineprops)\n",
    "\n",
    "\n",
    "# Define the colors for the boxes\n",
    "box_colors = mcp.gen_color(cmap=\"Set3\",n=6)\n",
    "\n",
    "box_colors = ['lightblue', 'lightgreen', 'lightyellow', 'lightpink', 'lightgray']\n",
    "set3 = plt.get_cmap('Set3')\n",
    "box_colors = set3.colors\n",
    "\n",
    "# Iterate over each box and set the facecolor\n",
    "for box, color in zip(boxplot['boxes'], box_colors):\n",
    "    box.set(facecolor=color)\n",
    "\n",
    "for median in boxplot['medians']:\n",
    "    median.set_color('none')  \n",
    "    \n",
    "    \n",
    "# Add axis labels and title\n",
    "#ax.set_xlabel('Method')\n",
    "ax.set_ylabel('Pearson Correlation')\n",
    "#ax.set_title('Deconvolution Performance Comparison')\n",
    "\n",
    "# Add x-axis tick labels\n",
    "ax.set_xticklabels(['Semi(8)', 'Naive(8)','Semi', 'Naive','CIBERSORTx','Bisque','scaden','tape'])\n",
    "ax.set_ylim(0,1)\n",
    "# Display the plot\n",
    "plt.savefig('results/1111deconv_pcorr.pdf')\n",
    "plt.show()\n"
   ]
  },
  {
   "cell_type": "code",
   "execution_count": 353,
   "id": "76d98dd1-41b6-46f6-841b-bc77b7f64a43",
   "metadata": {},
   "outputs": [
    {
     "name": "stdout",
     "output_type": "stream",
     "text": [
      "between semi 8 and naive 8 99.0 0.8565863353777812\n",
      "between semi 1b and naive 1b 82.0 0.12213476648501465\n",
      "between semi 1b and bisque2 100.0 0.29503190122886946\n",
      "between semi 1b and ciber 20.0 0.0004511273172462427\n",
      "between semi 1b and tape 23.0 0.000652034910446923\n",
      "between semi 1b and scaden 48.0 0.009484455517414609\n"
     ]
    }
   ],
   "source": [
    "## wilcox for rmse 2\n",
    "\n",
    "\n",
    "\n",
    "res_semi_naive = wilcoxon(x=prmses, y=naivermse, alternative='less')\n",
    "print('between semi 8 and naive 8',res_semi_naive.statistic, res_semi_naive.pvalue)\n",
    "\n",
    "res_semi_naive = wilcoxon(x=prmses1b, y=naivermse1b, alternative='less')\n",
    "print('between semi 1b and naive 1b',res_semi_naive.statistic, res_semi_naive.pvalue)\n",
    "\n",
    "res_semi6_bisque = wilcoxon(x=prmses1b, y=bisrmse, alternative='less')\n",
    "print('between semi 1b and bisque2',res_semi6_bisque.statistic, res_semi6_bisque.pvalue)\n",
    "\n",
    "\n",
    "res_semi6_ciber = wilcoxon(x=prmses1b, y=ciberrmses, alternative='less')\n",
    "print('between semi 1b and ciber',res_semi6_ciber.statistic, res_semi6_ciber.pvalue)\n",
    "\n",
    "res = wilcoxon(x=prmses1b, y=tapermses, alternative='less')\n",
    "print('between semi 1b and tape',res.statistic, res.pvalue)\n",
    "\n",
    "res = wilcoxon(x=prmses1b, y=scadenrmses, alternative='less')\n",
    "print('between semi 1b and scaden',res.statistic, res.pvalue)\n",
    "\n"
   ]
  },
  {
   "cell_type": "code",
   "execution_count": 349,
   "id": "4da2b3ad-668d-4f1d-9ea7-40aaef5a50ca",
   "metadata": {},
   "outputs": [
    {
     "data": {
      "image/png": "[encoded data removed]",
      "text/plain": [
       "<Figure size 640x480 with 1 Axes>"
      ]
     },
     "metadata": {},
     "output_type": "display_data"
    }
   ],
   "source": [
    "fig, ax = plt.subplots()\n",
    "\n",
    "# Plot the boxplots\n",
    "#boxplot = ax.boxplot([prmses, naivermse,prmses2, naivermse2,ciberrmses, bisrmse,tapermses,scadenrmses], patch_artist=True,showmeans = True, meanline=True)\n",
    "boxplot = ax.boxplot([prmses, naivermse,prmses4, naivermse4,ciberrmses, bisrmse,scadenrmses,tapermses], meanline=True, showmeans=True,patch_artist=True, meanprops=meanlineprops)\n",
    "\n",
    "for median in boxplot['medians']:\n",
    "    median.set_color('none')  \n",
    "    \n",
    "\n",
    "# Define the colors for the boxes\n",
    "'''box_colors = ['#a6cee3',\n",
    " '#1f78b4',\n",
    " '#b2df8a',\n",
    " '#fb9a99',\n",
    " '#e31a1c',\n",
    " '#fdbf6f',\n",
    " '#cab2d6',\n",
    " '#6a3d9a',\n",
    " '#ffff99',\n",
    " '#b15928']'''\n",
    "#['lightblue', 'lightgreen', 'lightyellow', 'lightpink', 'lightgray']\n",
    "set3 = plt.get_cmap('Set3')\n",
    "box_colors = set3.colors\n",
    "# Iterate over each box and set the facecolor\n",
    "for box, color in zip(boxplot['boxes'], box_colors):\n",
    "    box.set(facecolor=color)\n",
    "\n",
    "# Add axis labels and title\n",
    "#ax.set_xlabel('Method')\n",
    "ax.set_ylabel('RMSE')\n",
    "#ax.set_title('Deconvolution Performance Comparison')\n",
    "\n",
    "# Add x-axis tick labels\n",
    "#ax.set_xticklabels(['Semi', 'Naive','CIBERSORTx','Bisque'])\n",
    "ax.set_xticklabels(['Semi(8)', 'Naive(8)','Semi', 'Naive','CIBERSORTx','Bisque','scaden','tape'])\n",
    "ax.set_ylim(0,0.25)\n",
    "# Display the plot\n",
    "plt.savefig('results/1111deconv_rmse.pdf')\n",
    "plt.show()"
   ]
  },
  {
   "cell_type": "code",
   "execution_count": null,
   "id": "b230a35d-9ab8-401e-83c2-05751e94f31a",
   "metadata": {},
   "outputs": [],
   "source": []
  },
  {
   "cell_type": "code",
   "execution_count": null,
   "id": "474deacb-0893-4f39-9611-b3811db04e93",
   "metadata": {},
   "outputs": [],
   "source": []
  },
  {
   "cell_type": "code",
   "execution_count": null,
   "id": "f0c0b856-6f1b-4eeb-8b51-3387916ca4de",
   "metadata": {},
   "outputs": [],
   "source": []
  }
 ],
 "metadata": {
  "kernelspec": {
   "display_name": "deep",
   "language": "python",
   "name": "deep"
  },
  "language_info": {
   "codemirror_mode": {
    "name": "ipython",
    "version": 3
   },
   "file_extension": ".py",
   "mimetype": "text/x-python",
   "name": "python",
   "nbconvert_exporter": "python",
   "pygments_lexer": "ipython3",
   "version": "3.9.13"
  }
 },
 "nbformat": 4,
 "nbformat_minor": 5
}
